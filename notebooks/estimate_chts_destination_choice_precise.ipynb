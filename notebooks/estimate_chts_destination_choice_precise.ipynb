{
 "cells": [
  {
   "cell_type": "code",
   "execution_count": 2,
   "id": "14834cc8",
   "metadata": {},
   "outputs": [],
   "source": [
    "import os\n",
    "import pandas as pd\n",
    "from choicemodels import MultinomialLogit, MultinomialLogitResults\n",
    "from choicemodels.tools import MergedChoiceTable\n",
    "import pandana as pdna"
   ]
  },
  {
   "cell_type": "code",
   "execution_count": 3,
   "id": "21fe8e39",
   "metadata": {},
   "outputs": [],
   "source": [
    "import numpy as np"
   ]
  },
  {
   "cell_type": "code",
   "execution_count": 4,
   "id": "80e32540",
   "metadata": {},
   "outputs": [],
   "source": [
    "sfbay_counties = [1, 13, 41, 55, 75, 81, 85, 95, 97]"
   ]
  },
  {
   "cell_type": "markdown",
   "id": "f295532e",
   "metadata": {},
   "source": [
    "# Load CHTS Data"
   ]
  },
  {
   "cell_type": "code",
   "execution_count": 5,
   "id": "e2103a68",
   "metadata": {},
   "outputs": [],
   "source": [
    "data_dir = '/home/mgardner/chts-2012/data'\n",
    "chts_persons = pd.read_csv(os.path.join(data_dir, 'Deliv_PER.csv'), low_memory=False)\n",
    "chts_persons_lookup = pd.read_csv(os.path.join(data_dir, 'LookUp_PER.csv'))\n",
    "chts_households = pd.read_csv(os.path.join(data_dir, 'Deliv_HH.csv'), low_memory=False)\n",
    "chts_households_lookup = pd.read_csv(os.path.join(data_dir, 'LookUp_Home.csv'))\n",
    "acts = pd.read_csv(os.path.join(data_dir, 'Deliv_ACTIVITY.csv'))\n",
    "places = pd.read_csv(os.path.join(data_dir, 'Deliv_PLACE.csv'), low_memory=False)\n",
    "places_lookup = pd.read_csv(os.path.join(data_dir, 'LookUp_PLACE.csv'), low_memory=False)"
   ]
  },
  {
   "cell_type": "markdown",
   "id": "392e5ca1",
   "metadata": {},
   "source": [
    "#### Population Data"
   ]
  },
  {
   "cell_type": "code",
   "execution_count": 6,
   "id": "3b969fd6",
   "metadata": {},
   "outputs": [],
   "source": [
    "chts_persons = pd.merge(\n",
    "    chts_persons.set_index(['SAMPN','PERNO']),\n",
    "    chts_persons_lookup.set_index(['SAMPN','PERNO']),\n",
    "    left_index=True, right_index=True,\n",
    "    suffixes=('_persons', '_lookup')).reset_index()\n",
    "\n",
    "chts_persons = pd.merge(\n",
    "    chts_persons.set_index(['SAMPN']),\n",
    "    chts_households_lookup.set_index(['SAMPN']),\n",
    "    left_index=True, right_index=True).reset_index()"
   ]
  },
  {
   "cell_type": "markdown",
   "id": "377cc39c",
   "metadata": {},
   "source": [
    "#### Restrict to Bay Area Residents"
   ]
  },
  {
   "cell_type": "code",
   "execution_count": 7,
   "id": "33864651",
   "metadata": {},
   "outputs": [],
   "source": [
    "chts_persons = chts_persons[chts_persons['HCTFIP'].isin(sfbay_counties)].reset_index()"
   ]
  },
  {
   "cell_type": "code",
   "execution_count": 8,
   "id": "ed2312a0",
   "metadata": {},
   "outputs": [
    {
     "data": {
      "text/plain": [
       "(24030, 188)"
      ]
     },
     "execution_count": 8,
     "metadata": {},
     "output_type": "execute_result"
    }
   ],
   "source": [
    "chts_persons.shape"
   ]
  },
  {
   "cell_type": "markdown",
   "id": "70d216ef",
   "metadata": {},
   "source": [
    "#### Discretionary Activities"
   ]
  },
  {
   "cell_type": "markdown",
   "id": "075648c2",
   "metadata": {},
   "source": [
    "- 1: PERSONAL ACTIVITIES (SLEEPING, PERSONAL CARE, LEISURE, CHORES)\n",
    "- 4: EXERCISE (WITH OR WITHOUT EQUIPMENT)/PLAYING SPORTS\n",
    "- 7: USING COMPUTER/TELEPHONE/CELL OR SMART PHONE OR OTHER COMMUNICATIONS DEVICE FOR PERSONAL ACTIVITIES\n",
    "- 13: NON-WORK RELATED ACTIVITIES (SOCIAL CLUBS, ETC)\n",
    "- 14: EXERCISE/SPORTS\n",
    "- 15: VOLUNTEER WORK/ACTIVITIES\n",
    "- 23: DRIVE THROUGH MEALS (SNACKS, COFFEE, ETC.)\n",
    "- 24: DRIVE THROUGH OTHER (ATM, BANK)\n",
    "- 26: SERVICE PRIVATE VEHICLE (GAS, OIL, LUBE, REPAIRS)\n",
    "- 27: ROUTINE SHOPPING (GROCERIES, CLOTHING, CONVENIENCE STORE, HH MAINTENANCE)\n",
    "- 28: SHOPPING FOR MAJOR PURCHASES OR SPECIALTY ITEMS (APPLIANCE, ELECTRONICS, NEW VEHICLE, MAJORHH REPAIRS)\n",
    "- 29: HOUSEHOLD ERRANDS (BANK, DRY CLEANING, ETC.)\n",
    "- 30: PERSONAL BUSINESS (VISIT GOVERNMENT OFFICE, ATTORNEY, ACCOUNTANT)\n",
    "- 31: EAT MEAL AT RESTAURANT/DINER\n",
    "- 32: HEALTH CARE (DOCTOR, DENTIST, EYE CARE, CHIROPRACTOR, VETERINARIAN)\n",
    "- 33: CIVIC/RELIGIOUS ACTIVITIES\n",
    "- 34: OUTDOOR EXERCISE (PLAYING SPORTS/JOGGING, BICYCLING, WALKING, WALKING THE DOG, ETC.)\n",
    "- 35: INDOOR EXERCISE (GYM, YOGA, ETC.)\n",
    "- 36: ENTERTAINMENT (MOVIES, WATCH SPORTS, ETC)\n",
    "- 37: SOCIAL/VISIT FRIENDS/RELATIVES"
   ]
  },
  {
   "cell_type": "code",
   "execution_count": 9,
   "id": "dce1c8e0",
   "metadata": {},
   "outputs": [],
   "source": [
    "acts = pd.merge(chts_persons, acts, on=['SAMPN','PERNO'], suffixes=('_persons', '_acts'))\n",
    "acts_disc = acts[acts['APURP'].isin([1, 4, 7, 13, 14, 15, 23, 24, 26, 27, 28, 29, 30, 31, 32, 33, 34, 35, 36, 37])]"
   ]
  },
  {
   "cell_type": "markdown",
   "id": "f2c82539",
   "metadata": {},
   "source": [
    "#### Restrict to In-Region Activities"
   ]
  },
  {
   "cell_type": "code",
   "execution_count": 10,
   "id": "bc71f7a4",
   "metadata": {},
   "outputs": [],
   "source": [
    "places = places[places['STATE'] == 'CA']\n",
    "places = places[places.CTFIP.isin(sfbay_counties)]"
   ]
  },
  {
   "cell_type": "code",
   "execution_count": 11,
   "id": "d7871e10",
   "metadata": {},
   "outputs": [],
   "source": [
    "acts_places = pd.merge(\n",
    "    acts_disc, places[[col for col in places if col not in [\n",
    "        'PNAME',\n",
    "        'CITY',\n",
    "        'ZIP',\n",
    "        'XCORD',\n",
    "        'YCORD',\n",
    "        'CTFIP',\n",
    "        'TRACT',\n",
    "        'BLOCK',\n",
    "        'PPrimaryCity']]], on=['SAMPN', 'PERNO', 'PLANO'], suffixes=('_acts_disc', '_places'))"
   ]
  },
  {
   "cell_type": "code",
   "execution_count": 12,
   "id": "c26e97a3",
   "metadata": {},
   "outputs": [],
   "source": [
    "acts_places = pd.merge(acts_places, places_lookup, on=['SAMPN','PERNO', 'PLANO'], suffixes=('_acts_disc_places', '_lookup'))"
   ]
  },
  {
   "cell_type": "code",
   "execution_count": 13,
   "id": "a65814df",
   "metadata": {},
   "outputs": [
    {
     "data": {
      "text/plain": [
       "(86607, 258)"
      ]
     },
     "execution_count": 13,
     "metadata": {},
     "output_type": "execute_result"
    }
   ],
   "source": [
    "acts_places.shape"
   ]
  },
  {
   "cell_type": "markdown",
   "id": "97838461",
   "metadata": {},
   "source": [
    "#### Restrict to Out-of-Home Activities"
   ]
  },
  {
   "cell_type": "code",
   "execution_count": 14,
   "id": "97f92286",
   "metadata": {},
   "outputs": [
    {
     "data": {
      "text/plain": [
       "(32810, 258)"
      ]
     },
     "execution_count": 14,
     "metadata": {},
     "output_type": "execute_result"
    }
   ],
   "source": [
    "acts_places = acts_places[acts_places['PNAME'] != 'HOME']\n",
    "acts_places.shape"
   ]
  },
  {
   "cell_type": "markdown",
   "id": "475696c2",
   "metadata": {},
   "source": [
    "# Load UrbanSim Block-Level Land Use Data"
   ]
  },
  {
   "cell_type": "code",
   "execution_count": 15,
   "id": "b608a9d3",
   "metadata": {},
   "outputs": [],
   "source": [
    "store = pd.HDFStore('/home/mgardner/PILATES/pilates/urbansim/data/custom_mpo_06197001_model_data.h5')\n",
    "blocks = store['blocks']\n",
    "nodes = store['nodes']\n",
    "edges = store['edges']\n",
    "units = store['residential_units']\n",
    "hh = store['households']\n",
    "jobs = store['jobs']\n",
    "p = store['persons']\n",
    "store.close()"
   ]
  },
  {
   "cell_type": "markdown",
   "id": "46835677",
   "metadata": {},
   "source": [
    "# Create UrbanSim-based Pandana Network "
   ]
  },
  {
   "cell_type": "code",
   "execution_count": 16,
   "id": "1b7968d6",
   "metadata": {},
   "outputs": [
    {
     "name": "stdout",
     "output_type": "stream",
     "text": [
      "Generating contraction hierarchies with 36 threads.\n",
      "Setting CH node vector of size 92395\n",
      "Setting CH edge vector of size 232266\n",
      "Range graph removed 233224 edges of 464532\n",
      ". 10% . 20% . 30% . 40% . 50% . 60% . 70% . 80% . 90% . 100%\n"
     ]
    }
   ],
   "source": [
    "nodes.set_index('id', inplace=True)\n",
    "net=pdna.Network(nodes[\"x\"], nodes[\"y\"], edges[\"from\"], edges[\"to\"],\n",
    "                 edges[[\"weight\"]])\n",
    "net.precompute(3000)"
   ]
  },
  {
   "cell_type": "code",
   "execution_count": 17,
   "id": "e47b33bc",
   "metadata": {},
   "outputs": [],
   "source": [
    "blocks['node_id'] = net.get_node_ids(blocks.x, blocks.y)"
   ]
  },
  {
   "cell_type": "markdown",
   "id": "c68f2b6d",
   "metadata": {},
   "source": [
    "# Get Block-Group Skims from BEAM"
   ]
  },
  {
   "cell_type": "code",
   "execution_count": 18,
   "id": "e17b72f7",
   "metadata": {},
   "outputs": [],
   "source": [
    "# all_files = glob.glob(\"/home/mgardner/PILATES/pilates/beam/beam_output/result*\")\n",
    "# chts_skims = pd.DataFrame()\n",
    "# for file in tqdm(all_files):\n",
    "#     skims = pd.read_csv(\n",
    "#         file, usecols=['timePeriod', 'pathType', 'origin', 'destination','DIST_meters'], low_memory=False)\n",
    "#     skims = skims[(skims['timePeriod'] == 'AM') & (skims['pathType'] == 'SOV')]\n",
    "#     chts_skims = pd.concat((chts_skims, skims), ignore_index=True)\n",
    "# chts_skims.to_csv('../data/chts_skims.csv', index=False)"
   ]
  },
  {
   "cell_type": "code",
   "execution_count": 19,
   "id": "179b7152",
   "metadata": {},
   "outputs": [],
   "source": [
    "chts_skims = pd.read_csv('../data/chts_skims.csv')"
   ]
  },
  {
   "cell_type": "code",
   "execution_count": 20,
   "id": "722db188",
   "metadata": {},
   "outputs": [],
   "source": [
    "chts_skims.rename(columns={'origin': 'block_grp', 'destination':'dest_block_grp'}, inplace=True)\n",
    "chts_skims['block_grp'] = chts_skims['block_grp'].astype(str).str.zfill(12)\n",
    "chts_skims['dest_block_grp'] = chts_skims['dest_block_grp'].astype(str).str.zfill(12)"
   ]
  },
  {
   "cell_type": "markdown",
   "id": "49508338",
   "metadata": {},
   "source": [
    "# Create Estimation Data"
   ]
  },
  {
   "cell_type": "markdown",
   "id": "d4966ac5",
   "metadata": {},
   "source": [
    "#### Alternatives"
   ]
  },
  {
   "cell_type": "code",
   "execution_count": 21,
   "id": "b07714b6",
   "metadata": {},
   "outputs": [],
   "source": [
    "units_per_block = units.reset_index().groupby('block_id')[['unit_id']].count()\n",
    "units_per_block.rename(columns={'unit_id': 'res_units'}, inplace=True)"
   ]
  },
  {
   "cell_type": "code",
   "execution_count": 22,
   "id": "6bd400eb",
   "metadata": {},
   "outputs": [],
   "source": [
    "pp_block = hh.groupby('block_id')['persons'].sum()"
   ]
  },
  {
   "cell_type": "code",
   "execution_count": 23,
   "id": "3106946b",
   "metadata": {},
   "outputs": [],
   "source": [
    "retail_jobs = jobs[jobs['sector_id'] == '44-45'].groupby('block_id').count()\n",
    "total_jobs = jobs.groupby('block_id').count()\n",
    "total_jobs.rename(columns={'sector_id': 'total_jobs'}, inplace=True)\n",
    "retail_jobs.rename(columns={'sector_id': 'retail_jobs'}, inplace=True)\n",
    "jobs = pd.merge(total_jobs, retail_jobs, left_index=True, right_index=True, how='outer').fillna(0)\n",
    "jobs['pct_retail'] = jobs['retail_jobs'] / jobs['total_jobs']"
   ]
  },
  {
   "cell_type": "code",
   "execution_count": 24,
   "id": "542fdfee",
   "metadata": {},
   "outputs": [],
   "source": [
    "blocks = pd.merge(blocks, jobs[['pct_retail','total_jobs']], left_index=True, right_index=True, how='left').fillna(0)\n",
    "blocks = pd.merge(blocks, pp_block, left_index=True, right_index=True, how='left').fillna(0)\n",
    "blocks = pd.merge(blocks, units_per_block, left_index=True, right_index=True, how='left').fillna(0)\n",
    "blocks['pop_density'] = blocks['persons'] / blocks['square_meters_land']\n",
    "blocks['res_units'] = blocks['res_units'].replace(0, 1)\n",
    "blocks['jobs_per_res_unit'] = blocks['total_jobs'] / blocks['res_units']\n",
    "blocks = blocks[blocks['square_meters_land'] > 0]"
   ]
  },
  {
   "cell_type": "code",
   "execution_count": 25,
   "id": "2fe4d1b7",
   "metadata": {},
   "outputs": [],
   "source": [
    "alts_df = blocks[[\n",
    "    'total_jobs', 'pct_retail', 'persons', 'pop_density', 'res_units', 'jobs_per_res_unit', 'node_id']].copy()"
   ]
  },
  {
   "cell_type": "code",
   "execution_count": 26,
   "id": "43b6d49e",
   "metadata": {},
   "outputs": [],
   "source": [
    "embc_bg_id = '060750105002'\n",
    "sj_bg_id = '060133551141'\n",
    "embc_node_id = blocks.loc['060750105002001', 'node_id']\n",
    "sj_node_id = blocks.loc['060133551141003', 'node_id']\n",
    "alts_df['dest_block_grp'] = alts_df.index.str[0:12].values\n",
    "alts_df['dtsj_bg_id'] = sj_bg_id\n",
    "alts_df['dtsf_bg_id'] = embc_bg_id\n",
    "alts_df['dtsj_node_id'] = sj_node_id\n",
    "alts_df['dtsf_node_id'] = embc_node_id"
   ]
  },
  {
   "cell_type": "code",
   "execution_count": 27,
   "id": "b20cce6b",
   "metadata": {},
   "outputs": [],
   "source": [
    "alts_df = alts_df[alts_df['dest_block_grp'].isin(chts_skims['dest_block_grp'])]"
   ]
  },
  {
   "cell_type": "code",
   "execution_count": 28,
   "id": "0012a887",
   "metadata": {},
   "outputs": [
    {
     "data": {
      "text/plain": [
       "(106910, 12)"
      ]
     },
     "execution_count": 28,
     "metadata": {},
     "output_type": "execute_result"
    }
   ],
   "source": [
    "alts_df.shape"
   ]
  },
  {
   "cell_type": "markdown",
   "id": "d01a029d",
   "metadata": {},
   "source": [
    "#### Observations"
   ]
  },
  {
   "cell_type": "code",
   "execution_count": 29,
   "id": "eedf84ab",
   "metadata": {},
   "outputs": [
    {
     "data": {
      "text/plain": [
       "(32810, 9)"
      ]
     },
     "execution_count": 29,
     "metadata": {},
     "output_type": "execute_result"
    }
   ],
   "source": [
    "obs_df = pd.merge(\n",
    "    acts_places[['SAMPN', 'AGE', 'EMPLY', 'HBLOCK', 'BLOCK']],\n",
    "    chts_households[['SAMPN', 'INCOM', 'HHVEH', 'HHSIZ', 'HHLIC']], on='SAMPN')\n",
    "obs_df['HBLOCK'] = obs_df['HBLOCK'].astype(str).str.zfill(15)\n",
    "obs_df['BLOCK'] = obs_df['BLOCK'].astype(str).str.zfill(15)\n",
    "obs_df.shape"
   ]
  },
  {
   "cell_type": "code",
   "execution_count": 30,
   "id": "59b15f11",
   "metadata": {},
   "outputs": [],
   "source": [
    "obs_df = obs_df[obs_df['BLOCK'].isin(blocks.index)]"
   ]
  },
  {
   "cell_type": "code",
   "execution_count": 31,
   "id": "4910cd59",
   "metadata": {},
   "outputs": [
    {
     "data": {
      "text/plain": [
       "(32722, 9)"
      ]
     },
     "execution_count": 31,
     "metadata": {},
     "output_type": "execute_result"
    }
   ],
   "source": [
    "obs_df.shape"
   ]
  },
  {
   "cell_type": "code",
   "execution_count": 32,
   "id": "e2d77274",
   "metadata": {},
   "outputs": [],
   "source": [
    "obs_df = obs_df[obs_df['HBLOCK'].isin(blocks.index)]"
   ]
  },
  {
   "cell_type": "code",
   "execution_count": 33,
   "id": "3fa8904f",
   "metadata": {},
   "outputs": [
    {
     "data": {
      "text/plain": [
       "(32690, 9)"
      ]
     },
     "execution_count": 33,
     "metadata": {},
     "output_type": "execute_result"
    }
   ],
   "source": [
    "obs_df.shape"
   ]
  },
  {
   "cell_type": "code",
   "execution_count": 34,
   "id": "c81f8600",
   "metadata": {},
   "outputs": [],
   "source": [
    "obs_df['node_id_home'] = blocks['node_id'].reindex(obs_df['HBLOCK']).astype(int).values"
   ]
  },
  {
   "cell_type": "code",
   "execution_count": 35,
   "id": "3a531acc",
   "metadata": {},
   "outputs": [],
   "source": [
    "obs_df['inc_lt_75k'] = obs_df['INCOM'] < 6\n",
    "obs_df['inc_gt_150k'] = obs_df['INCOM'] > 7\n",
    "obs_df['inc_gt_200k'] = obs_df['INCOM'] > 8\n",
    "obs_df['age_lt_18'] = obs_df['AGE'] < 18\n",
    "obs_df['age_gt_65'] = obs_df['AGE'] > 65\n",
    "obs_df['hhveh_gt_1'] = obs_df['HHVEH'] > 1\n",
    "obs_df['hhveh_is_1'] = obs_df['HHVEH'] == 1\n",
    "obs_df['hhveh_is_0'] = obs_df['HHVEH'] == 0\n",
    "obs_df['hhveh_gt_0'] = obs_df['HHVEH'] > 0\n",
    "obs_df['veh_pp'] = obs_df['HHVEH'] / obs_df['HHSIZ']\n",
    "obs_df['veh_pp_gt_1'] = obs_df['veh_pp'] > 1\n",
    "obs_df['veh_per_driver'] = obs_df['HHVEH'] / obs_df['HHLIC']\n",
    "obs_df['veh_per_driver_gt_1'] = obs_df['veh_per_driver'] > 1"
   ]
  },
  {
   "cell_type": "code",
   "execution_count": 36,
   "id": "f6840f28",
   "metadata": {},
   "outputs": [],
   "source": [
    "obs_df['block_grp'] = obs_df['HBLOCK'].str[0:12]"
   ]
  },
  {
   "cell_type": "code",
   "execution_count": 37,
   "id": "06cea631",
   "metadata": {},
   "outputs": [],
   "source": [
    "obs_df = obs_df[obs_df['block_grp'].isin(chts_skims['block_grp'])]"
   ]
  },
  {
   "cell_type": "code",
   "execution_count": 38,
   "id": "7267ea00",
   "metadata": {},
   "outputs": [
    {
     "data": {
      "text/plain": [
       "(32690, 24)"
      ]
     },
     "execution_count": 38,
     "metadata": {},
     "output_type": "execute_result"
    }
   ],
   "source": [
    "obs_df.shape"
   ]
  },
  {
   "cell_type": "code",
   "execution_count": 39,
   "id": "8955e17f",
   "metadata": {},
   "outputs": [],
   "source": [
    "obs_df = obs_df[obs_df['BLOCK'].isin(alts_df.index)]"
   ]
  },
  {
   "cell_type": "code",
   "execution_count": 40,
   "id": "41d88c54",
   "metadata": {},
   "outputs": [
    {
     "data": {
      "text/plain": [
       "(32690, 24)"
      ]
     },
     "execution_count": 40,
     "metadata": {},
     "output_type": "execute_result"
    }
   ],
   "source": [
    "obs_df.shape"
   ]
  },
  {
   "cell_type": "code",
   "execution_count": 41,
   "id": "e44d586f",
   "metadata": {},
   "outputs": [],
   "source": [
    "obs_df = obs_df[(obs_df['AGE'] < 98) & (obs_df['INCOM'] < 98) & (obs_df['HHSIZ'] < 98)]"
   ]
  },
  {
   "cell_type": "code",
   "execution_count": 42,
   "id": "3227af4f",
   "metadata": {},
   "outputs": [
    {
     "data": {
      "text/plain": [
       "(28800, 24)"
      ]
     },
     "execution_count": 42,
     "metadata": {},
     "output_type": "execute_result"
    }
   ],
   "source": [
    "obs_df.shape"
   ]
  },
  {
   "cell_type": "markdown",
   "id": "1e8e29b5",
   "metadata": {},
   "source": [
    "#### Dists to CBD for Alts"
   ]
  },
  {
   "cell_type": "code",
   "execution_count": 43,
   "id": "e073e0b5",
   "metadata": {},
   "outputs": [],
   "source": [
    "chts_skims.set_index(['block_grp', 'dest_block_grp'], inplace=True)"
   ]
  },
  {
   "cell_type": "code",
   "execution_count": 44,
   "id": "8b2e9b45",
   "metadata": {},
   "outputs": [],
   "source": [
    "alts_df = pd.merge(alts_df, chts_skims[['DIST_meters']], left_on=['dest_block_grp', 'dtsj_bg_id'], right_index=True, how='left')\n",
    "alts_df.rename(columns={'DIST_meters': 'DIST_DTSJ'}, inplace=True)\n",
    "alts_df = pd.merge(alts_df, chts_skims[['DIST_meters']], left_on=['dest_block_grp', 'dtsf_bg_id'], right_index=True, how='left')\n",
    "alts_df.rename(columns={'DIST_meters': 'DIST_DTSF'}, inplace=True)\n",
    "alts_df['dist_to_nearest_cbd'] = alts_df[['DIST_DTSF', 'DIST_DTSJ']].min(axis=1)"
   ]
  },
  {
   "cell_type": "code",
   "execution_count": 45,
   "id": "929bae4a",
   "metadata": {},
   "outputs": [],
   "source": [
    "alts_df['pdna_dtsj_dist'] = net.shortest_path_lengths(alts_df['node_id'], alts_df['dtsj_node_id'])\n",
    "alts_df['pdna_dtsf_dist'] = net.shortest_path_lengths(alts_df['node_id'], alts_df['dtsf_node_id'])"
   ]
  },
  {
   "cell_type": "code",
   "execution_count": 46,
   "id": "7578449f",
   "metadata": {},
   "outputs": [],
   "source": [
    "alts_df['pdna_dist_to_nearest_cbd'] = alts_df[['pdna_dtsj_dist', 'pdna_dtsf_dist']].min(axis=1)\n",
    "alts_df['dist_to_nearest_cbd'] = alts_df['dist_to_nearest_cbd'].replace(np.inf, np.nan)\n",
    "alts_df['pdna_dist_to_nearest_cbd'] = alts_df['pdna_dist_to_nearest_cbd'].replace(np.inf, np.nan)\n",
    "alts_df.loc[pd.isnull(alts_df['dist_to_nearest_cbd']), 'dist_to_nearest_cbd'] = alts_df.loc[pd.isnull(alts_df['dist_to_nearest_cbd']), 'pdna_dist_to_nearest_cbd']"
   ]
  },
  {
   "cell_type": "code",
   "execution_count": 64,
   "id": "528c66cc",
   "metadata": {},
   "outputs": [
    {
     "data": {
      "text/plain": [
       "block_id\n",
       "060014271001001      53077212\n",
       "060014271001002    6571769712\n",
       "060014271001003      53077211\n",
       "060014271001004      53098044\n",
       "060014271001005    5476662785\n",
       "                      ...    \n",
       "060971505004042    4924087794\n",
       "060971505004043      56089808\n",
       "060971505004044    4924087794\n",
       "060971505004045    4924087794\n",
       "060971505004046      56089808\n",
       "Name: node_id, Length: 106910, dtype: int64"
      ]
     },
     "execution_count": 64,
     "metadata": {},
     "output_type": "execute_result"
    }
   ],
   "source": [
    "alts_df['node_id']"
   ]
  },
  {
   "cell_type": "code",
   "execution_count": null,
   "id": "67027d10",
   "metadata": {},
   "outputs": [],
   "source": []
  },
  {
   "cell_type": "markdown",
   "id": "fd28047d",
   "metadata": {},
   "source": [
    "# Create Merged Choice Table "
   ]
  },
  {
   "cell_type": "code",
   "execution_count": 47,
   "id": "46429217",
   "metadata": {},
   "outputs": [],
   "source": [
    "sample_size = 1000"
   ]
  },
  {
   "cell_type": "code",
   "execution_count": 48,
   "id": "66d61f12",
   "metadata": {},
   "outputs": [
    {
     "name": "stdout",
     "output_type": "stream",
     "text": [
      "CPU times: user 31.4 s, sys: 7.93 s, total: 39.4 s\n",
      "Wall time: 39.3 s\n"
     ]
    }
   ],
   "source": [
    "%%time \n",
    "mct = MergedChoiceTable(\n",
    "    obs_df, alts_df, chosen_alternatives='BLOCK', sample_size=sample_size, interaction_terms=chts_skims[['DIST_meters']])"
   ]
  },
  {
   "cell_type": "code",
   "execution_count": 49,
   "id": "88a294a9",
   "metadata": {},
   "outputs": [],
   "source": [
    "mct_df = mct.to_frame().reset_index()"
   ]
  },
  {
   "cell_type": "markdown",
   "id": "9f8d71e4",
   "metadata": {},
   "source": [
    "#### Interaction Terms (Chooser-Alt Distances)"
   ]
  },
  {
   "cell_type": "code",
   "execution_count": 50,
   "id": "036fef85",
   "metadata": {},
   "outputs": [
    {
     "name": "stdout",
     "output_type": "stream",
     "text": [
      "CPU times: user 19min 56s, sys: 1.57 s, total: 19min 57s\n",
      "Wall time: 41.4 s\n"
     ]
    }
   ],
   "source": [
    "%%time\n",
    "dists = net.shortest_path_lengths(mct_df['node_id_home'], mct_df['node_id'])"
   ]
  },
  {
   "cell_type": "code",
   "execution_count": 51,
   "id": "f54045b3",
   "metadata": {},
   "outputs": [],
   "source": [
    "mct_df['pdna_dists'] = dists"
   ]
  },
  {
   "cell_type": "code",
   "execution_count": 52,
   "id": "44a3b72f",
   "metadata": {},
   "outputs": [],
   "source": [
    "mct_df.loc[mct_df['pdna_dists'] > 1e6, 'pdna_dists'] = np.nan"
   ]
  },
  {
   "cell_type": "code",
   "execution_count": 53,
   "id": "19806fb0",
   "metadata": {},
   "outputs": [],
   "source": [
    "# replace NaN BEAM skims with Pandana distances\n",
    "mct_df.loc[pd.isnull(mct_df['DIST_meters']), 'DIST_meters'] = mct_df.loc[pd.isnull(mct_df['DIST_meters']), 'pdna_dists']\n",
    "mct_df.loc[pd.isnull(mct_df['pdna_dists']), 'pdna_dists'] = mct_df.loc[pd.isnull(mct_df['pdna_dists']), 'DIST_meters']\n",
    "mct_df.loc[mct_df['pdna_dists'] == 0, 'pdna_dists'] = mct_df.loc[mct_df['pdna_dists'] == 0, 'DIST_meters']"
   ]
  },
  {
   "cell_type": "code",
   "execution_count": 54,
   "id": "41f70633",
   "metadata": {},
   "outputs": [
    {
     "name": "stdout",
     "output_type": "stream",
     "text": [
      "Imputing 4 values at most for each chooser\n"
     ]
    }
   ],
   "source": [
    "# impute missing distances\n",
    "counts = mct_df.groupby('obs_id')[['DIST_meters']].count()\n",
    "mean_dists = mct_df.groupby('obs_id')[['DIST_meters']].mean()\n",
    "mean_dists.rename(columns={'DIST_meters': 'mean_DIST_meters'}, inplace=True)\n",
    "print(\"Imputing {0} values at most for each chooser\".format(sample_size - counts.min().values[0]))"
   ]
  },
  {
   "cell_type": "code",
   "execution_count": 55,
   "id": "87f235e3",
   "metadata": {},
   "outputs": [
    {
     "data": {
      "text/plain": [
       "0    26405\n",
       "1     2132\n",
       "2      238\n",
       "3       22\n",
       "4        3\n",
       "Name: DIST_meters, dtype: int64"
      ]
     },
     "execution_count": 55,
     "metadata": {},
     "output_type": "execute_result"
    }
   ],
   "source": [
    "(sample_size - counts['DIST_meters']).value_counts()"
   ]
  },
  {
   "cell_type": "code",
   "execution_count": 56,
   "id": "a65b85a0",
   "metadata": {},
   "outputs": [],
   "source": [
    "mct_df = pd.merge(mct_df, mean_dists, left_on='obs_id', right_index=True)\n",
    "mct_df.loc[pd.isnull(mct_df['DIST_meters']), 'DIST_meters'] = mct_df.loc[pd.isnull(mct_df['DIST_meters']), 'mean_DIST_meters']"
   ]
  },
  {
   "cell_type": "markdown",
   "id": "469d836f",
   "metadata": {},
   "source": [
    "#### Additional Post-processing"
   ]
  },
  {
   "cell_type": "code",
   "execution_count": 57,
   "id": "aa0d7071",
   "metadata": {},
   "outputs": [],
   "source": [
    "mct_df = mct_df.sort_values(['obs_id', 'chosen'], ascending=False)\n",
    "mct_df = mct_df[[\n",
    "    'obs_id', 'block_id', 'age_lt_18', 'age_gt_65',\n",
    "    'inc_lt_75k', 'inc_gt_150k', 'veh_pp','veh_per_driver', 'veh_pp_gt_1', 'veh_per_driver_gt_1',\n",
    "    'hhveh_gt_1', 'hhveh_gt_0', 'hhveh_is_0', 'hhveh_is_1', 'pct_retail', 'total_jobs',\n",
    "    'jobs_per_res_unit', 'persons', 'pop_density','DIST_meters', 'dist_to_nearest_cbd',\n",
    "    'chosen']].set_index(['obs_id', 'block_id'])"
   ]
  },
  {
   "cell_type": "code",
   "execution_count": 58,
   "id": "b609b667",
   "metadata": {},
   "outputs": [],
   "source": [
    "mct = MergedChoiceTable.from_df(mct_df)"
   ]
  },
  {
   "cell_type": "markdown",
   "id": "81a6d4d4",
   "metadata": {},
   "source": [
    "# Precise model"
   ]
  },
  {
   "cell_type": "code",
   "execution_count": 62,
   "id": "fbb125d5",
   "metadata": {},
   "outputs": [
    {
     "name": "stdout",
     "output_type": "stream",
     "text": [
      "                  CHOICEMODELS ESTIMATION RESULTS                   \n",
      "====================================================================\n",
      "Dep. Var.:                chosen   No. Observations:          28,800\n",
      "Model:         Multinomial Logit   Df Residuals:              28,789\n",
      "Method:       Maximum Likelihood   Df Model:                      11\n",
      "Date:                 2022-01-06   Pseudo R-squ.:              0.474\n",
      "Time:                      10:26   Pseudo R-bar-squ.:          0.474\n",
      "AIC:                 209,480.543   Log-Likelihood:      -104,729.272\n",
      "BIC:                 209,571.493   LL-Null:             -198,943.352\n",
      "================================================================================================\n",
      "                                                coef   std err          z     P>|z|   Conf. Int.\n",
      "------------------------------------------------------------------------------------------------\n",
      "np.log1p(pct_retail)                          2.2141     0.034     65.348     0.000             \n",
      "np.log1p(total_jobs)                          0.6188     0.003    214.166     0.000             \n",
      "np.log1p(pop_density)                       -24.3847     0.907    -26.873     0.000             \n",
      "np.log1p(pop_density):age_lt_18[T.True]     -22.5947     3.878     -5.826     0.000             \n",
      "np.log1p(pop_density):age_gt_65[T.True]     -35.7285     4.061     -8.799     0.000             \n",
      "np.log1p(DIST_meters)                        -1.5529     0.004   -394.362     0.000             \n",
      "np.log1p(DIST_meters):hhveh_gt_1[T.True]     -0.0004     0.002     -0.227     0.821             \n",
      "np.log1p(DIST_meters):inc_lt_75k[T.True]     -0.0654     0.002    -37.592     0.000             \n",
      "np.log1p(DIST_meters):inc_gt_150k[T.True]     0.0031     0.002      1.756     0.079             \n",
      "np.log1p(dist_to_nearest_cbd)                -0.0412     0.003    -13.216     0.000             \n",
      "np.log1p(dist_to_nearest_cbd):veh_pp          0.1827     0.002    120.941     0.000             \n",
      "================================================================================================\n",
      "CPU times: user 44min 29s, sys: 30min 35s, total: 1h 15min 4s\n",
      "Wall time: 5min 42s\n"
     ]
    }
   ],
   "source": [
    "%%time\n",
    "expression = 'np.log1p(pct_retail) + np.log1p(total_jobs) + (np.log1p(pop_density))/(age_lt_18 + age_gt_65) + (np.log1p(DIST_meters)' + \\\n",
    "    '/ (hhveh_gt_1 + inc_lt_75k + inc_gt_150k)) + np.log1p(dist_to_nearest_cbd)/veh_pp - 1'\n",
    "results = MultinomialLogit(\n",
    "    mct,\n",
    "    model_expression=expression)\n",
    "fitted = results.fit()\n",
    "print(fitted.report_fit())"
   ]
  },
  {
   "cell_type": "code",
   "execution_count": 60,
   "id": "06594bff",
   "metadata": {},
   "outputs": [
    {
     "data": {
      "text/plain": [
       "[2.2263483810165723,\n",
       " 0.6141851215163175,\n",
       " -27.755049765295578,\n",
       " -22.540556004656587,\n",
       " -36.244591168234244,\n",
       " -1.605101353775514,\n",
       " -0.04592411534778826,\n",
       " -0.07359222149467257,\n",
       " 0.009159389141483251,\n",
       " 0.1055594259308057]"
      ]
     },
     "execution_count": 60,
     "metadata": {},
     "output_type": "execute_result"
    }
   ],
   "source": [
    "fitted.fitted_parameters"
   ]
  },
  {
   "cell_type": "markdown",
   "id": "903bbcb6",
   "metadata": {},
   "source": [
    "# Store data to disk"
   ]
  },
  {
   "cell_type": "code",
   "execution_count": 62,
   "id": "b428eb32",
   "metadata": {},
   "outputs": [],
   "source": [
    "alts_df.to_csv('../data/chts_alts_df.csv')"
   ]
  }
 ],
 "metadata": {
  "kernelspec": {
   "display_name": "Python [conda env:proba] *",
   "language": "python",
   "name": "conda-env-proba-py"
  },
  "language_info": {
   "codemirror_mode": {
    "name": "ipython",
    "version": 3
   },
   "file_extension": ".py",
   "mimetype": "text/x-python",
   "name": "python",
   "nbconvert_exporter": "python",
   "pygments_lexer": "ipython3",
   "version": "3.9.6"
  }
 },
 "nbformat": 4,
 "nbformat_minor": 5
}
