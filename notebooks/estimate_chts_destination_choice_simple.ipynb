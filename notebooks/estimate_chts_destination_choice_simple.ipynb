{
 "cells": [
  {
   "cell_type": "code",
   "execution_count": 1,
   "metadata": {},
   "outputs": [],
   "source": [
    "import os\n",
    "import pandas as pd\n",
    "from choicemodels import MultinomialLogit, MultinomialLogitResults\n",
    "from choicemodels.tools import MergedChoiceTable\n",
    "import pandana as pdna"
   ]
  },
  {
   "cell_type": "code",
   "execution_count": 2,
   "metadata": {},
   "outputs": [],
   "source": [
    "import numpy as np"
   ]
  },
  {
   "cell_type": "code",
   "execution_count": 3,
   "metadata": {},
   "outputs": [],
   "source": [
    "sfbay_counties = [1, 13, 41, 55, 75, 81, 85, 95, 97]"
   ]
  },
  {
   "cell_type": "markdown",
   "metadata": {},
   "source": [
    "# Load CHTS Data"
   ]
  },
  {
   "cell_type": "code",
   "execution_count": 4,
   "metadata": {},
   "outputs": [],
   "source": [
    "data_dir = '/home/mgardner/chts-2012/data'\n",
    "chts_persons = pd.read_csv(os.path.join(data_dir, 'Deliv_PER.csv'), low_memory=False)\n",
    "chts_persons_lookup = pd.read_csv(os.path.join(data_dir, 'LookUp_PER.csv'))\n",
    "chts_households = pd.read_csv(os.path.join(data_dir, 'Deliv_HH.csv'), low_memory=False)\n",
    "chts_households_lookup = pd.read_csv(os.path.join(data_dir, 'LookUp_Home.csv'))\n",
    "acts = pd.read_csv(os.path.join(data_dir, 'Deliv_ACTIVITY.csv'))\n",
    "places = pd.read_csv(os.path.join(data_dir, 'Deliv_PLACE.csv'), low_memory=False)\n",
    "places_lookup = pd.read_csv(os.path.join(data_dir, 'LookUp_PLACE.csv'), low_memory=False)"
   ]
  },
  {
   "cell_type": "markdown",
   "metadata": {},
   "source": [
    "#### Population Data"
   ]
  },
  {
   "cell_type": "code",
   "execution_count": 5,
   "metadata": {},
   "outputs": [],
   "source": [
    "chts_persons = pd.merge(\n",
    "    chts_persons.set_index(['SAMPN','PERNO']),\n",
    "    chts_persons_lookup.set_index(['SAMPN','PERNO']),\n",
    "    left_index=True, right_index=True,\n",
    "    suffixes=('_persons', '_lookup')).reset_index()\n",
    "\n",
    "chts_persons = pd.merge(\n",
    "    chts_persons.set_index(['SAMPN']),\n",
    "    chts_households_lookup.set_index(['SAMPN']),\n",
    "    left_index=True, right_index=True).reset_index()"
   ]
  },
  {
   "cell_type": "markdown",
   "metadata": {},
   "source": [
    "#### Restrict to Bay Area Residents"
   ]
  },
  {
   "cell_type": "code",
   "execution_count": 6,
   "metadata": {},
   "outputs": [],
   "source": [
    "chts_persons = chts_persons[chts_persons['HCTFIP'].isin(sfbay_counties)].reset_index()"
   ]
  },
  {
   "cell_type": "code",
   "execution_count": 7,
   "metadata": {},
   "outputs": [
    {
     "data": {
      "text/plain": [
       "(24030, 188)"
      ]
     },
     "execution_count": 7,
     "metadata": {},
     "output_type": "execute_result"
    }
   ],
   "source": [
    "chts_persons.shape"
   ]
  },
  {
   "cell_type": "markdown",
   "metadata": {},
   "source": [
    "#### Discretionary Activities"
   ]
  },
  {
   "cell_type": "markdown",
   "metadata": {},
   "source": [
    "- 1: PERSONAL ACTIVITIES (SLEEPING, PERSONAL CARE, LEISURE, CHORES)\n",
    "- 4: EXERCISE (WITH OR WITHOUT EQUIPMENT)/PLAYING SPORTS\n",
    "- 7: USING COMPUTER/TELEPHONE/CELL OR SMART PHONE OR OTHER COMMUNICATIONS DEVICE FOR PERSONAL ACTIVITIES\n",
    "- 13: NON-WORK RELATED ACTIVITIES (SOCIAL CLUBS, ETC)\n",
    "- 14: EXERCISE/SPORTS\n",
    "- 15: VOLUNTEER WORK/ACTIVITIES\n",
    "- 23: DRIVE THROUGH MEALS (SNACKS, COFFEE, ETC.)\n",
    "- 24: DRIVE THROUGH OTHER (ATM, BANK)\n",
    "- 26: SERVICE PRIVATE VEHICLE (GAS, OIL, LUBE, REPAIRS)\n",
    "- 27: ROUTINE SHOPPING (GROCERIES, CLOTHING, CONVENIENCE STORE, HH MAINTENANCE)\n",
    "- 28: SHOPPING FOR MAJOR PURCHASES OR SPECIALTY ITEMS (APPLIANCE, ELECTRONICS, NEW VEHICLE, MAJORHH REPAIRS)\n",
    "- 29: HOUSEHOLD ERRANDS (BANK, DRY CLEANING, ETC.)\n",
    "- 30: PERSONAL BUSINESS (VISIT GOVERNMENT OFFICE, ATTORNEY, ACCOUNTANT)\n",
    "- 31: EAT MEAL AT RESTAURANT/DINER\n",
    "- 32: HEALTH CARE (DOCTOR, DENTIST, EYE CARE, CHIROPRACTOR, VETERINARIAN)\n",
    "- 33: CIVIC/RELIGIOUS ACTIVITIES\n",
    "- 34: OUTDOOR EXERCISE (PLAYING SPORTS/JOGGING, BICYCLING, WALKING, WALKING THE DOG, ETC.)\n",
    "- 35: INDOOR EXERCISE (GYM, YOGA, ETC.)\n",
    "- 36: ENTERTAINMENT (MOVIES, WATCH SPORTS, ETC)\n",
    "- 37: SOCIAL/VISIT FRIENDS/RELATIVES"
   ]
  },
  {
   "cell_type": "code",
   "execution_count": 8,
   "metadata": {},
   "outputs": [],
   "source": [
    "acts = pd.merge(chts_persons, acts, on=['SAMPN','PERNO'], suffixes=('_persons', '_acts'))\n",
    "acts_disc = acts[acts['APURP'].isin([1, 4, 7, 13, 14, 15, 23, 24, 26, 27, 28, 29, 30, 31, 32, 33, 34, 35, 36, 37])]"
   ]
  },
  {
   "cell_type": "markdown",
   "metadata": {},
   "source": [
    "#### Restrict to In-Region Activities"
   ]
  },
  {
   "cell_type": "code",
   "execution_count": 9,
   "metadata": {},
   "outputs": [],
   "source": [
    "places = places[places['STATE'] == 'CA']\n",
    "places = places[places.CTFIP.isin(sfbay_counties)]"
   ]
  },
  {
   "cell_type": "code",
   "execution_count": 10,
   "metadata": {},
   "outputs": [],
   "source": [
    "acts_places = pd.merge(\n",
    "    acts_disc, places[[col for col in places if col not in [\n",
    "        'PNAME',\n",
    "        'CITY',\n",
    "        'ZIP',\n",
    "        'XCORD',\n",
    "        'YCORD',\n",
    "        'CTFIP',\n",
    "        'TRACT',\n",
    "        'BLOCK',\n",
    "        'PPrimaryCity']]], on=['SAMPN', 'PERNO', 'PLANO'], suffixes=('_acts_disc', '_places'))"
   ]
  },
  {
   "cell_type": "code",
   "execution_count": 11,
   "metadata": {},
   "outputs": [],
   "source": [
    "acts_places = pd.merge(acts_places, places_lookup, on=['SAMPN','PERNO', 'PLANO'], suffixes=('_acts_disc_places', '_lookup'))"
   ]
  },
  {
   "cell_type": "code",
   "execution_count": 12,
   "metadata": {},
   "outputs": [
    {
     "data": {
      "text/plain": [
       "(86607, 258)"
      ]
     },
     "execution_count": 12,
     "metadata": {},
     "output_type": "execute_result"
    }
   ],
   "source": [
    "acts_places.shape"
   ]
  },
  {
   "cell_type": "markdown",
   "metadata": {},
   "source": [
    "#### Restrict to Out-of-Home Activities"
   ]
  },
  {
   "cell_type": "code",
   "execution_count": 13,
   "metadata": {},
   "outputs": [
    {
     "data": {
      "text/plain": [
       "(32810, 258)"
      ]
     },
     "execution_count": 13,
     "metadata": {},
     "output_type": "execute_result"
    }
   ],
   "source": [
    "acts_places = acts_places[acts_places['PNAME'] != 'HOME']\n",
    "acts_places.shape"
   ]
  },
  {
   "cell_type": "markdown",
   "metadata": {},
   "source": [
    "# Load UrbanSim Block-Level Land Use Data"
   ]
  },
  {
   "cell_type": "code",
   "execution_count": 14,
   "metadata": {},
   "outputs": [],
   "source": [
    "store = pd.HDFStore('/home/mgardner/PILATES/pilates/urbansim/data/custom_mpo_06197001_model_data.h5')\n",
    "blocks = store['blocks']\n",
    "nodes = store['nodes']\n",
    "edges = store['edges']\n",
    "units = store['residential_units']\n",
    "hh = store['households']\n",
    "jobs = store['jobs']\n",
    "p = store['persons']\n",
    "store.close()"
   ]
  },
  {
   "cell_type": "markdown",
   "metadata": {},
   "source": [
    "# Create UrbanSim-based Pandana Network "
   ]
  },
  {
   "cell_type": "code",
   "execution_count": 15,
   "metadata": {},
   "outputs": [
    {
     "name": "stdout",
     "output_type": "stream",
     "text": [
      "Generating contraction hierarchies with 36 threads.\n",
      "Setting CH node vector of size 92395\n",
      "Setting CH edge vector of size 232266\n",
      "Range graph removed 233224 edges of 464532\n",
      ". 10% . 20% . 30% . 40% . 50% . 60% . 70% . 80% . 90% . 100%\n"
     ]
    }
   ],
   "source": [
    "nodes.set_index('id', inplace=True)\n",
    "net=pdna.Network(nodes[\"x\"], nodes[\"y\"], edges[\"from\"], edges[\"to\"],\n",
    "                 edges[[\"weight\"]])\n",
    "net.precompute(3000)"
   ]
  },
  {
   "cell_type": "code",
   "execution_count": 16,
   "metadata": {},
   "outputs": [],
   "source": [
    "blocks['node_id'] = net.get_node_ids(blocks.x, blocks.y)"
   ]
  },
  {
   "cell_type": "markdown",
   "metadata": {},
   "source": [
    "# Get Block-Group Skims from BEAM"
   ]
  },
  {
   "cell_type": "code",
   "execution_count": null,
   "metadata": {},
   "outputs": [],
   "source": [
    "# all_files = glob.glob(\"/home/mgardner/PILATES/pilates/beam/beam_output/result*\")\n",
    "# chts_skims = pd.DataFrame()\n",
    "# for file in tqdm(all_files):\n",
    "#     skims = pd.read_csv(\n",
    "#         file, usecols=['timePeriod', 'pathType', 'origin', 'destination','DIST_meters'], low_memory=False)\n",
    "#     skims = skims[(skims['timePeriod'] == 'AM') & (skims['pathType'] == 'SOV')]\n",
    "#     chts_skims = pd.concat((chts_skims, skims), ignore_index=True)\n",
    "# chts_skims.to_csv('../data/chts_skims.csv', index=False)"
   ]
  },
  {
   "cell_type": "code",
   "execution_count": 17,
   "metadata": {},
   "outputs": [],
   "source": [
    "chts_skims = pd.read_csv('../data/chts_skims.csv')"
   ]
  },
  {
   "cell_type": "code",
   "execution_count": 18,
   "metadata": {},
   "outputs": [],
   "source": [
    "chts_skims.rename(columns={'origin': 'block_grp', 'destination':'dest_block_grp'}, inplace=True)\n",
    "chts_skims['block_grp'] = chts_skims['block_grp'].astype(str).str.zfill(12)\n",
    "chts_skims['dest_block_grp'] = chts_skims['dest_block_grp'].astype(str).str.zfill(12)"
   ]
  },
  {
   "cell_type": "markdown",
   "metadata": {},
   "source": [
    "# Create Estimation Data"
   ]
  },
  {
   "cell_type": "markdown",
   "metadata": {},
   "source": [
    "#### Alternatives"
   ]
  },
  {
   "cell_type": "code",
   "execution_count": 19,
   "metadata": {},
   "outputs": [],
   "source": [
    "units_per_block = units.reset_index().groupby('block_id')[['unit_id']].count()\n",
    "units_per_block.rename(columns={'unit_id': 'res_units'}, inplace=True)"
   ]
  },
  {
   "cell_type": "code",
   "execution_count": 20,
   "metadata": {},
   "outputs": [],
   "source": [
    "pp_block = hh.groupby('block_id')['persons'].sum()"
   ]
  },
  {
   "cell_type": "code",
   "execution_count": 21,
   "metadata": {},
   "outputs": [],
   "source": [
    "retail_jobs = jobs[jobs['sector_id'] == '44-45'].groupby('block_id').count()\n",
    "total_jobs = jobs.groupby('block_id').count()\n",
    "total_jobs.rename(columns={'sector_id': 'total_jobs'}, inplace=True)\n",
    "retail_jobs.rename(columns={'sector_id': 'retail_jobs'}, inplace=True)\n",
    "jobs = pd.merge(total_jobs, retail_jobs, left_index=True, right_index=True, how='outer').fillna(0)\n",
    "jobs['pct_retail'] = jobs['retail_jobs'] / jobs['total_jobs']"
   ]
  },
  {
   "cell_type": "code",
   "execution_count": 22,
   "metadata": {},
   "outputs": [],
   "source": [
    "blocks = pd.merge(blocks, jobs[['pct_retail','total_jobs']], left_index=True, right_index=True, how='left').fillna(0)\n",
    "blocks = pd.merge(blocks, pp_block, left_index=True, right_index=True, how='left').fillna(0)\n",
    "blocks = pd.merge(blocks, units_per_block, left_index=True, right_index=True, how='left').fillna(0)\n",
    "blocks['pop_density'] = blocks['persons'] / blocks['square_meters_land']\n",
    "blocks['res_units'] = blocks['res_units'].replace(0, 1)\n",
    "blocks['jobs_per_res_unit'] = blocks['total_jobs'] / blocks['res_units']\n",
    "blocks = blocks[blocks['square_meters_land'] > 0]"
   ]
  },
  {
   "cell_type": "code",
   "execution_count": 23,
   "metadata": {},
   "outputs": [],
   "source": [
    "alts_df = blocks[[\n",
    "    'total_jobs', 'pct_retail', 'persons', 'pop_density', 'res_units', 'jobs_per_res_unit', 'node_id']].copy()"
   ]
  },
  {
   "cell_type": "code",
   "execution_count": 24,
   "metadata": {},
   "outputs": [],
   "source": [
    "embc_bg_id = '060750105002'\n",
    "sj_bg_id = '060133551141'\n",
    "embc_node_id = blocks.loc['060750105002001', 'node_id']\n",
    "sj_node_id = blocks.loc['060133551141003', 'node_id']\n",
    "alts_df['dest_block_grp'] = alts_df.index.str[0:12].values\n",
    "alts_df['dtsj_bg_id'] = sj_bg_id\n",
    "alts_df['dtsf_bg_id'] = embc_bg_id\n",
    "alts_df['dtsj_node_id'] = sj_node_id\n",
    "alts_df['dtsf_node_id'] = embc_node_id"
   ]
  },
  {
   "cell_type": "code",
   "execution_count": 25,
   "metadata": {},
   "outputs": [],
   "source": [
    "alts_df = alts_df[alts_df['dest_block_grp'].isin(chts_skims['dest_block_grp'])]"
   ]
  },
  {
   "cell_type": "code",
   "execution_count": 26,
   "metadata": {},
   "outputs": [
    {
     "data": {
      "text/plain": [
       "(106910, 12)"
      ]
     },
     "execution_count": 26,
     "metadata": {},
     "output_type": "execute_result"
    }
   ],
   "source": [
    "alts_df.shape"
   ]
  },
  {
   "cell_type": "markdown",
   "metadata": {},
   "source": [
    "#### Observations"
   ]
  },
  {
   "cell_type": "code",
   "execution_count": 27,
   "metadata": {},
   "outputs": [
    {
     "data": {
      "text/plain": [
       "(32810, 9)"
      ]
     },
     "execution_count": 27,
     "metadata": {},
     "output_type": "execute_result"
    }
   ],
   "source": [
    "obs_df = pd.merge(\n",
    "    acts_places[['SAMPN', 'AGE', 'EMPLY', 'HBLOCK', 'BLOCK']],\n",
    "    chts_households[['SAMPN', 'INCOM', 'HHVEH', 'HHSIZ', 'HHLIC']], on='SAMPN')\n",
    "obs_df['HBLOCK'] = obs_df['HBLOCK'].astype(str).str.zfill(15)\n",
    "obs_df['BLOCK'] = obs_df['BLOCK'].astype(str).str.zfill(15)\n",
    "obs_df.shape"
   ]
  },
  {
   "cell_type": "code",
   "execution_count": 29,
   "metadata": {},
   "outputs": [],
   "source": [
    "obs_df = obs_df[obs_df['BLOCK'].isin(blocks.index)]"
   ]
  },
  {
   "cell_type": "code",
   "execution_count": 30,
   "metadata": {},
   "outputs": [
    {
     "data": {
      "text/plain": [
       "(32722, 9)"
      ]
     },
     "execution_count": 30,
     "metadata": {},
     "output_type": "execute_result"
    }
   ],
   "source": [
    "obs_df.shape"
   ]
  },
  {
   "cell_type": "code",
   "execution_count": 31,
   "metadata": {},
   "outputs": [],
   "source": [
    "obs_df = obs_df[obs_df['HBLOCK'].isin(blocks.index)]"
   ]
  },
  {
   "cell_type": "code",
   "execution_count": 32,
   "metadata": {},
   "outputs": [
    {
     "data": {
      "text/plain": [
       "(32690, 9)"
      ]
     },
     "execution_count": 32,
     "metadata": {},
     "output_type": "execute_result"
    }
   ],
   "source": [
    "obs_df.shape"
   ]
  },
  {
   "cell_type": "code",
   "execution_count": 33,
   "metadata": {},
   "outputs": [],
   "source": [
    "obs_df['node_id_home'] = blocks['node_id'].reindex(obs_df['HBLOCK']).astype(int).values"
   ]
  },
  {
   "cell_type": "code",
   "execution_count": 34,
   "metadata": {},
   "outputs": [],
   "source": [
    "obs_df['inc_lt_75k'] = obs_df['INCOM'] < 6\n",
    "obs_df['inc_gt_150k'] = obs_df['INCOM'] > 7\n",
    "obs_df['inc_gt_200k'] = obs_df['INCOM'] > 8\n",
    "obs_df['age_lt_18'] = obs_df['AGE'] < 18\n",
    "obs_df['age_gt_65'] = obs_df['AGE'] > 65\n",
    "obs_df['hhveh_gt_1'] = obs_df['HHVEH'] > 1\n",
    "obs_df['hhveh_is_1'] = obs_df['HHVEH'] == 1\n",
    "obs_df['hhveh_is_0'] = obs_df['HHVEH'] == 0\n",
    "obs_df['hhveh_gt_0'] = obs_df['HHVEH'] > 0\n",
    "obs_df['veh_pp'] = obs_df['HHVEH'] / obs_df['HHSIZ']\n",
    "obs_df['veh_pp_gt_1'] = obs_df['veh_pp'] > 1\n",
    "obs_df['veh_per_driver'] = obs_df['HHVEH'] / obs_df['HHLIC']\n",
    "obs_df['veh_per_driver_gt_1'] = obs_df['veh_per_driver'] > 1"
   ]
  },
  {
   "cell_type": "code",
   "execution_count": 35,
   "metadata": {},
   "outputs": [],
   "source": [
    "obs_df['block_grp'] = obs_df['HBLOCK'].str[0:12]"
   ]
  },
  {
   "cell_type": "code",
   "execution_count": 36,
   "metadata": {},
   "outputs": [],
   "source": [
    "obs_df = obs_df[obs_df['block_grp'].isin(chts_skims['block_grp'])]"
   ]
  },
  {
   "cell_type": "code",
   "execution_count": 37,
   "metadata": {},
   "outputs": [
    {
     "data": {
      "text/plain": [
       "(32690, 24)"
      ]
     },
     "execution_count": 37,
     "metadata": {},
     "output_type": "execute_result"
    }
   ],
   "source": [
    "obs_df.shape"
   ]
  },
  {
   "cell_type": "code",
   "execution_count": 38,
   "metadata": {},
   "outputs": [],
   "source": [
    "obs_df = obs_df[obs_df['BLOCK'].isin(alts_df.index)]"
   ]
  },
  {
   "cell_type": "code",
   "execution_count": 39,
   "metadata": {},
   "outputs": [
    {
     "data": {
      "text/plain": [
       "(32690, 24)"
      ]
     },
     "execution_count": 39,
     "metadata": {},
     "output_type": "execute_result"
    }
   ],
   "source": [
    "obs_df.shape"
   ]
  },
  {
   "cell_type": "code",
   "execution_count": 40,
   "metadata": {},
   "outputs": [],
   "source": [
    "obs_df = obs_df[(obs_df['AGE'] < 98) & (obs_df['INCOM'] < 98) & (obs_df['HHSIZ'] < 98)]"
   ]
  },
  {
   "cell_type": "code",
   "execution_count": 41,
   "metadata": {},
   "outputs": [
    {
     "data": {
      "text/plain": [
       "(28800, 24)"
      ]
     },
     "execution_count": 41,
     "metadata": {},
     "output_type": "execute_result"
    }
   ],
   "source": [
    "obs_df.shape"
   ]
  },
  {
   "cell_type": "markdown",
   "metadata": {},
   "source": [
    "#### Dists to CBD for Alts"
   ]
  },
  {
   "cell_type": "code",
   "execution_count": 42,
   "metadata": {},
   "outputs": [],
   "source": [
    "chts_skims.set_index(['block_grp', 'dest_block_grp'], inplace=True)"
   ]
  },
  {
   "cell_type": "code",
   "execution_count": 43,
   "metadata": {},
   "outputs": [],
   "source": [
    "alts_df = pd.merge(alts_df, chts_skims[['DIST_meters']], left_on=['dest_block_grp', 'dtsj_bg_id'], right_index=True, how='left')\n",
    "alts_df.rename(columns={'DIST_meters': 'DIST_DTSJ'}, inplace=True)\n",
    "alts_df = pd.merge(alts_df, chts_skims[['DIST_meters']], left_on=['dest_block_grp', 'dtsf_bg_id'], right_index=True, how='left')\n",
    "alts_df.rename(columns={'DIST_meters': 'DIST_DTSF'}, inplace=True)\n",
    "alts_df['dist_to_nearest_cbd'] = alts_df[['DIST_DTSF', 'DIST_DTSJ']].min(axis=1)"
   ]
  },
  {
   "cell_type": "code",
   "execution_count": 44,
   "metadata": {},
   "outputs": [],
   "source": [
    "alts_df['pdna_dtsj_dist'] = net.shortest_path_lengths(alts_df['node_id'], alts_df['dtsj_node_id'])\n",
    "alts_df['pdna_dtsf_dist'] = net.shortest_path_lengths(alts_df['node_id'], alts_df['dtsf_node_id'])"
   ]
  },
  {
   "cell_type": "code",
   "execution_count": 45,
   "metadata": {},
   "outputs": [],
   "source": [
    "alts_df['pdna_dist_to_nearest_cbd'] = alts_df[['pdna_dtsj_dist', 'pdna_dtsf_dist']].min(axis=1)\n",
    "alts_df['dist_to_nearest_cbd'] = alts_df['dist_to_nearest_cbd'].replace(np.inf, np.nan)\n",
    "alts_df['pdna_dist_to_nearest_cbd'] = alts_df['pdna_dist_to_nearest_cbd'].replace(np.inf, np.nan)\n",
    "alts_df.loc[pd.isnull(alts_df['dist_to_nearest_cbd']), 'dist_to_nearest_cbd'] = alts_df.loc[pd.isnull(alts_df['dist_to_nearest_cbd']), 'pdna_dist_to_nearest_cbd']"
   ]
  },
  {
   "cell_type": "markdown",
   "metadata": {},
   "source": [
    "# Create Merged Choice Table "
   ]
  },
  {
   "cell_type": "code",
   "execution_count": 46,
   "metadata": {},
   "outputs": [],
   "source": [
    "sample_size = 1000"
   ]
  },
  {
   "cell_type": "code",
   "execution_count": 47,
   "metadata": {},
   "outputs": [
    {
     "name": "stdout",
     "output_type": "stream",
     "text": [
      "CPU times: user 30.5 s, sys: 7.93 s, total: 38.5 s\n",
      "Wall time: 38.4 s\n"
     ]
    }
   ],
   "source": [
    "%%time \n",
    "mct = MergedChoiceTable(\n",
    "    obs_df, alts_df, chosen_alternatives='BLOCK', sample_size=sample_size, interaction_terms=chts_skims[['DIST_meters']])"
   ]
  },
  {
   "cell_type": "code",
   "execution_count": 48,
   "metadata": {},
   "outputs": [],
   "source": [
    "mct_df = mct.to_frame().reset_index()"
   ]
  },
  {
   "cell_type": "markdown",
   "metadata": {},
   "source": [
    "#### Interaction Terms (Chooser-Alt Distances)"
   ]
  },
  {
   "cell_type": "code",
   "execution_count": 49,
   "metadata": {},
   "outputs": [
    {
     "name": "stdout",
     "output_type": "stream",
     "text": [
      "CPU times: user 22min 31s, sys: 1.29 s, total: 22min 33s\n",
      "Wall time: 46.6 s\n"
     ]
    }
   ],
   "source": [
    "%%time\n",
    "dists = net.shortest_path_lengths(mct_df['node_id_home'], mct_df['node_id'])"
   ]
  },
  {
   "cell_type": "code",
   "execution_count": 50,
   "metadata": {},
   "outputs": [],
   "source": [
    "mct_df['pdna_dists'] = dists"
   ]
  },
  {
   "cell_type": "code",
   "execution_count": 51,
   "metadata": {},
   "outputs": [],
   "source": [
    "mct_df.loc[mct_df['pdna_dists'] > 1e6, 'pdna_dists'] = np.nan"
   ]
  },
  {
   "cell_type": "code",
   "execution_count": 52,
   "metadata": {},
   "outputs": [],
   "source": [
    "# replace NaN BEAM skims with Pandana distances\n",
    "mct_df.loc[pd.isnull(mct_df['DIST_meters']), 'DIST_meters'] = mct_df.loc[pd.isnull(mct_df['DIST_meters']), 'pdna_dists']\n",
    "mct_df.loc[pd.isnull(mct_df['pdna_dists']), 'pdna_dists'] = mct_df.loc[pd.isnull(mct_df['pdna_dists']), 'DIST_meters']\n",
    "mct_df.loc[mct_df['pdna_dists'] == 0, 'pdna_dists'] = mct_df.loc[mct_df['pdna_dists'] == 0, 'DIST_meters']"
   ]
  },
  {
   "cell_type": "code",
   "execution_count": 53,
   "metadata": {},
   "outputs": [
    {
     "name": "stdout",
     "output_type": "stream",
     "text": [
      "Imputing 4 values at most for each chooser\n"
     ]
    }
   ],
   "source": [
    "# impute missing distances\n",
    "counts = mct_df.groupby('obs_id')[['DIST_meters']].count()\n",
    "mean_dists = mct_df.groupby('obs_id')[['DIST_meters']].mean()\n",
    "mean_dists.rename(columns={'DIST_meters': 'mean_DIST_meters'}, inplace=True)\n",
    "print(\"Imputing {0} values at most for each chooser\".format(sample_size - counts.min().values[0]))"
   ]
  },
  {
   "cell_type": "code",
   "execution_count": 54,
   "metadata": {},
   "outputs": [
    {
     "data": {
      "text/plain": [
       "0    26334\n",
       "1     2200\n",
       "2      246\n",
       "3       19\n",
       "4        1\n",
       "Name: DIST_meters, dtype: int64"
      ]
     },
     "execution_count": 54,
     "metadata": {},
     "output_type": "execute_result"
    }
   ],
   "source": [
    "(sample_size - counts['DIST_meters']).value_counts()"
   ]
  },
  {
   "cell_type": "code",
   "execution_count": 55,
   "metadata": {},
   "outputs": [],
   "source": [
    "mct_df = pd.merge(mct_df, mean_dists, left_on='obs_id', right_index=True)\n",
    "mct_df.loc[pd.isnull(mct_df['DIST_meters']), 'DIST_meters'] = mct_df.loc[pd.isnull(mct_df['DIST_meters']), 'mean_DIST_meters']"
   ]
  },
  {
   "cell_type": "markdown",
   "metadata": {},
   "source": [
    "#### Additional Post-processing"
   ]
  },
  {
   "cell_type": "code",
   "execution_count": 56,
   "metadata": {},
   "outputs": [],
   "source": [
    "mct_df = mct_df.sort_values(['obs_id', 'chosen'], ascending=False)\n",
    "mct_df = mct_df[[\n",
    "    'obs_id', 'block_id', 'age_lt_18', 'age_gt_65',\n",
    "    'inc_lt_75k', 'inc_gt_150k', 'veh_pp','veh_per_driver', 'veh_pp_gt_1', 'veh_per_driver_gt_1',\n",
    "    'hhveh_gt_1', 'hhveh_gt_0', 'hhveh_is_0', 'hhveh_is_1', 'pct_retail', 'total_jobs',\n",
    "    'jobs_per_res_unit', 'persons', 'pop_density','DIST_meters', 'dist_to_nearest_cbd',\n",
    "    'chosen']].set_index(['obs_id', 'block_id'])"
   ]
  },
  {
   "cell_type": "code",
   "execution_count": 57,
   "metadata": {},
   "outputs": [],
   "source": [
    "mct = MergedChoiceTable.from_df(mct_df)"
   ]
  },
  {
   "cell_type": "markdown",
   "metadata": {},
   "source": [
    "# Simple model"
   ]
  },
  {
   "cell_type": "code",
   "execution_count": 59,
   "metadata": {},
   "outputs": [
    {
     "name": "stdout",
     "output_type": "stream",
     "text": [
      "                  CHOICEMODELS ESTIMATION RESULTS                   \n",
      "====================================================================\n",
      "Dep. Var.:                chosen   No. Observations:          28,800\n",
      "Model:         Multinomial Logit   Df Residuals:              28,795\n",
      "Method:       Maximum Likelihood   Df Model:                       5\n",
      "Date:                 2022-01-05   Pseudo R-squ.:              0.160\n",
      "Time:                      20:25   Pseudo R-bar-squ.:          0.160\n",
      "AIC:                 334,411.155   Log-Likelihood:      -167,200.577\n",
      "BIC:                 334,452.495   LL-Null:             -198,943.352\n",
      "=========================================================================================\n",
      "                                          coef   std err         z     P>|z|   Conf. Int.\n",
      "-----------------------------------------------------------------------------------------\n",
      "np.log1p(pct_retail)                    2.2708     0.032    71.363     0.000             \n",
      "np.log1p(total_jobs)                    0.6120     0.003   233.446     0.000             \n",
      "np.log1p(persons)                       0.0377     0.002    15.918     0.000             \n",
      "jobs_per_res_unit                      -0.0001     0.000   -11.055     0.000             \n",
      "np.log1p(dist_to_nearest_cbd):veh_pp    0.1165     0.001   110.500     0.000             \n",
      "=========================================================================================\n",
      "CPU times: user 11min 22s, sys: 12min 18s, total: 23min 40s\n",
      "Wall time: 2min 6s\n"
     ]
    }
   ],
   "source": [
    "%%time\n",
    "expression = 'np.log1p(pct_retail) + np.log1p(total_jobs) + ' + \\\n",
    "    'np.log1p(persons) + jobs_per_res_unit + np.log1p(dist_to_nearest_cbd):veh_pp - 1'\n",
    "results = MultinomialLogit(\n",
    "    mct,\n",
    "    model_expression=expression)\n",
    "fitted = results.fit()\n",
    "print(fitted.report_fit())"
   ]
  },
  {
   "cell_type": "code",
   "execution_count": 60,
   "metadata": {},
   "outputs": [
    {
     "data": {
      "text/plain": [
       "[2.2708005690814117,\n",
       " 0.6119614583221185,\n",
       " 0.037655816769314676,\n",
       " -9.098902472454982e-05,\n",
       " 0.1164899750612353]"
      ]
     },
     "execution_count": 60,
     "metadata": {},
     "output_type": "execute_result"
    }
   ],
   "source": [
    "fitted.fitted_parameters"
   ]
  },
  {
   "cell_type": "markdown",
   "metadata": {},
   "source": [
    "# Store data to disk"
   ]
  },
  {
   "cell_type": "code",
   "execution_count": 62,
   "metadata": {},
   "outputs": [],
   "source": [
    "alts_df.to_csv('../data/chts_alts_df.csv')"
   ]
  }
 ],
 "metadata": {
  "kernelspec": {
   "display_name": "Python 3",
   "language": "python",
   "name": "python3"
  },
  "language_info": {
   "codemirror_mode": {
    "name": "ipython",
    "version": 3
   },
   "file_extension": ".py",
   "mimetype": "text/x-python",
   "name": "python",
   "nbconvert_exporter": "python",
   "pygments_lexer": "ipython3",
   "version": "3.8.5"
  }
 },
 "nbformat": 4,
 "nbformat_minor": 5
}
