{
 "cells": [
  {
   "cell_type": "markdown",
   "id": "98316615",
   "metadata": {},
   "source": [
    "- weighting?"
   ]
  },
  {
   "cell_type": "code",
   "execution_count": 1,
   "id": "77282235",
   "metadata": {},
   "outputs": [],
   "source": [
    "import glob\n",
    "from tqdm import tqdm"
   ]
  },
  {
   "cell_type": "code",
   "execution_count": 2,
   "id": "6267bde1",
   "metadata": {},
   "outputs": [],
   "source": [
    "import os\n",
    "import pandas as pd\n",
    "from choicemodels import MultinomialLogit, MultinomialLogitResults\n",
    "from choicemodels.tools import MergedChoiceTable"
   ]
  },
  {
   "cell_type": "code",
   "execution_count": 3,
   "id": "9e7fefe2",
   "metadata": {},
   "outputs": [],
   "source": [
    "from matplotlib import pyplot as plt"
   ]
  },
  {
   "cell_type": "code",
   "execution_count": 4,
   "id": "21fb4c12",
   "metadata": {},
   "outputs": [],
   "source": [
    "import seaborn as sns"
   ]
  },
  {
   "cell_type": "code",
   "execution_count": 5,
   "id": "f3ec496c",
   "metadata": {},
   "outputs": [],
   "source": [
    "import numpy as np"
   ]
  },
  {
   "cell_type": "code",
   "execution_count": 28,
   "id": "b5e3f1e5",
   "metadata": {},
   "outputs": [],
   "source": [
    "import pandana as pdna"
   ]
  },
  {
   "cell_type": "markdown",
   "id": "2306822d",
   "metadata": {},
   "source": [
    "## Load CHTS data "
   ]
  },
  {
   "cell_type": "code",
   "execution_count": 6,
   "id": "7c725e18",
   "metadata": {},
   "outputs": [
    {
     "name": "stderr",
     "output_type": "stream",
     "text": [
      "/home/mgardner/anaconda3/envs/proba/lib/python3.9/site-packages/IPython/core/interactiveshell.py:3441: DtypeWarning: Columns (25,27,31) have mixed types.Specify dtype option on import or set low_memory=False.\n",
      "  exec(code_obj, self.user_global_ns, self.user_ns)\n"
     ]
    }
   ],
   "source": [
    "data_dir = '/home/mgardner/chts-2012/data'\n",
    "chts_persons = pd.read_csv(os.path.join(data_dir, 'Deliv_PER.csv'), low_memory=False)\n",
    "chts_persons_lookup = pd.read_csv(os.path.join(data_dir, 'LookUp_PER.csv'))\n",
    "chts_households = pd.read_csv(os.path.join(data_dir, 'Deliv_HH.csv'))\n",
    "chts_households_lookup = pd.read_csv(os.path.join(data_dir, 'LookUp_Home.csv'))"
   ]
  },
  {
   "cell_type": "markdown",
   "id": "366c2c62",
   "metadata": {},
   "source": [
    "## Get Bay Area Households"
   ]
  },
  {
   "cell_type": "code",
   "execution_count": 7,
   "id": "a9099af6",
   "metadata": {},
   "outputs": [],
   "source": [
    "sfbay_counties = [1, 13, 41, 55, 75, 81, 85, 95, 97]"
   ]
  },
  {
   "cell_type": "code",
   "execution_count": 8,
   "id": "6fbd63d9",
   "metadata": {},
   "outputs": [],
   "source": [
    "chts_persons = pd.merge(\n",
    "    chts_persons.set_index(['SAMPN','PERNO']),\n",
    "    chts_persons_lookup.set_index(['SAMPN','PERNO']),\n",
    "    left_index=True, right_index=True,\n",
    "    suffixes=('_persons', '_lookup')).reset_index()\n",
    "\n",
    "chts_persons = pd.merge(\n",
    "    chts_persons.set_index(['SAMPN']),\n",
    "    chts_households_lookup.set_index(['SAMPN']),\n",
    "    left_index=True, right_index=True).reset_index()\n",
    "\n",
    "chts_persons = chts_persons[chts_persons['HCTFIP'].isin(sfbay_counties)].reset_index()"
   ]
  },
  {
   "cell_type": "code",
   "execution_count": 9,
   "id": "77e24d07",
   "metadata": {},
   "outputs": [
    {
     "data": {
      "text/plain": [
       "(24030, 188)"
      ]
     },
     "execution_count": 9,
     "metadata": {},
     "output_type": "execute_result"
    }
   ],
   "source": [
    "chts_persons.shape"
   ]
  },
  {
   "cell_type": "markdown",
   "id": "be19031d",
   "metadata": {},
   "source": [
    "## Get Discretionary Activity Coordinates"
   ]
  },
  {
   "cell_type": "code",
   "execution_count": 10,
   "id": "6009bbb7",
   "metadata": {},
   "outputs": [],
   "source": [
    "acts = pd.read_csv(os.path.join(data_dir, 'Deliv_ACTIVITY.csv'))"
   ]
  },
  {
   "cell_type": "code",
   "execution_count": 11,
   "id": "f55665b2",
   "metadata": {},
   "outputs": [],
   "source": [
    "acts = pd.merge(chts_persons, acts, on=['SAMPN','PERNO'], suffixes=('_persons', '_acts'))"
   ]
  },
  {
   "cell_type": "markdown",
   "id": "79625bcc",
   "metadata": {},
   "source": [
    "- 1= PERSONAL ACTIVITIES (SLEEPING, PERSONAL CARE, LEISURE, CHORES)\n",
    "- 4=EXERCISE (WITH OR WITHOUT EQUIPMENT)/PLAYING SPORTS\n",
    "- 7=USING COMPUTER/TELEPHONE/CELL OR SMART PHONE OR OTHER COMMUNICATIONS DEVICE FOR PERSONAL ACTIVITIES\n",
    "- 13=NON-WORK RELATED ACTIVITIES (SOCIAL CLUBS, ETC)\n",
    "- 14=EXERCISE/SPORTS\n",
    "- 15=VOLUNTEER WORK/ACTIVITIES\n",
    "- 23=DRIVE THROUGH MEALS (SNACKS, COFFEE, ETC.)\n",
    "- 24=DRIVE THROUGH OTHER (ATM, BANK)\n",
    "- 26=SERVICE PRIVATE VEHICLE (GAS, OIL, LUBE, REPAIRS)\n",
    "- 27=ROUTINE SHOPPING (GROCERIES, CLOTHING, CONVENIENCE STORE, HH MAINTENANCE)\n",
    "- 28=SHOPPING FOR MAJOR PURCHASES OR SPECIALTY ITEMS (APPLIANCE, ELECTRONICS, NEW VEHICLE, MAJORHH REPAIRS)\n",
    "- 29=HOUSEHOLD ERRANDS (BANK, DRY CLEANING, ETC.)\n",
    "- 30=PERSONAL BUSINESS (VISIT GOVERNMENT OFFICE, ATTORNEY, ACCOUNTANT)\n",
    "- 31=EAT MEAL AT RESTAURANT/DINER\n",
    "- 32=HEALTH CARE (DOCTOR, DENTIST, EYE CARE, CHIROPRACTOR, VETERINARIAN)\n",
    "- 33=CIVIC/RELIGIOUS ACTIVITIES\n",
    "- 34=OUTDOOR EXERCISE (PLAYING SPORTS/JOGGING, BICYCLING, WALKING, WALKING THE DOG, ETC.)\n",
    "- 35=INDOOR EXERCISE (GYM, YOGA, ETC.)\n",
    "- 36=ENTERTAINMENT (MOVIES, WATCH SPORTS, ETC)\n",
    "- 37=SOCIAL/VISIT FRIENDS/RELATIVES"
   ]
  },
  {
   "cell_type": "code",
   "execution_count": 12,
   "id": "05928415",
   "metadata": {},
   "outputs": [],
   "source": [
    "acts_disc = acts[acts['APURP'].isin([1, 4, 7, 13, 14, 15, 23, 24, 26, 27, 28, 29, 30, 31, 32, 33, 34, 35, 36, 37])]"
   ]
  },
  {
   "cell_type": "code",
   "execution_count": 13,
   "id": "23dc1863",
   "metadata": {},
   "outputs": [],
   "source": [
    "places = pd.read_csv(os.path.join(data_dir, 'Deliv_PLACE.csv'), low_memory=False)\n",
    "places = places[places['STATE'] == 'CA']"
   ]
  },
  {
   "cell_type": "code",
   "execution_count": 14,
   "id": "4cd8a68f",
   "metadata": {},
   "outputs": [],
   "source": [
    "places_lookup = pd.read_csv(os.path.join(data_dir, 'LookUp_PLACE.csv'), low_memory=False)"
   ]
  },
  {
   "cell_type": "code",
   "execution_count": 15,
   "id": "6bf97821",
   "metadata": {},
   "outputs": [],
   "source": [
    "acts_places = pd.merge(\n",
    "    acts_disc, places[[col for col in places if col not in ['PNAME',\n",
    " 'CITY',\n",
    " 'ZIP',\n",
    " 'XCORD',\n",
    " 'YCORD',\n",
    " 'CTFIP',\n",
    " 'TRACT',\n",
    " 'BLOCK',\n",
    " 'PPrimaryCity']]], on=['SAMPN', 'PERNO', 'PLANO'], suffixes=('_acts_disc', '_places'))"
   ]
  },
  {
   "cell_type": "code",
   "execution_count": 16,
   "id": "8492da33",
   "metadata": {},
   "outputs": [
    {
     "data": {
      "text/plain": [
       "(88568, 249)"
      ]
     },
     "execution_count": 16,
     "metadata": {},
     "output_type": "execute_result"
    }
   ],
   "source": [
    "acts_places.shape"
   ]
  },
  {
   "cell_type": "code",
   "execution_count": 17,
   "id": "118e50d9",
   "metadata": {},
   "outputs": [],
   "source": [
    "acts_places = pd.merge(acts_places, places_lookup, on=['SAMPN','PERNO', 'PLANO'], suffixes=('_acts_disc_places', '_lookup'))"
   ]
  },
  {
   "cell_type": "code",
   "execution_count": 18,
   "id": "91deaddd",
   "metadata": {},
   "outputs": [],
   "source": [
    "acts_places = acts_places[acts_places['CTFIP'].isin(sfbay_counties)]"
   ]
  },
  {
   "cell_type": "code",
   "execution_count": 19,
   "id": "b7b3f38a",
   "metadata": {},
   "outputs": [
    {
     "data": {
      "text/plain": [
       "(86607, 258)"
      ]
     },
     "execution_count": 19,
     "metadata": {},
     "output_type": "execute_result"
    }
   ],
   "source": [
    "acts_places.shape"
   ]
  },
  {
   "cell_type": "code",
   "execution_count": 20,
   "id": "f524c92e",
   "metadata": {},
   "outputs": [],
   "source": [
    "acts_places = acts_places[acts_places['PNAME'] != 'HOME']"
   ]
  },
  {
   "cell_type": "code",
   "execution_count": 21,
   "id": "7bd643f0",
   "metadata": {},
   "outputs": [
    {
     "data": {
      "text/plain": [
       "(32810, 258)"
      ]
     },
     "execution_count": 21,
     "metadata": {},
     "output_type": "execute_result"
    }
   ],
   "source": [
    "acts_places.shape"
   ]
  },
  {
   "cell_type": "code",
   "execution_count": 22,
   "id": "d0e6cbff",
   "metadata": {},
   "outputs": [],
   "source": [
    "obs_df = pd.merge(\n",
    "    acts_places[['SAMPN', 'AGE', 'EMPLY', 'HBLOCK', 'BLOCK']],\n",
    "    chts_households[['SAMPN', 'INCOM', 'HHVEH', 'HHSIZ', 'HHLIC']], on='SAMPN')"
   ]
  },
  {
   "cell_type": "code",
   "execution_count": 23,
   "id": "bb61f649",
   "metadata": {},
   "outputs": [
    {
     "data": {
      "text/plain": [
       "(32810, 9)"
      ]
     },
     "execution_count": 23,
     "metadata": {},
     "output_type": "execute_result"
    }
   ],
   "source": [
    "obs_df.shape"
   ]
  },
  {
   "cell_type": "code",
   "execution_count": 24,
   "id": "9b460e04",
   "metadata": {},
   "outputs": [],
   "source": [
    "obs_df['HBLOCK'] = obs_df['HBLOCK'].astype(str).str.zfill(15)\n",
    "obs_df['BLOCK'] = obs_df['BLOCK'].astype(str).str.zfill(15)"
   ]
  },
  {
   "cell_type": "markdown",
   "id": "41afd308",
   "metadata": {},
   "source": [
    "## Get BEAM Block Group-level Skims"
   ]
  },
  {
   "cell_type": "code",
   "execution_count": 21,
   "id": "81f9839e",
   "metadata": {},
   "outputs": [],
   "source": [
    "all_files = glob.glob(\"/home/mgardner/PILATES/pilates/beam/beam_output/result*\")"
   ]
  },
  {
   "cell_type": "code",
   "execution_count": 54,
   "id": "7e99b5fc",
   "metadata": {},
   "outputs": [
    {
     "name": "stderr",
     "output_type": "stream",
     "text": [
      "100%|██████████████████████████████████████████████████████████████████████████████████████████████████████████████████| 26/26 [05:51<00:00, 13.53s/it]\n"
     ]
    }
   ],
   "source": [
    "chts_skims = pd.DataFrame()\n",
    "for file in tqdm(all_files):\n",
    "    skims = pd.read_csv(\n",
    "        file, usecols=['timePeriod', 'pathType', 'origin', 'destination','DIST_meters'], low_memory=False)\n",
    "    skims = skims[(skims['timePeriod'] == 'AM') & (skims['pathType'] == 'SOV')]\n",
    "    chts_skims = pd.concat((chts_skims, skims), ignore_index=True)"
   ]
  },
  {
   "cell_type": "code",
   "execution_count": 55,
   "id": "36ce9bc1",
   "metadata": {},
   "outputs": [],
   "source": [
    "chts_skims.to_csv('../data/chts_skims.csv', index=False)"
   ]
  },
  {
   "cell_type": "code",
   "execution_count": 25,
   "id": "c1784737",
   "metadata": {},
   "outputs": [],
   "source": [
    "chts_skims = pd.read_csv('../data/chts_skims.csv')"
   ]
  },
  {
   "cell_type": "markdown",
   "id": "a50ca342",
   "metadata": {},
   "source": [
    "## Create Alts from UrbanSim Block Data"
   ]
  },
  {
   "cell_type": "code",
   "execution_count": 26,
   "id": "f86294b9",
   "metadata": {},
   "outputs": [],
   "source": [
    "store = pd.HDFStore('/home/mgardner/PILATES/pilates/urbansim/data/custom_mpo_06197001_model_data.h5')\n",
    "blocks = store['blocks']\n",
    "nodes = store['nodes']\n",
    "edges = store['edges']\n",
    "units = store['residential_units']\n",
    "hh = store['households']\n",
    "jobs = store['jobs']\n",
    "p = store['persons']"
   ]
  },
  {
   "cell_type": "code",
   "execution_count": 27,
   "id": "f08adfac",
   "metadata": {},
   "outputs": [],
   "source": [
    "units_per_block = units.reset_index().groupby('block_id')[['unit_id']].count()\n",
    "units_per_block.rename(columns={'unit_id': 'res_units'}, inplace=True)"
   ]
  },
  {
   "cell_type": "code",
   "execution_count": 29,
   "id": "af671ed1",
   "metadata": {},
   "outputs": [],
   "source": [
    "nodes.set_index('id', inplace=True)"
   ]
  },
  {
   "cell_type": "code",
   "execution_count": 31,
   "id": "2b7d7b9d",
   "metadata": {},
   "outputs": [
    {
     "name": "stdout",
     "output_type": "stream",
     "text": [
      "Generating contraction hierarchies with 36 threads.\n",
      "Setting CH node vector of size 92395\n",
      "Setting CH edge vector of size 232266\n",
      "Range graph removed 233224 edges of 464532\n",
      ". 10% . 20% . 30% . 40% . 50% . 60% . 70% . 80% . 90% . 100%\n"
     ]
    }
   ],
   "source": [
    "net=pdna.Network(nodes[\"x\"], nodes[\"y\"], edges[\"from\"], edges[\"to\"],\n",
    "                 edges[[\"weight\"]])"
   ]
  },
  {
   "cell_type": "code",
   "execution_count": 32,
   "id": "20e8e77c",
   "metadata": {},
   "outputs": [],
   "source": [
    "net.precompute(3000)"
   ]
  },
  {
   "cell_type": "code",
   "execution_count": 33,
   "id": "566c3815",
   "metadata": {},
   "outputs": [],
   "source": [
    "blocks['node_id'] = net.get_node_ids(blocks.x, blocks.y)"
   ]
  },
  {
   "cell_type": "code",
   "execution_count": 34,
   "id": "62f2e7a5",
   "metadata": {},
   "outputs": [],
   "source": [
    "embc_bg_id = '060750105002'\n",
    "sj_bg_id = '060133551141'\n",
    "embc_node_id = blocks.loc['060750105002001', 'node_id']\n",
    "sj_node_id = blocks.loc['060133551141003', 'node_id']"
   ]
  },
  {
   "cell_type": "code",
   "execution_count": 35,
   "id": "b00b4df2",
   "metadata": {},
   "outputs": [],
   "source": [
    "obs_df['node_id_home'] = blocks['node_id'].reindex(obs_df['HBLOCK']).values"
   ]
  },
  {
   "cell_type": "code",
   "execution_count": 37,
   "id": "27c2f543",
   "metadata": {},
   "outputs": [],
   "source": [
    "pp_block = hh.groupby('block_id')['persons'].sum()"
   ]
  },
  {
   "cell_type": "code",
   "execution_count": 39,
   "id": "29de71a5",
   "metadata": {},
   "outputs": [
    {
     "data": {
      "text/plain": [
       "(108469, 14)"
      ]
     },
     "execution_count": 39,
     "metadata": {},
     "output_type": "execute_result"
    }
   ],
   "source": [
    "blocks.shape"
   ]
  },
  {
   "cell_type": "code",
   "execution_count": 40,
   "id": "00f30dd3",
   "metadata": {},
   "outputs": [],
   "source": [
    "retail_jobs = jobs[jobs['sector_id'] == '44-45'].groupby('block_id').count()\n",
    "total_jobs = jobs.groupby('block_id').count()\n",
    "total_jobs.rename(columns={'sector_id': 'total_jobs'}, inplace=True)\n",
    "retail_jobs.rename(columns={'sector_id': 'retail_jobs'}, inplace=True)\n",
    "jobs = pd.merge(total_jobs, retail_jobs, left_index=True, right_index=True, how='outer').fillna(0)\n",
    "jobs['pct_retail'] = jobs['retail_jobs'] / jobs['total_jobs']"
   ]
  },
  {
   "cell_type": "code",
   "execution_count": 41,
   "id": "f11a9c0d",
   "metadata": {},
   "outputs": [],
   "source": [
    "blocks = pd.merge(blocks, jobs[['pct_retail','total_jobs']], left_index=True, right_index=True, how='left').fillna(0)\n",
    "blocks = pd.merge(blocks, pp_block, left_index=True, right_index=True, how='left').fillna(0)\n",
    "blocks = pd.merge(blocks, units_per_block, left_index=True, right_index=True, how='left').fillna(0)\n",
    "blocks['pop_density'] = blocks['persons'] / blocks['square_meters_land']\n",
    "blocks['jobs_per_res_unit'] = blocks['total_jobs'] / blocks['res_units']\n",
    "blocks = blocks[blocks['square_meters_land'] > 0]"
   ]
  },
  {
   "cell_type": "code",
   "execution_count": 42,
   "id": "5ff4d617",
   "metadata": {},
   "outputs": [
    {
     "data": {
      "text/plain": [
       "Index(['x', 'y', 'square_meters_land', 'county_id', 'cousub', 'tract_id',\n",
       "       'block_group_id', 'MPO_ID', 'state_id', 'residential_unit_capacity',\n",
       "       'employment_capacity', 'sum_acres', 'zone_id', 'node_id', 'pct_retail',\n",
       "       'total_jobs', 'persons', 'res_units', 'pop_density',\n",
       "       'jobs_per_res_unit'],\n",
       "      dtype='object')"
      ]
     },
     "execution_count": 42,
     "metadata": {},
     "output_type": "execute_result"
    }
   ],
   "source": [
    "blocks.columns"
   ]
  },
  {
   "cell_type": "code",
   "execution_count": 45,
   "id": "90b26e4b",
   "metadata": {},
   "outputs": [],
   "source": [
    "blocks = blocks[['total_jobs', 'pct_retail', 'persons', 'pop_density', 'res_units', 'jobs_per_res_unit', 'node_id']]"
   ]
  },
  {
   "cell_type": "code",
   "execution_count": 46,
   "id": "544c0a01",
   "metadata": {},
   "outputs": [],
   "source": [
    "alts_df = blocks"
   ]
  },
  {
   "cell_type": "code",
   "execution_count": 47,
   "id": "259908d1",
   "metadata": {},
   "outputs": [],
   "source": [
    "alts_df['dest_block_grp'] = alts_df.index.str[0:12].values"
   ]
  },
  {
   "cell_type": "code",
   "execution_count": 48,
   "id": "160b1bb0",
   "metadata": {},
   "outputs": [],
   "source": [
    "alts_df['dtsj_bg_id'] = sj_bg_id\n",
    "alts_df['dtsf_bg_id'] = embc_bg_id"
   ]
  },
  {
   "cell_type": "code",
   "execution_count": 61,
   "id": "8aed95d2",
   "metadata": {},
   "outputs": [],
   "source": [
    "alts_df['dtsj_node_id'] = sj_node_id\n",
    "alts_df['dtsf_node_id'] = embc_node_id"
   ]
  },
  {
   "cell_type": "markdown",
   "id": "54fd45fc",
   "metadata": {},
   "source": [
    "## Filter Choosers w/ Home Locations not in UrbanSim Block Data"
   ]
  },
  {
   "cell_type": "code",
   "execution_count": 49,
   "id": "5681d164",
   "metadata": {},
   "outputs": [],
   "source": [
    "obs_df = obs_df[obs_df['BLOCK'].isin(blocks.index)]"
   ]
  },
  {
   "cell_type": "code",
   "execution_count": 50,
   "id": "952a46f9",
   "metadata": {},
   "outputs": [
    {
     "data": {
      "text/plain": [
       "(32722, 10)"
      ]
     },
     "execution_count": 50,
     "metadata": {},
     "output_type": "execute_result"
    }
   ],
   "source": [
    "obs_df.shape"
   ]
  },
  {
   "cell_type": "code",
   "execution_count": 51,
   "id": "d01ba083",
   "metadata": {},
   "outputs": [],
   "source": [
    "obs_df = obs_df[obs_df['HBLOCK'].isin(blocks.index)]"
   ]
  },
  {
   "cell_type": "code",
   "execution_count": 52,
   "id": "d53d5899",
   "metadata": {},
   "outputs": [
    {
     "data": {
      "text/plain": [
       "(32690, 10)"
      ]
     },
     "execution_count": 52,
     "metadata": {},
     "output_type": "execute_result"
    }
   ],
   "source": [
    "obs_df.shape"
   ]
  },
  {
   "cell_type": "code",
   "execution_count": 53,
   "id": "e901038d",
   "metadata": {},
   "outputs": [],
   "source": [
    "obs_df['block_grp'] = obs_df['HBLOCK'].str[0:12]"
   ]
  },
  {
   "cell_type": "code",
   "execution_count": 54,
   "id": "f5f40fcc",
   "metadata": {},
   "outputs": [],
   "source": [
    "obs_df['node_id_home'] = obs_df['node_id_home'].astype(int)"
   ]
  },
  {
   "cell_type": "markdown",
   "id": "397988ba",
   "metadata": {},
   "source": [
    "## Chooser Feature Extraction"
   ]
  },
  {
   "cell_type": "code",
   "execution_count": 56,
   "id": "bba9cd47",
   "metadata": {},
   "outputs": [],
   "source": [
    "obs_df['inc_lt_75k'] = obs_df['INCOM'] < 6\n",
    "obs_df['inc_gt_150k'] = obs_df['INCOM'] > 7\n",
    "obs_df['inc_gt_200k'] = obs_df['INCOM'] > 8"
   ]
  },
  {
   "cell_type": "code",
   "execution_count": 57,
   "id": "58cb8ff4",
   "metadata": {},
   "outputs": [],
   "source": [
    "obs_df['age_lt_18'] = obs_df['AGE'] < 18\n",
    "obs_df['age_gt_65'] = obs_df['AGE'] > 65"
   ]
  },
  {
   "cell_type": "code",
   "execution_count": 58,
   "id": "d66d92c1",
   "metadata": {},
   "outputs": [],
   "source": [
    "obs_df['hhveh_gt_1'] = obs_df['HHVEH'] > 1\n",
    "obs_df['hhveh_is_1'] = obs_df['HHVEH'] == 1\n",
    "obs_df['hhveh_is_0'] = obs_df['HHVEH'] == 0\n",
    "obs_df['hhveh_gt_0'] = obs_df['HHVEH'] > 0\n",
    "obs_df['veh_pp'] = obs_df['HHVEH'] / obs_df['HHSIZ']\n",
    "obs_df['veh_pp_gt_1'] = obs_df['veh_pp'] > 1\n",
    "obs_df['veh_per_driver'] = obs_df['HHVEH'] / obs_df['HHLIC']\n",
    "obs_df['veh_per_driver_gt_1'] = obs_df['veh_per_driver'] > 1"
   ]
  },
  {
   "cell_type": "markdown",
   "id": "fa108cdc",
   "metadata": {},
   "source": [
    "## Format Skims as Interaction Terms"
   ]
  },
  {
   "cell_type": "code",
   "execution_count": 55,
   "id": "4fc882c2",
   "metadata": {},
   "outputs": [],
   "source": [
    "chts_skims.rename(columns={'origin': 'block_grp', 'destination':'dest_block_grp'}, inplace=True)\n",
    "chts_skims['block_grp'] = chts_skims['block_grp'].astype(str).str.zfill(12)\n",
    "chts_skims['dest_block_grp'] = chts_skims['dest_block_grp'].astype(str).str.zfill(12)"
   ]
  },
  {
   "cell_type": "markdown",
   "id": "1b859290",
   "metadata": {},
   "source": [
    "#### Filter choosers/alts without origin/dest in skims"
   ]
  },
  {
   "cell_type": "code",
   "execution_count": 59,
   "id": "28d6c8d8",
   "metadata": {},
   "outputs": [],
   "source": [
    "obs_df = obs_df[obs_df['block_grp'].isin(chts_skims['block_grp'])]\n",
    "obs_df = obs_df[obs_df['BLOCK'].isin(alts_df.index)]\n",
    "alts_df = alts_df[alts_df['dest_block_grp'].isin(chts_skims['dest_block_grp'])]"
   ]
  },
  {
   "cell_type": "markdown",
   "id": "44bb3dbb",
   "metadata": {},
   "source": [
    "#### landmark dists"
   ]
  },
  {
   "cell_type": "code",
   "execution_count": 60,
   "id": "e31af558",
   "metadata": {},
   "outputs": [],
   "source": [
    "chts_skims.set_index(['block_grp', 'dest_block_grp'], inplace=True)"
   ]
  },
  {
   "cell_type": "code",
   "execution_count": 62,
   "id": "89791395",
   "metadata": {},
   "outputs": [],
   "source": [
    "alts_df = pd.merge(alts_df, chts_skims[['DIST_meters']], left_on=['dest_block_grp', 'dtsj_bg_id'], right_index=True, how='left')\n",
    "alts_df.rename(columns={'DIST_meters': 'DIST_DTSJ'}, inplace=True)\n",
    "alts_df = pd.merge(alts_df, chts_skims[['DIST_meters']], left_on=['dest_block_grp', 'dtsf_bg_id'], right_index=True, how='left')\n",
    "alts_df.rename(columns={'DIST_meters': 'DIST_DTSF'}, inplace=True)\n",
    "alts_df['dist_to_nearest_cbd'] = alts_df[['DIST_DTSF', 'DIST_DTSJ']].min(axis=1)"
   ]
  },
  {
   "cell_type": "code",
   "execution_count": 63,
   "id": "012315e8",
   "metadata": {},
   "outputs": [],
   "source": [
    "alts_df['pdna_dtsj_dist'] = net.shortest_path_lengths(alts_df['node_id'], alts_df['dtsj_node_id'])\n",
    "alts_df['pdna_dtsf_dist'] = net.shortest_path_lengths(alts_df['node_id'], alts_df['dtsf_node_id'])"
   ]
  },
  {
   "cell_type": "code",
   "execution_count": 64,
   "id": "653cfadd",
   "metadata": {},
   "outputs": [],
   "source": [
    "alts_df['pdna_dist_to_nearest_cbd'] = alts_df[['pdna_dtsj_dist', 'pdna_dtsf_dist']].min(axis=1)\n",
    "alts_df['dist_to_nearest_cbd'] = alts_df['dist_to_nearest_cbd'].replace(np.inf, np.nan)\n",
    "alts_df['pdna_dist_to_nearest_cbd'] = alts_df['pdna_dist_to_nearest_cbd'].replace(np.inf, np.nan)\n",
    "alts_df.loc[pd.isnull(alts_df['dist_to_nearest_cbd']), 'dist_to_nearest_cbd'] = alts_df.loc[pd.isnull(alts_df['dist_to_nearest_cbd']), 'pdna_dist_to_nearest_cbd']"
   ]
  },
  {
   "cell_type": "code",
   "execution_count": 65,
   "id": "118f5b2e",
   "metadata": {},
   "outputs": [
    {
     "data": {
      "text/plain": [
       "count    106910.000000\n",
       "mean      50833.283030\n",
       "std       30264.517755\n",
       "min          29.707000\n",
       "25%       25994.571000\n",
       "50%       46564.770000\n",
       "75%       71994.314000\n",
       "max      167612.453000\n",
       "Name: dist_to_nearest_cbd, dtype: float64"
      ]
     },
     "execution_count": 65,
     "metadata": {},
     "output_type": "execute_result"
    }
   ],
   "source": [
    "alts_df['dist_to_nearest_cbd'].describe()"
   ]
  },
  {
   "cell_type": "markdown",
   "id": "627350cc",
   "metadata": {},
   "source": [
    "## Create Merged Choice Table"
   ]
  },
  {
   "cell_type": "code",
   "execution_count": 66,
   "id": "13a7c8a7",
   "metadata": {},
   "outputs": [],
   "source": [
    "obs_df = obs_df[(obs_df['AGE'] < 98) & (obs_df['INCOM'] < 98) & (obs_df['HHSIZ'] < 98)]"
   ]
  },
  {
   "cell_type": "code",
   "execution_count": 67,
   "id": "27636245",
   "metadata": {},
   "outputs": [],
   "source": [
    "sample_size = 1000"
   ]
  },
  {
   "cell_type": "code",
   "execution_count": 68,
   "id": "c0a7d59e",
   "metadata": {},
   "outputs": [
    {
     "name": "stdout",
     "output_type": "stream",
     "text": [
      "CPU times: user 32.2 s, sys: 7.93 s, total: 40.2 s\n",
      "Wall time: 40.1 s\n"
     ]
    }
   ],
   "source": [
    "%%time \n",
    "mct = MergedChoiceTable(\n",
    "    obs_df, alts_df, chosen_alternatives='BLOCK', sample_size=sample_size, interaction_terms=chts_skims[['DIST_meters']])"
   ]
  },
  {
   "cell_type": "code",
   "execution_count": 69,
   "id": "417775e3",
   "metadata": {},
   "outputs": [],
   "source": [
    "mct_df = mct.to_frame().reset_index()"
   ]
  },
  {
   "cell_type": "markdown",
   "id": "82a19870",
   "metadata": {},
   "source": [
    "#### pandana dists"
   ]
  },
  {
   "cell_type": "code",
   "execution_count": 70,
   "id": "b469ae52",
   "metadata": {},
   "outputs": [
    {
     "name": "stdout",
     "output_type": "stream",
     "text": [
      "CPU times: user 18min 39s, sys: 1.29 s, total: 18min 40s\n",
      "Wall time: 39.2 s\n"
     ]
    }
   ],
   "source": [
    "%%time\n",
    "dists = net.shortest_path_lengths(mct_df['node_id_home'], mct_df['node_id'])"
   ]
  },
  {
   "cell_type": "code",
   "execution_count": 71,
   "id": "829cc36b",
   "metadata": {},
   "outputs": [],
   "source": [
    "mct_df['pdna_dists'] = dists"
   ]
  },
  {
   "cell_type": "code",
   "execution_count": 118,
   "id": "6f59211e",
   "metadata": {},
   "outputs": [
    {
     "data": {
      "text/plain": [
       "Text(0.5, 1.0, 'Distance (m)')"
      ]
     },
     "execution_count": 118,
     "metadata": {},
     "output_type": "execute_result"
    },
    {
     "data": {
      "image/png": "[encoded data removed]",
      "text/plain": [
       "<Figure size 576x576 with 1 Axes>"
      ]
     },
     "metadata": {
      "needs_background": "light"
     },
     "output_type": "display_data"
    }
   ],
   "source": [
    "fig, ax = plt.subplots(figsize=(8,8))\n",
    "sns.scatterplot(data=mct_df.loc[mct_df['pdna_dists'] < 1e6],\n",
    "                x='pdna_dists', y='DIST_meters', alpha=0.05,\n",
    "                edgecolor='none')\n",
    "ax.set_xlabel(\"Pandana\", fontsize=16)\n",
    "ax.set_ylabel(\"BEAM skims\", fontsize=16)\n",
    "ax.set_title(\"Distance (m)\")"
   ]
  },
  {
   "cell_type": "markdown",
   "id": "cd0bde01",
   "metadata": {},
   "source": [
    "#### Replace Null BEAM dists with pdna dists"
   ]
  },
  {
   "cell_type": "code",
   "execution_count": 72,
   "id": "0399a023",
   "metadata": {},
   "outputs": [],
   "source": [
    "mct_df.loc[mct_df['pdna_dists'] > 1e6, 'pdna_dists'] = np.nan\n",
    "mct_df.loc[pd.isnull(mct_df['DIST_meters']), 'DIST_meters'] = mct_df.loc[pd.isnull(mct_df['DIST_meters']), 'pdna_dists']"
   ]
  },
  {
   "cell_type": "code",
   "execution_count": 73,
   "id": "390d2fc5",
   "metadata": {},
   "outputs": [],
   "source": [
    "mct_df.loc[pd.isnull(mct_df['pdna_dists']), 'pdna_dists'] = mct_df.loc[pd.isnull(mct_df['pdna_dists']), 'DIST_meters']"
   ]
  },
  {
   "cell_type": "code",
   "execution_count": 74,
   "id": "fe8ef13a",
   "metadata": {},
   "outputs": [],
   "source": [
    "mct_df.loc[mct_df['pdna_dists'] == 0, 'pdna_dists'] = mct_df.loc[mct_df['pdna_dists'] == 0, 'DIST_meters']"
   ]
  },
  {
   "cell_type": "markdown",
   "id": "68d5e568",
   "metadata": {},
   "source": [
    "#### Impute missing dists (for skim dists only)"
   ]
  },
  {
   "cell_type": "code",
   "execution_count": 75,
   "id": "dff15709",
   "metadata": {},
   "outputs": [],
   "source": [
    "counts = mct_df.groupby('obs_id')[['DIST_meters']].count()\n",
    "mean_dists = mct_df.groupby('obs_id')[['DIST_meters']].mean()"
   ]
  },
  {
   "cell_type": "code",
   "execution_count": 76,
   "id": "2a76b2b0",
   "metadata": {},
   "outputs": [],
   "source": [
    "mean_dists.rename(columns={'DIST_meters': 'mean_DIST_meters'}, inplace=True)"
   ]
  },
  {
   "cell_type": "code",
   "execution_count": 77,
   "id": "0d8321b4",
   "metadata": {},
   "outputs": [
    {
     "name": "stdout",
     "output_type": "stream",
     "text": [
      "Imputing 5 values at most for each chooser\n"
     ]
    }
   ],
   "source": [
    "print(\"Imputing {0} values at most for each chooser\".format(sample_size - counts.min().values[0]))"
   ]
  },
  {
   "cell_type": "code",
   "execution_count": 78,
   "id": "bc9e4754",
   "metadata": {},
   "outputs": [],
   "source": [
    "mct_df = pd.merge(mct_df, mean_dists, left_on='obs_id', right_index=True)\n",
    "mct_df.loc[pd.isnull(mct_df['DIST_meters']), 'DIST_meters'] = mct_df.loc[pd.isnull(mct_df['DIST_meters']), 'mean_DIST_meters']"
   ]
  },
  {
   "cell_type": "code",
   "execution_count": 79,
   "id": "e914c5de",
   "metadata": {},
   "outputs": [],
   "source": [
    "mct_df['res_unit_gt_0'] = mct_df['res_units'] > 0"
   ]
  },
  {
   "cell_type": "code",
   "execution_count": 80,
   "id": "1bfbf6ed",
   "metadata": {},
   "outputs": [],
   "source": [
    "mct_df['jobs_per_res_unit'].replace(np.inf, np.nan, inplace=True)\n",
    "mct_df['jobs_per_res_unit'] = mct_df['jobs_per_res_unit'].fillna(0)"
   ]
  },
  {
   "cell_type": "code",
   "execution_count": 81,
   "id": "8ad4fcf2",
   "metadata": {},
   "outputs": [],
   "source": [
    "mct_df = mct_df.sort_values(['obs_id', 'chosen'], ascending=False)\n",
    "mct_df = mct_df[[\n",
    "    'obs_id', 'block_id', 'age_lt_18', 'age_gt_65',\n",
    "    'inc_lt_75k', 'inc_gt_150k', 'veh_pp','veh_per_driver', 'veh_pp_gt_1', 'veh_per_driver_gt_1',\n",
    "    'hhveh_gt_1', 'hhveh_gt_0', 'hhveh_is_0', 'hhveh_is_1', 'pct_retail', 'total_jobs', 'res_unit_gt_0',\n",
    "    'jobs_per_res_unit', 'persons', 'pop_density','DIST_meters', 'dist_to_nearest_cbd',\n",
    "    'chosen']].set_index(['obs_id', 'block_id'])"
   ]
  },
  {
   "cell_type": "code",
   "execution_count": 82,
   "id": "2fa3ee1e",
   "metadata": {},
   "outputs": [
    {
     "data": {
      "text/html": [
       "<div>\n",
       "<style scoped>\n",
       "    .dataframe tbody tr th:only-of-type {\n",
       "        vertical-align: middle;\n",
       "    }\n",
       "\n",
       "    .dataframe tbody tr th {\n",
       "        vertical-align: top;\n",
       "    }\n",
       "\n",
       "    .dataframe thead th {\n",
       "        text-align: right;\n",
       "    }\n",
       "</style>\n",
       "<table border=\"1\" class=\"dataframe\">\n",
       "  <thead>\n",
       "    <tr style=\"text-align: right;\">\n",
       "      <th></th>\n",
       "      <th>pct_retail</th>\n",
       "      <th>total_jobs</th>\n",
       "      <th>jobs_per_res_unit</th>\n",
       "      <th>persons</th>\n",
       "      <th>pop_density</th>\n",
       "      <th>dist_to_nearest_cbd</th>\n",
       "    </tr>\n",
       "  </thead>\n",
       "  <tbody>\n",
       "    <tr>\n",
       "      <th>count</th>\n",
       "      <td>2.880000e+07</td>\n",
       "      <td>2.880000e+07</td>\n",
       "      <td>2.880000e+07</td>\n",
       "      <td>2.880000e+07</td>\n",
       "      <td>2.880000e+07</td>\n",
       "      <td>2.880000e+07</td>\n",
       "    </tr>\n",
       "    <tr>\n",
       "      <th>mean</th>\n",
       "      <td>3.999457e-02</td>\n",
       "      <td>4.043771e+01</td>\n",
       "      <td>2.226269e+00</td>\n",
       "      <td>6.371853e+01</td>\n",
       "      <td>2.632922e-03</td>\n",
       "      <td>5.083412e+04</td>\n",
       "    </tr>\n",
       "    <tr>\n",
       "      <th>std</th>\n",
       "      <td>1.552238e-01</td>\n",
       "      <td>3.359169e+02</td>\n",
       "      <td>5.553243e+01</td>\n",
       "      <td>1.157038e+02</td>\n",
       "      <td>6.536241e-03</td>\n",
       "      <td>3.027081e+04</td>\n",
       "    </tr>\n",
       "    <tr>\n",
       "      <th>min</th>\n",
       "      <td>0.000000e+00</td>\n",
       "      <td>0.000000e+00</td>\n",
       "      <td>0.000000e+00</td>\n",
       "      <td>0.000000e+00</td>\n",
       "      <td>0.000000e+00</td>\n",
       "      <td>2.970700e+01</td>\n",
       "    </tr>\n",
       "    <tr>\n",
       "      <th>25%</th>\n",
       "      <td>0.000000e+00</td>\n",
       "      <td>0.000000e+00</td>\n",
       "      <td>0.000000e+00</td>\n",
       "      <td>0.000000e+00</td>\n",
       "      <td>0.000000e+00</td>\n",
       "      <td>2.599457e+04</td>\n",
       "    </tr>\n",
       "    <tr>\n",
       "      <th>50%</th>\n",
       "      <td>0.000000e+00</td>\n",
       "      <td>1.000000e+00</td>\n",
       "      <td>0.000000e+00</td>\n",
       "      <td>2.600000e+01</td>\n",
       "      <td>1.282181e-03</td>\n",
       "      <td>4.657564e+04</td>\n",
       "    </tr>\n",
       "    <tr>\n",
       "      <th>75%</th>\n",
       "      <td>0.000000e+00</td>\n",
       "      <td>9.000000e+00</td>\n",
       "      <td>1.250000e-01</td>\n",
       "      <td>8.300000e+01</td>\n",
       "      <td>3.685864e-03</td>\n",
       "      <td>7.201334e+04</td>\n",
       "    </tr>\n",
       "    <tr>\n",
       "      <th>max</th>\n",
       "      <td>1.000000e+00</td>\n",
       "      <td>4.231800e+04</td>\n",
       "      <td>1.410600e+04</td>\n",
       "      <td>3.131000e+03</td>\n",
       "      <td>1.215625e+00</td>\n",
       "      <td>1.676125e+05</td>\n",
       "    </tr>\n",
       "  </tbody>\n",
       "</table>\n",
       "</div>"
      ],
      "text/plain": [
       "         pct_retail    total_jobs  jobs_per_res_unit       persons  \\\n",
       "count  2.880000e+07  2.880000e+07       2.880000e+07  2.880000e+07   \n",
       "mean   3.999457e-02  4.043771e+01       2.226269e+00  6.371853e+01   \n",
       "std    1.552238e-01  3.359169e+02       5.553243e+01  1.157038e+02   \n",
       "min    0.000000e+00  0.000000e+00       0.000000e+00  0.000000e+00   \n",
       "25%    0.000000e+00  0.000000e+00       0.000000e+00  0.000000e+00   \n",
       "50%    0.000000e+00  1.000000e+00       0.000000e+00  2.600000e+01   \n",
       "75%    0.000000e+00  9.000000e+00       1.250000e-01  8.300000e+01   \n",
       "max    1.000000e+00  4.231800e+04       1.410600e+04  3.131000e+03   \n",
       "\n",
       "        pop_density  dist_to_nearest_cbd  \n",
       "count  2.880000e+07         2.880000e+07  \n",
       "mean   2.632922e-03         5.083412e+04  \n",
       "std    6.536241e-03         3.027081e+04  \n",
       "min    0.000000e+00         2.970700e+01  \n",
       "25%    0.000000e+00         2.599457e+04  \n",
       "50%    1.282181e-03         4.657564e+04  \n",
       "75%    3.685864e-03         7.201334e+04  \n",
       "max    1.215625e+00         1.676125e+05  "
      ]
     },
     "execution_count": 82,
     "metadata": {},
     "output_type": "execute_result"
    }
   ],
   "source": [
    "mct_df[['pct_retail', 'total_jobs', 'jobs_per_res_unit', 'persons', 'pop_density', 'dist_to_nearest_cbd']].describe()"
   ]
  },
  {
   "cell_type": "code",
   "execution_count": 83,
   "id": "9fa5eb24",
   "metadata": {},
   "outputs": [],
   "source": [
    "mct = MergedChoiceTable.from_df(mct_df)"
   ]
  },
  {
   "cell_type": "code",
   "execution_count": 238,
   "id": "5cbd6c41",
   "metadata": {
    "scrolled": false
   },
   "outputs": [
    {
     "name": "stdout",
     "output_type": "stream",
     "text": [
      "CPU times: user 3min 58s, sys: 4min 56s, total: 8min 55s\n",
      "Wall time: 57 s\n"
     ]
    },
    {
     "data": {
      "text/plain": [
       "                  CHOICEMODELS ESTIMATION RESULTS                   \n",
       "====================================================================\n",
       "Dep. Var.:                chosen   No. Observations:          28,783\n",
       "Model:         Multinomial Logit   Df Residuals:              28,775\n",
       "Method:       Maximum Likelihood   Df Model:                       8\n",
       "Date:                 2021-12-24   Pseudo R-squ.:              0.438\n",
       "Time:                      00:03   Pseudo R-bar-squ.:          0.437\n",
       "AIC:                 223,688.832   Log-Likelihood:      -111,836.416\n",
       "BIC:                 223,754.972   LL-Null:             -198,825.920\n",
       "===================================================================================================\n",
       "                                                 coef   std err            z     P>|z|   Conf. Int.\n",
       "---------------------------------------------------------------------------------------------------\n",
       "np.log1p(retail_jobs)                          0.7061     0.003      238.257     0.000             \n",
       "np.log1p(pop_density)                        -33.4516     0.871      -38.393     0.000             \n",
       "np.log(DIST_from_home)                        -1.5043     0.001   -1,069.069     0.000             \n",
       "np.log(DIST_from_home):veh_pp_gt_1[T.True]     0.1037     0.003       40.986     0.000             \n",
       "np.log(DIST_from_home):inc_lt_75k[T.True]     -0.0629     0.002      -37.261     0.000             \n",
       "np.log(DIST_from_home):inc_gt_150k[T.True]     0.0291     0.002       16.627     0.000             \n",
       "np.log(DIST_from_home):age_lt_18[T.True]      -0.1076     0.002      -52.600     0.000             \n",
       "np.log(DIST_from_home):age_gt_65[T.True]      -0.0617     0.002      -29.229     0.000             \n",
       "==================================================================================================="
      ]
     },
     "execution_count": 238,
     "metadata": {},
     "output_type": "execute_result"
    }
   ],
   "source": [
    "%%time\n",
    "results = MultinomialLogit(\n",
    "    mct,\n",
    "    model_expression='np.log1p(retail_jobs) + np.log1p(pop_density) + (np.log(DIST_from_home) / (veh_pp_gt_1 + inc_lt_75k + inc_gt_150k + age_lt_18 + age_gt_65)) - 1')\n",
    "results.fit()"
   ]
  },
  {
   "cell_type": "code",
   "execution_count": 176,
   "id": "45986092",
   "metadata": {},
   "outputs": [
    {
     "name": "stdout",
     "output_type": "stream",
     "text": [
      "CPU times: user 3min 22s, sys: 4min 2s, total: 7min 25s\n",
      "Wall time: 50.8 s\n"
     ]
    },
    {
     "data": {
      "text/plain": [
       "                  CHOICEMODELS ESTIMATION RESULTS                   \n",
       "====================================================================\n",
       "Dep. Var.:                chosen   No. Observations:          28,800\n",
       "Model:         Multinomial Logit   Df Residuals:              28,792\n",
       "Method:       Maximum Likelihood   Df Model:                       8\n",
       "Date:                 2021-12-29   Pseudo R-squ.:              0.440\n",
       "Time:                      11:08   Pseudo R-bar-squ.:          0.440\n",
       "AIC:                 222,780.129   Log-Likelihood:      -111,382.064\n",
       "BIC:                 222,846.274   LL-Null:             -198,943.352\n",
       "===============================================================================================\n",
       "                                               coef   std err          z     P>|z|   Conf. Int.\n",
       "-----------------------------------------------------------------------------------------------\n",
       "np.log1p(retail_jobs)                        0.7153     0.003    241.798     0.000             \n",
       "np.log1p(DIST_meters)                       -1.5609     0.002   -725.950     0.000             \n",
       "np.log1p(DIST_meters):hhveh_gt_1[T.True]    -0.0058     0.002     -3.174     0.002             \n",
       "np.log1p(DIST_meters):inc_lt_75k[T.True]    -0.0485     0.002    -28.011     0.000             \n",
       "np.log1p(DIST_meters):inc_gt_150k[T.True]    0.0149     0.002      8.473     0.000             \n",
       "np.log1p(DIST_meters):age_lt_18[T.True]     -0.0921     0.002    -43.424     0.000             \n",
       "np.log1p(DIST_meters):age_gt_65[T.True]     -0.0774     0.002    -36.299     0.000             \n",
       "np.log1p(DIST_meters):veh_pp                 0.0802     0.002     42.574     0.000             \n",
       "==============================================================================================="
      ]
     },
     "execution_count": 176,
     "metadata": {},
     "output_type": "execute_result"
    }
   ],
   "source": [
    "%%time\n",
    "expression = 'np.log1p(retail_jobs) + np.log1p(pop_density) + (np.log1p(DIST_meters)' + \\\n",
    "    '/ (hhveh_gt_1 + veh_pp + inc_lt_75k + inc_gt_150k + age_lt_18 + age_gt_65)) - 1'\n",
    "results = MultinomialLogit(\n",
    "    mct,\n",
    "    model_expression=expression)\n",
    "results.fit()"
   ]
  },
  {
   "cell_type": "code",
   "execution_count": 180,
   "id": "6ae799a9",
   "metadata": {},
   "outputs": [
    {
     "name": "stdout",
     "output_type": "stream",
     "text": [
      "CPU times: user 14min 38s, sys: 11min 33s, total: 26min 11s\n",
      "Wall time: 2min 12s\n"
     ]
    },
    {
     "data": {
      "text/plain": [
       "                  CHOICEMODELS ESTIMATION RESULTS                   \n",
       "====================================================================\n",
       "Dep. Var.:                chosen   No. Observations:          28,800\n",
       "Model:         Multinomial Logit   Df Residuals:              28,791\n",
       "Method:       Maximum Likelihood   Df Model:                       9\n",
       "Date:                 2021-12-29   Pseudo R-squ.:              0.441\n",
       "Time:                      11:47   Pseudo R-bar-squ.:          0.441\n",
       "AIC:                 222,300.495   Log-Likelihood:      -111,141.248\n",
       "BIC:                 222,374.908   LL-Null:             -198,943.352\n",
       "================================================================================================\n",
       "                                                coef   std err          z     P>|z|   Conf. Int.\n",
       "------------------------------------------------------------------------------------------------\n",
       "np.log1p(retail_jobs)                         0.7068     0.003    238.348     0.000             \n",
       "np.log1p(pop_density):age_lt_18[False]      -28.0400     0.907    -30.900     0.000             \n",
       "np.log1p(pop_density):age_lt_18[True]       -58.9143     3.747    -15.725     0.000             \n",
       "np.log1p(pop_density):age_gt_65[T.True]     -37.3773     4.065     -9.195     0.000             \n",
       "np.log1p(DIST_meters)                        -1.6092     0.002   -759.113     0.000             \n",
       "np.log1p(DIST_meters):hhveh_gt_1[T.True]     -0.0002     0.002     -0.127     0.899             \n",
       "np.log1p(DIST_meters):inc_lt_75k[T.True]     -0.0530     0.002    -30.646     0.000             \n",
       "np.log1p(DIST_meters):inc_gt_150k[T.True]     0.0165     0.002      9.429     0.000             \n",
       "np.log1p(DIST_meters):veh_pp                  0.1022     0.002     57.010     0.000             \n",
       "================================================================================================"
      ]
     },
     "execution_count": 180,
     "metadata": {},
     "output_type": "execute_result"
    }
   ],
   "source": [
    "%%time\n",
    "expression = 'np.log1p(retail_jobs) + np.log1p(pop_density):(age_lt_18 + age_gt_65) + (np.log1p(DIST_meters)' + \\\n",
    "    '/ (hhveh_gt_1 + veh_pp + inc_lt_75k + inc_gt_150k)) - 1'\n",
    "results = MultinomialLogit(\n",
    "    mct,\n",
    "    model_expression=expression)\n",
    "results.fit()"
   ]
  },
  {
   "cell_type": "code",
   "execution_count": 179,
   "id": "a4cb60ea",
   "metadata": {},
   "outputs": [
    {
     "name": "stdout",
     "output_type": "stream",
     "text": [
      "CPU times: user 10min 32s, sys: 8min 20s, total: 18min 52s\n",
      "Wall time: 1min 40s\n"
     ]
    },
    {
     "data": {
      "text/plain": [
       "                  CHOICEMODELS ESTIMATION RESULTS                   \n",
       "====================================================================\n",
       "Dep. Var.:                chosen   No. Observations:          28,800\n",
       "Model:         Multinomial Logit   Df Residuals:              28,791\n",
       "Method:       Maximum Likelihood   Df Model:                       9\n",
       "Date:                 2021-12-29   Pseudo R-squ.:              0.441\n",
       "Time:                      11:42   Pseudo R-bar-squ.:          0.441\n",
       "AIC:                 222,320.350   Log-Likelihood:      -111,151.175\n",
       "BIC:                 222,394.764   LL-Null:             -198,943.352\n",
       "================================================================================================\n",
       "                                                coef   std err          z     P>|z|   Conf. Int.\n",
       "------------------------------------------------------------------------------------------------\n",
       "np.log1p(retail_jobs)                         0.7070     0.003    238.439     0.000             \n",
       "np.log1p(pop_density):age_lt_18[False]      -32.4729     0.892    -36.415     0.000             \n",
       "np.log1p(pop_density):age_lt_18[True]       -58.6271     3.751    -15.629     0.000             \n",
       "np.log1p(DIST_meters)                        -1.6053     0.002   -755.763     0.000             \n",
       "np.log1p(DIST_meters):hhveh_gt_1[T.True]     -0.0058     0.002     -3.168     0.002             \n",
       "np.log1p(DIST_meters):inc_lt_75k[T.True]     -0.0484     0.002    -27.928     0.000             \n",
       "np.log1p(DIST_meters):inc_gt_150k[T.True]     0.0130     0.002      7.402     0.000             \n",
       "np.log1p(DIST_meters):age_gt_65[T.True]      -0.0639     0.002    -30.088     0.000             \n",
       "np.log1p(DIST_meters):veh_pp                  0.1127     0.002     61.934     0.000             \n",
       "================================================================================================"
      ]
     },
     "execution_count": 179,
     "metadata": {},
     "output_type": "execute_result"
    }
   ],
   "source": [
    "%%time\n",
    "expression = 'np.log1p(retail_jobs) + np.log1p(pop_density):age_lt_18 + (np.log1p(DIST_meters)' + \\\n",
    "    '/ (hhveh_gt_1 + veh_pp + inc_lt_75k + inc_gt_150k + age_gt_65)) - 1'\n",
    "results = MultinomialLogit(\n",
    "    mct,\n",
    "    model_expression=expression)\n",
    "results.fit()"
   ]
  },
  {
   "cell_type": "code",
   "execution_count": 261,
   "id": "cd0a3e60",
   "metadata": {},
   "outputs": [
    {
     "name": "stdout",
     "output_type": "stream",
     "text": [
      "CPU times: user 19min 45s, sys: 14min 28s, total: 34min 14s\n",
      "Wall time: 2min 46s\n"
     ]
    },
    {
     "data": {
      "text/plain": [
       "                  CHOICEMODELS ESTIMATION RESULTS                   \n",
       "====================================================================\n",
       "Dep. Var.:                chosen   No. Observations:          28,800\n",
       "Model:         Multinomial Logit   Df Residuals:              28,790\n",
       "Method:       Maximum Likelihood   Df Model:                      10\n",
       "Date:                 2021-12-29   Pseudo R-squ.:              0.473\n",
       "Time:                      13:25   Pseudo R-bar-squ.:          0.473\n",
       "AIC:                 209,618.704   Log-Likelihood:      -104,799.352\n",
       "BIC:                 209,701.385   LL-Null:             -198,943.352\n",
       "================================================================================================\n",
       "                                                coef   std err          z     P>|z|   Conf. Int.\n",
       "------------------------------------------------------------------------------------------------\n",
       "np.log1p(pct_retail)                          2.2201     0.034     65.646     0.000             \n",
       "np.log1p(total_jobs)                          0.6145     0.003    212.570     0.000             \n",
       "np.log1p(pop_density):age_lt_18[False]      -25.3214     0.912    -27.757     0.000             \n",
       "np.log1p(pop_density):age_lt_18[True]       -49.3130     3.794    -12.998     0.000             \n",
       "np.log1p(pop_density):age_gt_65[T.True]     -37.7411     3.997     -9.442     0.000             \n",
       "np.log1p(DIST_meters)                        -1.6200     0.002   -664.981     0.000             \n",
       "np.log1p(DIST_meters):hhveh_gt_1[T.True]     -0.0433     0.002    -23.637     0.000             \n",
       "np.log1p(DIST_meters):inc_lt_75k[T.True]     -0.0552     0.002    -31.771     0.000             \n",
       "np.log1p(DIST_meters):inc_gt_150k[T.True]     0.0348     0.002     19.773     0.000             \n",
       "np.log1p(DIST_meters):veh_pp                  0.1053     0.002     58.472     0.000             \n",
       "================================================================================================"
      ]
     },
     "execution_count": 261,
     "metadata": {},
     "output_type": "execute_result"
    }
   ],
   "source": [
    "%%time\n",
    "expression = 'np.log1p(pct_retail) + np.log1p(total_jobs) + np.log1p(pop_density):(age_lt_18 + age_gt_65) + (np.log1p(DIST_meters)' + \\\n",
    "    '/ (hhveh_gt_1 + veh_pp + inc_lt_75k + inc_gt_150k)) - 1'\n",
    "results = MultinomialLogit(\n",
    "    mct,\n",
    "    model_expression=expression)\n",
    "results.fit()"
   ]
  },
  {
   "cell_type": "code",
   "execution_count": 123,
   "id": "0a2274b7",
   "metadata": {},
   "outputs": [
    {
     "name": "stdout",
     "output_type": "stream",
     "text": [
      "CPU times: user 18min 3s, sys: 13min 16s, total: 31min 19s\n",
      "Wall time: 2min 32s\n"
     ]
    },
    {
     "data": {
      "text/plain": [
       "                  CHOICEMODELS ESTIMATION RESULTS                   \n",
       "====================================================================\n",
       "Dep. Var.:                chosen   No. Observations:          28,800\n",
       "Model:         Multinomial Logit   Df Residuals:              28,790\n",
       "Method:       Maximum Likelihood   Df Model:                      10\n",
       "Date:                 2021-12-29   Pseudo R-squ.:              0.473\n",
       "Time:                      22:55   Pseudo R-bar-squ.:          0.473\n",
       "AIC:                 209,641.914   Log-Likelihood:      -104,810.957\n",
       "BIC:                 209,724.596   LL-Null:             -198,943.352\n",
       "================================================================================================\n",
       "                                                coef   std err          z     P>|z|   Conf. Int.\n",
       "------------------------------------------------------------------------------------------------\n",
       "np.log1p(pct_retail)                          2.2377     0.034     66.182     0.000             \n",
       "np.log1p(total_jobs)                          0.6148     0.003    212.912     0.000             \n",
       "np.log1p(pop_density)                       -25.1217     0.910    -27.600     0.000             \n",
       "np.log1p(pop_density):age_lt_18[T.True]     -26.4412     3.865     -6.841     0.000             \n",
       "np.log1p(pop_density):age_gt_65[T.True]     -38.0188     3.990     -9.528     0.000             \n",
       "np.log1p(DIST_meters)                        -1.6136     0.002   -662.178     0.000             \n",
       "np.log1p(DIST_meters):hhveh_gt_1[T.True]     -0.0488     0.002    -26.646     0.000             \n",
       "np.log1p(DIST_meters):inc_lt_75k[T.True]     -0.0597     0.002    -34.406     0.000             \n",
       "np.log1p(DIST_meters):inc_gt_150k[T.True]     0.0189     0.002     10.707     0.000             \n",
       "np.log1p(DIST_meters):veh_pp                  0.1092     0.002     60.604     0.000             \n",
       "================================================================================================"
      ]
     },
     "execution_count": 123,
     "metadata": {},
     "output_type": "execute_result"
    }
   ],
   "source": [
    "%%time\n",
    "expression = 'np.log1p(pct_retail) + np.log1p(total_jobs) + (np.log1p(pop_density))/(age_lt_18 + age_gt_65) + (np.log1p(DIST_meters)' + \\\n",
    "    '/ (hhveh_gt_1 + veh_pp + inc_lt_75k + inc_gt_150k)) - 1'\n",
    "results = MultinomialLogit(\n",
    "    mct,\n",
    "    model_expression=expression)\n",
    "results.fit()"
   ]
  },
  {
   "cell_type": "code",
   "execution_count": 386,
   "id": "2a5fe93b",
   "metadata": {
    "scrolled": false
   },
   "outputs": [
    {
     "name": "stdout",
     "output_type": "stream",
     "text": [
      "CPU times: user 4min 22s, sys: 4min 42s, total: 9min 4s\n",
      "Wall time: 55.1 s\n"
     ]
    },
    {
     "data": {
      "text/plain": [
       "                  CHOICEMODELS ESTIMATION RESULTS                   \n",
       "====================================================================\n",
       "Dep. Var.:                chosen   No. Observations:          28,800\n",
       "Model:         Multinomial Logit   Df Residuals:              28,795\n",
       "Method:       Maximum Likelihood   Df Model:                       5\n",
       "Date:                 2021-12-29   Pseudo R-squ.:              0.398\n",
       "Time:                      16:19   Pseudo R-bar-squ.:          0.398\n",
       "AIC:                 239,712.730   Log-Likelihood:      -119,851.365\n",
       "BIC:                 239,754.071   LL-Null:             -198,943.352\n",
       "==========================================================================================================\n",
       "                                                        coef   std err            z     P>|z|   Conf. Int.\n",
       "----------------------------------------------------------------------------------------------------------\n",
       "np.log1p(pct_retail)                                  2.2993     0.033       69.469     0.000             \n",
       "np.log1p(total_jobs)                                  0.6245     0.003      244.424     0.000             \n",
       "np.log1p(jobs_per_res_unit)                           0.0235     0.005        4.500     0.000             \n",
       "np.log1p(jobs_per_res_unit):np.log1p(pop_density)   -22.4170     1.643      -13.640     0.000             \n",
       "np.log1p(DIST_meters):veh_pp                         -1.7682     0.001   -1,519.421     0.000             \n",
       "=========================================================================================================="
      ]
     },
     "execution_count": 386,
     "metadata": {},
     "output_type": "execute_result"
    }
   ],
   "source": [
    "%%time\n",
    "expression = 'np.log1p(pct_retail) + np.log1p(total_jobs) + np.log1p(jobs_per_res_unit)/np.log1p(pop_density) + (np.log1p(DIST_meters)' + \\\n",
    "    ':veh_pp) - 1'\n",
    "results = MultinomialLogit(\n",
    "    mct,\n",
    "    model_expression=expression)\n",
    "results.fit()"
   ]
  },
  {
   "cell_type": "code",
   "execution_count": 465,
   "id": "c87db975",
   "metadata": {},
   "outputs": [
    {
     "name": "stdout",
     "output_type": "stream",
     "text": [
      "CPU times: user 15min 23s, sys: 16min 50s, total: 32min 13s\n",
      "Wall time: 2min 56s\n"
     ]
    },
    {
     "data": {
      "text/plain": [
       "                  CHOICEMODELS ESTIMATION RESULTS                   \n",
       "====================================================================\n",
       "Dep. Var.:                chosen   No. Observations:          28,800\n",
       "Model:         Multinomial Logit   Df Residuals:              28,795\n",
       "Method:       Maximum Likelihood   Df Model:                       5\n",
       "Date:                 2021-12-29   Pseudo R-squ.:              0.412\n",
       "Time:                      17:29   Pseudo R-bar-squ.:          0.412\n",
       "AIC:                 233,916.498   Log-Likelihood:      -116,953.249\n",
       "BIC:                 233,957.838   LL-Null:             -198,943.352\n",
       "========================================================================================================\n",
       "                                                        coef   std err          z     P>|z|   Conf. Int.\n",
       "--------------------------------------------------------------------------------------------------------\n",
       "np.log1p(pct_retail)                                  2.1366     0.033     63.950     0.000             \n",
       "np.log1p(total_jobs)                                  0.5701     0.002    259.237     0.000             \n",
       "np.log1p(jobs_per_res_unit)                           0.0241     0.005      4.550     0.000             \n",
       "np.log1p(jobs_per_res_unit):np.log1p(pop_density)   -16.8356     1.637    -10.286     0.000             \n",
       "DIST_meters:veh_pp                                   -0.0001     0.000   -488.419     0.000             \n",
       "========================================================================================================"
      ]
     },
     "execution_count": 465,
     "metadata": {},
     "output_type": "execute_result"
    }
   ],
   "source": [
    "%%time\n",
    "expression = 'np.log1p(pct_retail) + np.log1p(total_jobs) + ' + \\\n",
    "    'np.log1p(jobs_per_res_unit)/np.log1p(pop_density) + (DIST_meters:veh_pp) - 1'\n",
    "results = MultinomialLogit(\n",
    "    mct,\n",
    "    model_expression=expression)\n",
    "results.fit()"
   ]
  },
  {
   "cell_type": "code",
   "execution_count": 157,
   "id": "7ab1be1c",
   "metadata": {},
   "outputs": [
    {
     "name": "stdout",
     "output_type": "stream",
     "text": [
      "                  CHOICEMODELS ESTIMATION RESULTS                   \n",
      "====================================================================\n",
      "Dep. Var.:                chosen   No. Observations:          28,800\n",
      "Model:         Multinomial Logit   Df Residuals:              28,795\n",
      "Method:       Maximum Likelihood   Df Model:                       5\n",
      "Date:                 2021-12-29   Pseudo R-squ.:              0.158\n",
      "Time:                      23:18   Pseudo R-bar-squ.:          0.158\n",
      "AIC:                 335,176.888   Log-Likelihood:      -167,583.444\n",
      "BIC:                 335,218.229   LL-Null:             -198,943.352\n",
      "=======================================================================================\n",
      "                                        coef   std err         z     P>|z|   Conf. Int.\n",
      "---------------------------------------------------------------------------------------\n",
      "np.log1p(pct_retail)                  2.3095     0.031    73.666     0.000             \n",
      "np.log1p(total_jobs)                  0.5798     0.003   201.861     0.000             \n",
      "np.log1p(pop_density)                -8.3015     0.850    -9.769     0.000             \n",
      "veh_pp:np.log1p(jobs_per_res_unit)    0.0181     0.005     3.597     0.000             \n",
      "np.log1p(dist_to_nearest_cbd)        -0.0170     0.001   -14.083     0.000             \n",
      "=======================================================================================\n",
      "CPU times: user 4min 25s, sys: 4min 48s, total: 9min 14s\n",
      "Wall time: 56.1 s\n"
     ]
    }
   ],
   "source": [
    "%%time\n",
    "expression = 'np.log1p(pct_retail) + np.log1p(total_jobs) + ' + \\\n",
    "    'np.log1p(pop_density) + veh_pp:np.log1p(jobs_per_res_unit) + np.log1p(dist_to_nearest_cbd) - 1'\n",
    "results = MultinomialLogit(\n",
    "    mct,\n",
    "    model_expression=expression)\n",
    "fitted = results.fit()\n",
    "print(fitted.report_fit())"
   ]
  },
  {
   "cell_type": "code",
   "execution_count": 164,
   "id": "f6d2f4c3",
   "metadata": {},
   "outputs": [],
   "source": [
    "mct_df['intx'] = mct_df['veh_pp'] * np.log1p(mct_df['jobs_per_res_unit'])"
   ]
  },
  {
   "cell_type": "code",
   "execution_count": 165,
   "id": "2ff141fa",
   "metadata": {},
   "outputs": [],
   "source": [
    "mct = MergedChoiceTable.from_df(mct_df)"
   ]
  },
  {
   "cell_type": "code",
   "execution_count": 166,
   "id": "9c70861b",
   "metadata": {
    "scrolled": false
   },
   "outputs": [
    {
     "name": "stdout",
     "output_type": "stream",
     "text": [
      "CPU times: user 4min 25s, sys: 4min 46s, total: 9min 12s\n",
      "Wall time: 55.2 s\n"
     ]
    },
    {
     "data": {
      "text/plain": [
       "                  CHOICEMODELS ESTIMATION RESULTS                   \n",
       "====================================================================\n",
       "Dep. Var.:                chosen   No. Observations:          28,800\n",
       "Model:         Multinomial Logit   Df Residuals:              28,795\n",
       "Method:       Maximum Likelihood   Df Model:                       5\n",
       "Date:                 2021-12-30   Pseudo R-squ.:              0.158\n",
       "Time:                      10:29   Pseudo R-bar-squ.:          0.158\n",
       "AIC:                 335,176.888   Log-Likelihood:      -167,583.444\n",
       "BIC:                 335,218.229   LL-Null:             -198,943.352\n",
       "==================================================================================\n",
       "                                   coef   std err         z     P>|z|   Conf. Int.\n",
       "----------------------------------------------------------------------------------\n",
       "np.log1p(pct_retail)             2.3095     0.031    73.666     0.000             \n",
       "np.log1p(total_jobs)             0.5798     0.003   201.861     0.000             \n",
       "np.log1p(pop_density)           -8.3015     0.850    -9.769     0.000             \n",
       "intx                             0.0181     0.005     3.597     0.000             \n",
       "np.log1p(dist_to_nearest_cbd)   -0.0170     0.001   -14.083     0.000             \n",
       "=================================================================================="
      ]
     },
     "execution_count": 166,
     "metadata": {},
     "output_type": "execute_result"
    }
   ],
   "source": [
    "%%time\n",
    "expression = 'np.log1p(pct_retail) + np.log1p(total_jobs) + ' + \\\n",
    "    'np.log1p(pop_density) + intx + np.log1p(dist_to_nearest_cbd) - 1'\n",
    "results = MultinomialLogit(\n",
    "    mct,\n",
    "    model_expression=expression)\n",
    "results.fit()"
   ]
  },
  {
   "cell_type": "code",
   "execution_count": 85,
   "id": "435a49fc",
   "metadata": {},
   "outputs": [
    {
     "name": "stdout",
     "output_type": "stream",
     "text": [
      "                  CHOICEMODELS ESTIMATION RESULTS                   \n",
      "====================================================================\n",
      "Dep. Var.:                chosen   No. Observations:          28,800\n",
      "Model:         Multinomial Logit   Df Residuals:              28,795\n",
      "Method:       Maximum Likelihood   Df Model:                       5\n",
      "Date:                 2021-12-30   Pseudo R-squ.:              0.159\n",
      "Time:                      10:52   Pseudo R-bar-squ.:          0.159\n",
      "AIC:                 334,633.324   Log-Likelihood:      -167,311.662\n",
      "BIC:                 334,674.665   LL-Null:             -198,943.352\n",
      "=========================================================================================\n",
      "                                          coef   std err         z     P>|z|   Conf. Int.\n",
      "-----------------------------------------------------------------------------------------\n",
      "np.log1p(pct_retail)                    2.3193     0.031    73.770     0.000             \n",
      "np.log1p(total_jobs)                    0.6008     0.002   242.290     0.000             \n",
      "np.log1p(persons)                       0.0508     0.002    22.641     0.000             \n",
      "np.log1p(jobs_per_res_unit)            -0.0193     0.005    -3.921     0.000             \n",
      "np.log1p(dist_to_nearest_cbd):veh_pp    0.1223     0.001   115.754     0.000             \n",
      "=========================================================================================\n",
      "CPU times: user 4min 26s, sys: 4min 47s, total: 9min 14s\n",
      "Wall time: 55.4 s\n"
     ]
    }
   ],
   "source": [
    "%%time\n",
    "expression = 'np.log1p(pct_retail) + np.log1p(total_jobs) + ' + \\\n",
    "    'np.log1p(persons) + np.log1p(jobs_per_res_unit) + np.log1p(dist_to_nearest_cbd):veh_pp - 1'\n",
    "results = MultinomialLogit(\n",
    "    mct,\n",
    "    model_expression=expression)\n",
    "fitted = results.fit()\n",
    "print(fitted.report_fit())"
   ]
  },
  {
   "cell_type": "markdown",
   "id": "da258bf9",
   "metadata": {},
   "source": [
    "# Simulate"
   ]
  },
  {
   "cell_type": "code",
   "execution_count": 86,
   "id": "10386b9c",
   "metadata": {},
   "outputs": [
    {
     "data": {
      "text/plain": [
       "[2.3192508668719496,\n",
       " 0.6008136334725452,\n",
       " 0.050763380696939274,\n",
       " -0.01931958436727215,\n",
       " 0.12227377089378402]"
      ]
     },
     "execution_count": 86,
     "metadata": {},
     "output_type": "execute_result"
    }
   ],
   "source": [
    "fitted.fitted_parameters"
   ]
  },
  {
   "cell_type": "code",
   "execution_count": 88,
   "id": "181f7be0",
   "metadata": {},
   "outputs": [],
   "source": [
    "p = pd.merge(p, hh, left_on='household_id', right_index=True)"
   ]
  },
  {
   "cell_type": "code",
   "execution_count": 390,
   "id": "6ba51909",
   "metadata": {},
   "outputs": [
    {
     "data": {
      "text/plain": [
       "(106910, 7)"
      ]
     },
     "execution_count": 390,
     "metadata": {},
     "output_type": "execute_result"
    }
   ],
   "source": [
    "alts_df.shape"
   ]
  },
  {
   "cell_type": "code",
   "execution_count": 97,
   "id": "058d1714",
   "metadata": {},
   "outputs": [
    {
     "name": "stdout",
     "output_type": "stream",
     "text": [
      "400912\n"
     ]
    }
   ],
   "source": [
    "num_choosers = int(np.floor((750/200) * len(alts_df)))\n",
    "print(num_choosers)"
   ]
  },
  {
   "cell_type": "code",
   "execution_count": 123,
   "id": "d76afaa2",
   "metadata": {},
   "outputs": [],
   "source": [
    "num_choosers = 400000"
   ]
  },
  {
   "cell_type": "code",
   "execution_count": 130,
   "id": "03016e0b",
   "metadata": {},
   "outputs": [],
   "source": [
    "choosers = p[['cars']].sample(num_choosers).values"
   ]
  },
  {
   "cell_type": "code",
   "execution_count": 100,
   "id": "b1977bbd",
   "metadata": {},
   "outputs": [],
   "source": [
    "import jax\n",
    "import jaxlib\n",
    "from jax import grad, jit, vmap\n",
    "import jax.numpy as np\n",
    "import jax.random as random"
   ]
  },
  {
   "cell_type": "code",
   "execution_count": 120,
   "id": "40d98280",
   "metadata": {},
   "outputs": [],
   "source": [
    "from jax import devices, device_put"
   ]
  },
  {
   "cell_type": "code",
   "execution_count": 91,
   "id": "b537eb05",
   "metadata": {},
   "outputs": [
    {
     "name": "stdout",
     "output_type": "stream",
     "text": [
      "gpu\n"
     ]
    }
   ],
   "source": [
    "from jax.lib import xla_bridge\n",
    "print(xla_bridge.get_backend().platform)"
   ]
  },
  {
   "cell_type": "code",
   "execution_count": 92,
   "id": "b75557fb",
   "metadata": {},
   "outputs": [],
   "source": [
    "os.chdir('../scripts')"
   ]
  },
  {
   "cell_type": "code",
   "execution_count": 93,
   "id": "b56c1ef9",
   "metadata": {},
   "outputs": [],
   "source": [
    "import compute_pmass as pm\n",
    "import compute_iter_metrics as cim\n",
    "import large_mnl as lmnl"
   ]
  },
  {
   "cell_type": "code",
   "execution_count": 94,
   "id": "67106924",
   "metadata": {},
   "outputs": [
    {
     "data": {
      "text/plain": [
       "'np.log1p(pct_retail) + np.log1p(total_jobs) + np.log1p(persons) + np.log1p(jobs_per_res_unit) + np.log1p(dist_to_nearest_cbd):veh_pp - 1'"
      ]
     },
     "execution_count": 94,
     "metadata": {},
     "output_type": "execute_result"
    }
   ],
   "source": [
    "fitted.model_expression"
   ]
  },
  {
   "cell_type": "code",
   "execution_count": 95,
   "id": "d5c6f3f4",
   "metadata": {},
   "outputs": [],
   "source": [
    "alts = alts_df[['pct_retail','total_jobs','persons', 'jobs_per_res_unit', 'dist_to_nearest_cbd']].values"
   ]
  },
  {
   "cell_type": "code",
   "execution_count": 96,
   "id": "b46905f5",
   "metadata": {},
   "outputs": [],
   "source": [
    "alts = np.log1p(alts)"
   ]
  },
  {
   "cell_type": "code",
   "execution_count": 124,
   "id": "044a7afa",
   "metadata": {},
   "outputs": [],
   "source": [
    "sample_rates = [.1, .2, .3, .4, .5, .6, .7, .8, .9, 1.0]\n",
    "coeffs = np.array(fitted.fitted_parameters)\n",
    "key = random.PRNGKey(0)\n",
    "num_iters = 10\n",
    "keys = random.split(key, num_choosers)"
   ]
  },
  {
   "cell_type": "code",
   "execution_count": 125,
   "id": "3408fd5c",
   "metadata": {},
   "outputs": [],
   "source": [
    "key_dim = key.shape[0]"
   ]
  },
  {
   "cell_type": "code",
   "execution_count": 133,
   "id": "697d7205",
   "metadata": {},
   "outputs": [],
   "source": [
    "n_chooser_batches = 10000"
   ]
  },
  {
   "cell_type": "code",
   "execution_count": 134,
   "id": "fd2cf29b",
   "metadata": {},
   "outputs": [],
   "source": [
    "choosers_per_batch = int(num_choosers / n_chooser_batches)"
   ]
  },
  {
   "cell_type": "code",
   "execution_count": 118,
   "id": "15f8aaf8",
   "metadata": {},
   "outputs": [],
   "source": [
    "from functools import partial"
   ]
  },
  {
   "cell_type": "code",
   "execution_count": 135,
   "id": "40cac91e",
   "metadata": {},
   "outputs": [],
   "source": [
    "choosers = choosers.reshape((n_chooser_batches, choosers_per_batch))\n",
    "keys = keys.reshape((n_chooser_batches, choosers_per_batch, key_dim))\n",
    "\n",
    "partial_interaction = partial(\n",
    "    lmnl.interaction_probs_all,\n",
    "    alts,\n",
    "    coeffs,\n",
    "    1)"
   ]
  },
  {
   "cell_type": "code",
   "execution_count": 140,
   "id": "47710b20",
   "metadata": {},
   "outputs": [
    {
     "name": "stderr",
     "output_type": "stream",
     "text": [
      "2021-12-30 11:08:57.328135: W external/org_tensorflow/tensorflow/core/common_runtime/bfc_allocator.cc:456] Allocator (GPU_0_bfc) ran out of memory trying to allocate 4.08MiB (rounded to 4276480)requested by op \n",
      "2021-12-30 11:08:57.328414: W external/org_tensorflow/tensorflow/core/common_runtime/bfc_allocator.cc:467] ***************************************************************************************************x\n",
      "2021-12-30 11:08:57.328461: E external/org_tensorflow/tensorflow/compiler/xla/pjrt/pjrt_stream_executor_client.cc:1955] Execution of replica 0 failed: Resource exhausted: Out of memory while trying to allocate 4276400 bytes.\n"
     ]
    },
    {
     "ename": "RuntimeError",
     "evalue": "Resource exhausted: Out of memory while trying to allocate 4276400 bytes.",
     "output_type": "error",
     "traceback": [
      "\u001b[0;31m---------------------------------------------------------------------------\u001b[0m",
      "\u001b[0;31mRuntimeError\u001b[0m                              Traceback (most recent call last)",
      "\u001b[0;32m/tmp/ipykernel_2815318/804453819.py\u001b[0m in \u001b[0;36m<module>\u001b[0;34m\u001b[0m\n\u001b[1;32m      1\u001b[0m \u001b[0;31m# store results on cpu to preserve space on GPU for computation\u001b[0m\u001b[0;34m\u001b[0m\u001b[0;34m\u001b[0m\u001b[0;34m\u001b[0m\u001b[0m\n\u001b[1;32m      2\u001b[0m \u001b[0mcpu\u001b[0m \u001b[0;34m=\u001b[0m \u001b[0mdevices\u001b[0m\u001b[0;34m(\u001b[0m\u001b[0;34m\"cpu\"\u001b[0m\u001b[0;34m)\u001b[0m\u001b[0;34m[\u001b[0m\u001b[0;36m0\u001b[0m\u001b[0;34m]\u001b[0m\u001b[0;34m\u001b[0m\u001b[0;34m\u001b[0m\u001b[0m\n\u001b[0;32m----> 3\u001b[0;31m \u001b[0mresults\u001b[0m \u001b[0;34m=\u001b[0m \u001b[0mdevice_put\u001b[0m\u001b[0;34m(\u001b[0m\u001b[0mnp\u001b[0m\u001b[0;34m.\u001b[0m\u001b[0mzeros\u001b[0m\u001b[0;34m(\u001b[0m\u001b[0;34m(\u001b[0m\u001b[0;36m10\u001b[0m\u001b[0;34m,\u001b[0m \u001b[0malts\u001b[0m\u001b[0;34m.\u001b[0m\u001b[0mshape\u001b[0m\u001b[0;34m[\u001b[0m\u001b[0;36m0\u001b[0m\u001b[0;34m]\u001b[0m\u001b[0;34m)\u001b[0m\u001b[0;34m)\u001b[0m\u001b[0;34m,\u001b[0m \u001b[0mdevice\u001b[0m\u001b[0;34m=\u001b[0m\u001b[0mcpu\u001b[0m\u001b[0;34m)\u001b[0m\u001b[0;34m\u001b[0m\u001b[0;34m\u001b[0m\u001b[0m\n\u001b[0m",
      "\u001b[0;32m~/anaconda3/envs/proba/lib/python3.9/site-packages/jax/_src/numpy/lax_numpy.py\u001b[0m in \u001b[0;36mzeros\u001b[0;34m(shape, dtype)\u001b[0m\n\u001b[1;32m   3133\u001b[0m   \u001b[0mdtype\u001b[0m \u001b[0;34m=\u001b[0m \u001b[0mfloat_\u001b[0m \u001b[0;32mif\u001b[0m \u001b[0mdtype\u001b[0m \u001b[0;32mis\u001b[0m \u001b[0;32mNone\u001b[0m \u001b[0;32melse\u001b[0m \u001b[0mdtype\u001b[0m\u001b[0;34m\u001b[0m\u001b[0;34m\u001b[0m\u001b[0m\n\u001b[1;32m   3134\u001b[0m   \u001b[0mshape\u001b[0m \u001b[0;34m=\u001b[0m \u001b[0;34m(\u001b[0m\u001b[0mshape\u001b[0m\u001b[0;34m,\u001b[0m\u001b[0;34m)\u001b[0m \u001b[0;32mif\u001b[0m \u001b[0mndim\u001b[0m\u001b[0;34m(\u001b[0m\u001b[0mshape\u001b[0m\u001b[0;34m)\u001b[0m \u001b[0;34m==\u001b[0m \u001b[0;36m0\u001b[0m \u001b[0;32melse\u001b[0m \u001b[0mshape\u001b[0m\u001b[0;34m\u001b[0m\u001b[0;34m\u001b[0m\u001b[0m\n\u001b[0;32m-> 3135\u001b[0;31m   \u001b[0;32mreturn\u001b[0m \u001b[0mlax\u001b[0m\u001b[0;34m.\u001b[0m\u001b[0mfull\u001b[0m\u001b[0;34m(\u001b[0m\u001b[0mshape\u001b[0m\u001b[0;34m,\u001b[0m \u001b[0;36m0\u001b[0m\u001b[0;34m,\u001b[0m \u001b[0mdtype\u001b[0m\u001b[0;34m)\u001b[0m\u001b[0;34m\u001b[0m\u001b[0;34m\u001b[0m\u001b[0m\n\u001b[0m\u001b[1;32m   3136\u001b[0m \u001b[0;34m\u001b[0m\u001b[0m\n\u001b[1;32m   3137\u001b[0m \u001b[0;34m@\u001b[0m\u001b[0m_wraps\u001b[0m\u001b[0;34m(\u001b[0m\u001b[0mnp\u001b[0m\u001b[0;34m.\u001b[0m\u001b[0mones\u001b[0m\u001b[0;34m)\u001b[0m\u001b[0;34m\u001b[0m\u001b[0;34m\u001b[0m\u001b[0m\n",
      "\u001b[0;32m~/anaconda3/envs/proba/lib/python3.9/site-packages/jax/_src/lax/lax.py\u001b[0m in \u001b[0;36mfull\u001b[0;34m(shape, fill_value, dtype)\u001b[0m\n\u001b[1;32m   1587\u001b[0m   \u001b[0mdtype\u001b[0m \u001b[0;34m=\u001b[0m \u001b[0mdtypes\u001b[0m\u001b[0;34m.\u001b[0m\u001b[0mcanonicalize_dtype\u001b[0m\u001b[0;34m(\u001b[0m\u001b[0mdtype\u001b[0m \u001b[0;32mor\u001b[0m \u001b[0m_dtype\u001b[0m\u001b[0;34m(\u001b[0m\u001b[0mfill_value\u001b[0m\u001b[0;34m)\u001b[0m\u001b[0;34m)\u001b[0m\u001b[0;34m\u001b[0m\u001b[0;34m\u001b[0m\u001b[0m\n\u001b[1;32m   1588\u001b[0m   \u001b[0mfill_value\u001b[0m \u001b[0;34m=\u001b[0m \u001b[0m_convert_element_type\u001b[0m\u001b[0;34m(\u001b[0m\u001b[0mfill_value\u001b[0m\u001b[0;34m,\u001b[0m \u001b[0mdtype\u001b[0m\u001b[0;34m,\u001b[0m \u001b[0mweak_type\u001b[0m\u001b[0;34m)\u001b[0m\u001b[0;34m\u001b[0m\u001b[0;34m\u001b[0m\u001b[0m\n\u001b[0;32m-> 1589\u001b[0;31m   \u001b[0;32mreturn\u001b[0m \u001b[0mbroadcast\u001b[0m\u001b[0;34m(\u001b[0m\u001b[0mfill_value\u001b[0m\u001b[0;34m,\u001b[0m \u001b[0mshape\u001b[0m\u001b[0;34m)\u001b[0m\u001b[0;34m\u001b[0m\u001b[0;34m\u001b[0m\u001b[0m\n\u001b[0m\u001b[1;32m   1590\u001b[0m \u001b[0;34m\u001b[0m\u001b[0m\n\u001b[1;32m   1591\u001b[0m \u001b[0;32mdef\u001b[0m \u001b[0m_device_put_raw\u001b[0m\u001b[0;34m(\u001b[0m\u001b[0mx\u001b[0m\u001b[0;34m,\u001b[0m \u001b[0mweak_type\u001b[0m\u001b[0;34m=\u001b[0m\u001b[0;32mNone\u001b[0m\u001b[0;34m)\u001b[0m\u001b[0;34m:\u001b[0m\u001b[0;34m\u001b[0m\u001b[0;34m\u001b[0m\u001b[0m\n",
      "\u001b[0;32m~/anaconda3/envs/proba/lib/python3.9/site-packages/jax/_src/lax/lax.py\u001b[0m in \u001b[0;36mbroadcast\u001b[0;34m(operand, sizes)\u001b[0m\n\u001b[1;32m    718\u001b[0m   \"\"\"\n\u001b[1;32m    719\u001b[0m   \u001b[0mdims\u001b[0m \u001b[0;34m=\u001b[0m \u001b[0mtuple\u001b[0m\u001b[0;34m(\u001b[0m\u001b[0mrange\u001b[0m\u001b[0;34m(\u001b[0m\u001b[0mlen\u001b[0m\u001b[0;34m(\u001b[0m\u001b[0msizes\u001b[0m\u001b[0;34m)\u001b[0m\u001b[0;34m,\u001b[0m \u001b[0mlen\u001b[0m\u001b[0;34m(\u001b[0m\u001b[0msizes\u001b[0m\u001b[0;34m)\u001b[0m \u001b[0;34m+\u001b[0m \u001b[0mnp\u001b[0m\u001b[0;34m.\u001b[0m\u001b[0mndim\u001b[0m\u001b[0;34m(\u001b[0m\u001b[0moperand\u001b[0m\u001b[0;34m)\u001b[0m\u001b[0;34m)\u001b[0m\u001b[0;34m)\u001b[0m\u001b[0;34m\u001b[0m\u001b[0;34m\u001b[0m\u001b[0m\n\u001b[0;32m--> 720\u001b[0;31m   \u001b[0;32mreturn\u001b[0m \u001b[0mbroadcast_in_dim\u001b[0m\u001b[0;34m(\u001b[0m\u001b[0moperand\u001b[0m\u001b[0;34m,\u001b[0m \u001b[0mtuple\u001b[0m\u001b[0;34m(\u001b[0m\u001b[0msizes\u001b[0m\u001b[0;34m)\u001b[0m \u001b[0;34m+\u001b[0m \u001b[0mnp\u001b[0m\u001b[0;34m.\u001b[0m\u001b[0mshape\u001b[0m\u001b[0;34m(\u001b[0m\u001b[0moperand\u001b[0m\u001b[0;34m)\u001b[0m\u001b[0;34m,\u001b[0m \u001b[0mdims\u001b[0m\u001b[0;34m)\u001b[0m\u001b[0;34m\u001b[0m\u001b[0;34m\u001b[0m\u001b[0m\n\u001b[0m\u001b[1;32m    721\u001b[0m \u001b[0;34m\u001b[0m\u001b[0m\n\u001b[1;32m    722\u001b[0m def broadcast_in_dim(operand: Array, shape: Shape,\n",
      "\u001b[0;32m~/anaconda3/envs/proba/lib/python3.9/site-packages/jax/_src/lax/lax.py\u001b[0m in \u001b[0;36mbroadcast_in_dim\u001b[0;34m(operand, shape, broadcast_dimensions)\u001b[0m\n\u001b[1;32m    731\u001b[0m       and isinstance(operand, (xla.DeviceArray, core.Tracer))):\n\u001b[1;32m    732\u001b[0m     \u001b[0;32mreturn\u001b[0m \u001b[0moperand\u001b[0m\u001b[0;34m\u001b[0m\u001b[0;34m\u001b[0m\u001b[0m\n\u001b[0;32m--> 733\u001b[0;31m   return broadcast_in_dim_p.bind(\n\u001b[0m\u001b[1;32m    734\u001b[0m       \u001b[0moperand\u001b[0m\u001b[0;34m,\u001b[0m \u001b[0mshape\u001b[0m\u001b[0;34m=\u001b[0m\u001b[0mtuple\u001b[0m\u001b[0;34m(\u001b[0m\u001b[0mshape\u001b[0m\u001b[0;34m)\u001b[0m\u001b[0;34m,\u001b[0m\u001b[0;34m\u001b[0m\u001b[0;34m\u001b[0m\u001b[0m\n\u001b[1;32m    735\u001b[0m       broadcast_dimensions=tuple(broadcast_dimensions))\n",
      "\u001b[0;32m~/anaconda3/envs/proba/lib/python3.9/site-packages/jax/core.py\u001b[0m in \u001b[0;36mbind\u001b[0;34m(self, *args, **params)\u001b[0m\n\u001b[1;32m    262\u001b[0m         args, used_axis_names(self, params) if self._dispatch_on_params else None)\n\u001b[1;32m    263\u001b[0m     \u001b[0mtracers\u001b[0m \u001b[0;34m=\u001b[0m \u001b[0mmap\u001b[0m\u001b[0;34m(\u001b[0m\u001b[0mtop_trace\u001b[0m\u001b[0;34m.\u001b[0m\u001b[0mfull_raise\u001b[0m\u001b[0;34m,\u001b[0m \u001b[0margs\u001b[0m\u001b[0;34m)\u001b[0m\u001b[0;34m\u001b[0m\u001b[0;34m\u001b[0m\u001b[0m\n\u001b[0;32m--> 264\u001b[0;31m     \u001b[0mout\u001b[0m \u001b[0;34m=\u001b[0m \u001b[0mtop_trace\u001b[0m\u001b[0;34m.\u001b[0m\u001b[0mprocess_primitive\u001b[0m\u001b[0;34m(\u001b[0m\u001b[0mself\u001b[0m\u001b[0;34m,\u001b[0m \u001b[0mtracers\u001b[0m\u001b[0;34m,\u001b[0m \u001b[0mparams\u001b[0m\u001b[0;34m)\u001b[0m\u001b[0;34m\u001b[0m\u001b[0;34m\u001b[0m\u001b[0m\n\u001b[0m\u001b[1;32m    265\u001b[0m     \u001b[0;32mreturn\u001b[0m \u001b[0mmap\u001b[0m\u001b[0;34m(\u001b[0m\u001b[0mfull_lower\u001b[0m\u001b[0;34m,\u001b[0m \u001b[0mout\u001b[0m\u001b[0;34m)\u001b[0m \u001b[0;32mif\u001b[0m \u001b[0mself\u001b[0m\u001b[0;34m.\u001b[0m\u001b[0mmultiple_results\u001b[0m \u001b[0;32melse\u001b[0m \u001b[0mfull_lower\u001b[0m\u001b[0;34m(\u001b[0m\u001b[0mout\u001b[0m\u001b[0;34m)\u001b[0m\u001b[0;34m\u001b[0m\u001b[0;34m\u001b[0m\u001b[0m\n\u001b[1;32m    266\u001b[0m \u001b[0;34m\u001b[0m\u001b[0m\n",
      "\u001b[0;32m~/anaconda3/envs/proba/lib/python3.9/site-packages/jax/core.py\u001b[0m in \u001b[0;36mprocess_primitive\u001b[0;34m(self, primitive, tracers, params)\u001b[0m\n\u001b[1;32m    601\u001b[0m \u001b[0;34m\u001b[0m\u001b[0m\n\u001b[1;32m    602\u001b[0m   \u001b[0;32mdef\u001b[0m \u001b[0mprocess_primitive\u001b[0m\u001b[0;34m(\u001b[0m\u001b[0mself\u001b[0m\u001b[0;34m,\u001b[0m \u001b[0mprimitive\u001b[0m\u001b[0;34m,\u001b[0m \u001b[0mtracers\u001b[0m\u001b[0;34m,\u001b[0m \u001b[0mparams\u001b[0m\u001b[0;34m)\u001b[0m\u001b[0;34m:\u001b[0m\u001b[0;34m\u001b[0m\u001b[0;34m\u001b[0m\u001b[0m\n\u001b[0;32m--> 603\u001b[0;31m     \u001b[0;32mreturn\u001b[0m \u001b[0mprimitive\u001b[0m\u001b[0;34m.\u001b[0m\u001b[0mimpl\u001b[0m\u001b[0;34m(\u001b[0m\u001b[0;34m*\u001b[0m\u001b[0mtracers\u001b[0m\u001b[0;34m,\u001b[0m \u001b[0;34m**\u001b[0m\u001b[0mparams\u001b[0m\u001b[0;34m)\u001b[0m\u001b[0;34m\u001b[0m\u001b[0;34m\u001b[0m\u001b[0m\n\u001b[0m\u001b[1;32m    604\u001b[0m \u001b[0;34m\u001b[0m\u001b[0m\n\u001b[1;32m    605\u001b[0m   \u001b[0;32mdef\u001b[0m \u001b[0mprocess_call\u001b[0m\u001b[0;34m(\u001b[0m\u001b[0mself\u001b[0m\u001b[0;34m,\u001b[0m \u001b[0mprimitive\u001b[0m\u001b[0;34m,\u001b[0m \u001b[0mf\u001b[0m\u001b[0;34m,\u001b[0m \u001b[0mtracers\u001b[0m\u001b[0;34m,\u001b[0m \u001b[0mparams\u001b[0m\u001b[0;34m)\u001b[0m\u001b[0;34m:\u001b[0m\u001b[0;34m\u001b[0m\u001b[0;34m\u001b[0m\u001b[0m\n",
      "\u001b[0;32m~/anaconda3/envs/proba/lib/python3.9/site-packages/jax/interpreters/xla.py\u001b[0m in \u001b[0;36mapply_primitive\u001b[0;34m(prim, *args, **params)\u001b[0m\n\u001b[1;32m    247\u001b[0m   \u001b[0;34m\"\"\"Impl rule that compiles and runs a single primitive 'prim' using XLA.\"\"\"\u001b[0m\u001b[0;34m\u001b[0m\u001b[0;34m\u001b[0m\u001b[0m\n\u001b[1;32m    248\u001b[0m   \u001b[0mcompiled_fun\u001b[0m \u001b[0;34m=\u001b[0m \u001b[0mxla_primitive_callable\u001b[0m\u001b[0;34m(\u001b[0m\u001b[0mprim\u001b[0m\u001b[0;34m,\u001b[0m \u001b[0;34m*\u001b[0m\u001b[0munsafe_map\u001b[0m\u001b[0;34m(\u001b[0m\u001b[0marg_spec\u001b[0m\u001b[0;34m,\u001b[0m \u001b[0margs\u001b[0m\u001b[0;34m)\u001b[0m\u001b[0;34m,\u001b[0m \u001b[0;34m**\u001b[0m\u001b[0mparams\u001b[0m\u001b[0;34m)\u001b[0m\u001b[0;34m\u001b[0m\u001b[0;34m\u001b[0m\u001b[0m\n\u001b[0;32m--> 249\u001b[0;31m   \u001b[0;32mreturn\u001b[0m \u001b[0mcompiled_fun\u001b[0m\u001b[0;34m(\u001b[0m\u001b[0;34m*\u001b[0m\u001b[0margs\u001b[0m\u001b[0;34m)\u001b[0m\u001b[0;34m\u001b[0m\u001b[0;34m\u001b[0m\u001b[0m\n\u001b[0m\u001b[1;32m    250\u001b[0m \u001b[0;34m\u001b[0m\u001b[0m\n\u001b[1;32m    251\u001b[0m \u001b[0;34m\u001b[0m\u001b[0m\n",
      "\u001b[0;32m~/anaconda3/envs/proba/lib/python3.9/site-packages/jax/interpreters/xla.py\u001b[0m in \u001b[0;36m_execute_compiled_primitive\u001b[0;34m(prim, compiled, result_handler, *args)\u001b[0m\n\u001b[1;32m    363\u001b[0m   \u001b[0mdevice\u001b[0m\u001b[0;34m,\u001b[0m \u001b[0;34m=\u001b[0m \u001b[0mcompiled\u001b[0m\u001b[0;34m.\u001b[0m\u001b[0mlocal_devices\u001b[0m\u001b[0;34m(\u001b[0m\u001b[0;34m)\u001b[0m\u001b[0;34m\u001b[0m\u001b[0;34m\u001b[0m\u001b[0m\n\u001b[1;32m    364\u001b[0m   \u001b[0minput_bufs\u001b[0m \u001b[0;34m=\u001b[0m \u001b[0mlist\u001b[0m\u001b[0;34m(\u001b[0m\u001b[0mit\u001b[0m\u001b[0;34m.\u001b[0m\u001b[0mchain\u001b[0m\u001b[0;34m.\u001b[0m\u001b[0mfrom_iterable\u001b[0m\u001b[0;34m(\u001b[0m\u001b[0mdevice_put\u001b[0m\u001b[0;34m(\u001b[0m\u001b[0mx\u001b[0m\u001b[0;34m,\u001b[0m \u001b[0mdevice\u001b[0m\u001b[0;34m)\u001b[0m \u001b[0;32mfor\u001b[0m \u001b[0mx\u001b[0m \u001b[0;32min\u001b[0m \u001b[0margs\u001b[0m \u001b[0;32mif\u001b[0m \u001b[0mx\u001b[0m \u001b[0;32mis\u001b[0m \u001b[0;32mnot\u001b[0m \u001b[0mtoken\u001b[0m\u001b[0;34m)\u001b[0m\u001b[0;34m)\u001b[0m\u001b[0;34m\u001b[0m\u001b[0;34m\u001b[0m\u001b[0m\n\u001b[0;32m--> 365\u001b[0;31m   \u001b[0mout_bufs\u001b[0m \u001b[0;34m=\u001b[0m \u001b[0mcompiled\u001b[0m\u001b[0;34m.\u001b[0m\u001b[0mexecute\u001b[0m\u001b[0;34m(\u001b[0m\u001b[0minput_bufs\u001b[0m\u001b[0;34m)\u001b[0m\u001b[0;34m\u001b[0m\u001b[0;34m\u001b[0m\u001b[0m\n\u001b[0m\u001b[1;32m    366\u001b[0m   \u001b[0mcheck_special\u001b[0m\u001b[0;34m(\u001b[0m\u001b[0mprim\u001b[0m\u001b[0;34m.\u001b[0m\u001b[0mname\u001b[0m\u001b[0;34m,\u001b[0m \u001b[0mout_bufs\u001b[0m\u001b[0;34m)\u001b[0m\u001b[0;34m\u001b[0m\u001b[0;34m\u001b[0m\u001b[0m\n\u001b[1;32m    367\u001b[0m   \u001b[0;32mreturn\u001b[0m \u001b[0mresult_handler\u001b[0m\u001b[0;34m(\u001b[0m\u001b[0;34m*\u001b[0m\u001b[0mout_bufs\u001b[0m\u001b[0;34m)\u001b[0m\u001b[0;34m\u001b[0m\u001b[0;34m\u001b[0m\u001b[0m\n",
      "\u001b[0;31mRuntimeError\u001b[0m: Resource exhausted: Out of memory while trying to allocate 4276400 bytes."
     ]
    }
   ],
   "source": [
    "# store results on cpu to preserve space on GPU for computation\n",
    "cpu = devices(\"cpu\")[0]\n",
    "results = device_put(np.zeros((10, alts.shape[0])), device=cpu)"
   ]
  },
  {
   "cell_type": "code",
   "execution_count": 138,
   "id": "5246e8a7",
   "metadata": {},
   "outputs": [
    {
     "name": "stderr",
     "output_type": "stream",
     "text": [
      "  0%|                                                                                          | 0/10000 [00:00<?, ?it/s]2021-12-30 11:07:52.036263: W external/org_tensorflow/tensorflow/core/common_runtime/bfc_allocator.cc:456] Allocator (GPU_0_bfc) ran out of memory trying to allocate 212.07MiB (rounded to 222373888)requested by op \n",
      "2021-12-30 11:07:52.036532: W external/org_tensorflow/tensorflow/core/common_runtime/bfc_allocator.cc:467] ***************************************************************************************************x\n",
      "2021-12-30 11:07:52.036582: E external/org_tensorflow/tensorflow/compiler/xla/pjrt/pjrt_stream_executor_client.cc:1955] Execution of replica 0 failed: Resource exhausted: Out of memory while trying to allocate 222373720 bytes.\n",
      "  0%|                                                                                          | 0/10000 [00:11<?, ?it/s]\n"
     ]
    },
    {
     "ename": "RuntimeError",
     "evalue": "Resource exhausted: Out of memory while trying to allocate 222373720 bytes.",
     "output_type": "error",
     "traceback": [
      "\u001b[0;31m---------------------------------------------------------------------------\u001b[0m",
      "\u001b[0;31mRuntimeError\u001b[0m                              Traceback (most recent call last)",
      "\u001b[0;32m/tmp/ipykernel_2815318/4221419942.py\u001b[0m in \u001b[0;36m<module>\u001b[0;34m\u001b[0m\n\u001b[1;32m      2\u001b[0m     \u001b[0mchooser_batch\u001b[0m \u001b[0;34m=\u001b[0m \u001b[0mchoosers\u001b[0m\u001b[0;34m[\u001b[0m\u001b[0mi\u001b[0m\u001b[0;34m]\u001b[0m\u001b[0;34m\u001b[0m\u001b[0;34m\u001b[0m\u001b[0m\n\u001b[1;32m      3\u001b[0m     \u001b[0mkey_batch\u001b[0m \u001b[0;34m=\u001b[0m \u001b[0mkeys\u001b[0m\u001b[0;34m[\u001b[0m\u001b[0mi\u001b[0m\u001b[0;34m]\u001b[0m\u001b[0;34m\u001b[0m\u001b[0;34m\u001b[0m\u001b[0m\n\u001b[0;32m----> 4\u001b[0;31m     \u001b[0mprobs\u001b[0m \u001b[0;34m=\u001b[0m \u001b[0mvmap\u001b[0m\u001b[0;34m(\u001b[0m\u001b[0mpartial_interaction\u001b[0m\u001b[0;34m)\u001b[0m\u001b[0;34m(\u001b[0m\u001b[0;34m(\u001b[0m\u001b[0mchooser_batch\u001b[0m\u001b[0;34m,\u001b[0m \u001b[0mkey_batch\u001b[0m\u001b[0;34m)\u001b[0m\u001b[0;34m)\u001b[0m\u001b[0;34m\u001b[0m\u001b[0;34m\u001b[0m\u001b[0m\n\u001b[0m\u001b[1;32m      5\u001b[0m     \u001b[0mresults\u001b[0m \u001b[0;34m=\u001b[0m \u001b[0mresults\u001b[0m \u001b[0;34m+\u001b[0m \u001b[0mprobs\u001b[0m\u001b[0;34m.\u001b[0m\u001b[0msum\u001b[0m\u001b[0;34m(\u001b[0m\u001b[0maxis\u001b[0m\u001b[0;34m=\u001b[0m\u001b[0;36m0\u001b[0m\u001b[0;34m)\u001b[0m\u001b[0;34m\u001b[0m\u001b[0;34m\u001b[0m\u001b[0m\n\u001b[1;32m      6\u001b[0m     \u001b[0;32mdel\u001b[0m \u001b[0mprobs\u001b[0m\u001b[0;34m\u001b[0m\u001b[0;34m\u001b[0m\u001b[0m\n",
      "    \u001b[0;31m[... skipping hidden 14 frame]\u001b[0m\n",
      "\u001b[0;32m~/anaconda3/envs/proba/lib/python3.9/site-packages/jax/interpreters/xla.py\u001b[0m in \u001b[0;36m_execute_compiled\u001b[0;34m(compiled, avals, handlers, kept_var_idx, *args)\u001b[0m\n\u001b[1;32m    891\u001b[0m           \u001b[0;32mfor\u001b[0m \u001b[0mi\u001b[0m\u001b[0;34m,\u001b[0m \u001b[0mx\u001b[0m \u001b[0;32min\u001b[0m \u001b[0menumerate\u001b[0m\u001b[0;34m(\u001b[0m\u001b[0margs\u001b[0m\u001b[0;34m)\u001b[0m\u001b[0;34m\u001b[0m\u001b[0;34m\u001b[0m\u001b[0m\n\u001b[1;32m    892\u001b[0m           if x is not token and i in kept_var_idx))\n\u001b[0;32m--> 893\u001b[0;31m   \u001b[0mout_bufs\u001b[0m \u001b[0;34m=\u001b[0m \u001b[0mcompiled\u001b[0m\u001b[0;34m.\u001b[0m\u001b[0mexecute\u001b[0m\u001b[0;34m(\u001b[0m\u001b[0minput_bufs\u001b[0m\u001b[0;34m)\u001b[0m\u001b[0;34m\u001b[0m\u001b[0;34m\u001b[0m\u001b[0m\n\u001b[0m\u001b[1;32m    894\u001b[0m   \u001b[0mcheck_special\u001b[0m\u001b[0;34m(\u001b[0m\u001b[0mxla_call_p\u001b[0m\u001b[0;34m.\u001b[0m\u001b[0mname\u001b[0m\u001b[0;34m,\u001b[0m \u001b[0mout_bufs\u001b[0m\u001b[0;34m)\u001b[0m\u001b[0;34m\u001b[0m\u001b[0;34m\u001b[0m\u001b[0m\n\u001b[1;32m    895\u001b[0m   \u001b[0;32mreturn\u001b[0m \u001b[0;34m[\u001b[0m\u001b[0mhandler\u001b[0m\u001b[0;34m(\u001b[0m\u001b[0;34m*\u001b[0m\u001b[0mbs\u001b[0m\u001b[0;34m)\u001b[0m \u001b[0;32mfor\u001b[0m \u001b[0mhandler\u001b[0m\u001b[0;34m,\u001b[0m \u001b[0mbs\u001b[0m \u001b[0;32min\u001b[0m \u001b[0mzip\u001b[0m\u001b[0;34m(\u001b[0m\u001b[0mhandlers\u001b[0m\u001b[0;34m,\u001b[0m \u001b[0m_partition_outputs\u001b[0m\u001b[0;34m(\u001b[0m\u001b[0mavals\u001b[0m\u001b[0;34m,\u001b[0m \u001b[0mout_bufs\u001b[0m\u001b[0;34m)\u001b[0m\u001b[0;34m)\u001b[0m\u001b[0;34m]\u001b[0m\u001b[0;34m\u001b[0m\u001b[0;34m\u001b[0m\u001b[0m\n",
      "\u001b[0;31mRuntimeError\u001b[0m: Resource exhausted: Out of memory while trying to allocate 222373720 bytes."
     ]
    }
   ],
   "source": [
    "for i in tqdm(range(n_chooser_batches)):\n",
    "    chooser_batch = choosers[i]\n",
    "    key_batch = keys[i]\n",
    "    probs = vmap(partial_interaction)((chooser_batch, key_batch))\n",
    "    results = results + probs.sum(axis=0)\n",
    "    del probs"
   ]
  },
  {
   "cell_type": "code",
   "execution_count": 104,
   "id": "ea8e5085",
   "metadata": {},
   "outputs": [
    {
     "name": "stderr",
     "output_type": "stream",
     "text": [
      "2021-12-30 10:57:53.861663: W external/org_tensorflow/tensorflow/core/common_runtime/bfc_allocator.cc:456] Allocator (GPU_0_bfc) ran out of memory trying to allocate 1.56TiB (rounded to 1714460076800)requested by op \n",
      "2021-12-30 10:57:53.861894: W external/org_tensorflow/tensorflow/core/common_runtime/bfc_allocator.cc:467] *___________________________________________________________________________________________________\n",
      "2021-12-30 10:57:53.861941: E external/org_tensorflow/tensorflow/compiler/xla/pjrt/pjrt_stream_executor_client.cc:1955] Execution of replica 0 failed: Resource exhausted: Out of memory while trying to allocate 1714460076800 bytes.\n"
     ]
    },
    {
     "ename": "RuntimeError",
     "evalue": "Resource exhausted: Out of memory while trying to allocate 1714460076800 bytes.",
     "output_type": "error",
     "traceback": [
      "\u001b[0;31m---------------------------------------------------------------------------\u001b[0m",
      "\u001b[0;31mRuntimeError\u001b[0m                              Traceback (most recent call last)",
      "\u001b[0;32m<timed exec>\u001b[0m in \u001b[0;36m<module>\u001b[0;34m\u001b[0m\n",
      "    \u001b[0;31m[... skipping hidden 14 frame]\u001b[0m\n",
      "\u001b[0;32m~/anaconda3/envs/proba/lib/python3.9/site-packages/jax/interpreters/xla.py\u001b[0m in \u001b[0;36m_execute_compiled\u001b[0;34m(compiled, avals, handlers, kept_var_idx, *args)\u001b[0m\n\u001b[1;32m    891\u001b[0m           \u001b[0;32mfor\u001b[0m \u001b[0mi\u001b[0m\u001b[0;34m,\u001b[0m \u001b[0mx\u001b[0m \u001b[0;32min\u001b[0m \u001b[0menumerate\u001b[0m\u001b[0;34m(\u001b[0m\u001b[0margs\u001b[0m\u001b[0;34m)\u001b[0m\u001b[0;34m\u001b[0m\u001b[0;34m\u001b[0m\u001b[0m\n\u001b[1;32m    892\u001b[0m           if x is not token and i in kept_var_idx))\n\u001b[0;32m--> 893\u001b[0;31m   \u001b[0mout_bufs\u001b[0m \u001b[0;34m=\u001b[0m \u001b[0mcompiled\u001b[0m\u001b[0;34m.\u001b[0m\u001b[0mexecute\u001b[0m\u001b[0;34m(\u001b[0m\u001b[0minput_bufs\u001b[0m\u001b[0;34m)\u001b[0m\u001b[0;34m\u001b[0m\u001b[0;34m\u001b[0m\u001b[0m\n\u001b[0m\u001b[1;32m    894\u001b[0m   \u001b[0mcheck_special\u001b[0m\u001b[0;34m(\u001b[0m\u001b[0mxla_call_p\u001b[0m\u001b[0;34m.\u001b[0m\u001b[0mname\u001b[0m\u001b[0;34m,\u001b[0m \u001b[0mout_bufs\u001b[0m\u001b[0;34m)\u001b[0m\u001b[0;34m\u001b[0m\u001b[0;34m\u001b[0m\u001b[0m\n\u001b[1;32m    895\u001b[0m   \u001b[0;32mreturn\u001b[0m \u001b[0;34m[\u001b[0m\u001b[0mhandler\u001b[0m\u001b[0;34m(\u001b[0m\u001b[0;34m*\u001b[0m\u001b[0mbs\u001b[0m\u001b[0;34m)\u001b[0m \u001b[0;32mfor\u001b[0m \u001b[0mhandler\u001b[0m\u001b[0;34m,\u001b[0m \u001b[0mbs\u001b[0m \u001b[0;32min\u001b[0m \u001b[0mzip\u001b[0m\u001b[0;34m(\u001b[0m\u001b[0mhandlers\u001b[0m\u001b[0;34m,\u001b[0m \u001b[0m_partition_outputs\u001b[0m\u001b[0;34m(\u001b[0m\u001b[0mavals\u001b[0m\u001b[0;34m,\u001b[0m \u001b[0mout_bufs\u001b[0m\u001b[0;34m)\u001b[0m\u001b[0;34m)\u001b[0m\u001b[0;34m]\u001b[0m\u001b[0;34m\u001b[0m\u001b[0;34m\u001b[0m\u001b[0m\n",
      "\u001b[0;31mRuntimeError\u001b[0m: Resource exhausted: Out of memory while trying to allocate 1714460076800 bytes."
     ]
    }
   ],
   "source": [
    "%%time\n",
    "results = vmap(\n",
    "    lmnl.interaction_probs_all, in_axes=(None, None, None, 0))(\n",
    "    alts, coeffs, 1, (choosers, keys))"
   ]
  },
  {
   "cell_type": "code",
   "execution_count": null,
   "id": "6277624d",
   "metadata": {},
   "outputs": [],
   "source": []
  }
 ],
 "metadata": {
  "kernelspec": {
   "display_name": "Python [conda env:proba]",
   "language": "python",
   "name": "conda-env-proba-py"
  },
  "language_info": {
   "codemirror_mode": {
    "name": "ipython",
    "version": 3
   },
   "file_extension": ".py",
   "mimetype": "text/x-python",
   "name": "python",
   "nbconvert_exporter": "python",
   "pygments_lexer": "ipython3",
   "version": "3.9.6"
  }
 },
 "nbformat": 4,
 "nbformat_minor": 5
}
