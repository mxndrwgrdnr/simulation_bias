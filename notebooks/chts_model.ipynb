{
 "cells": [
  {
   "cell_type": "markdown",
   "id": "98316615",
   "metadata": {},
   "source": [
    "- weighting?"
   ]
  },
  {
   "cell_type": "code",
   "execution_count": 1,
   "id": "77282235",
   "metadata": {},
   "outputs": [],
   "source": [
    "import glob\n",
    "from tqdm import tqdm"
   ]
  },
  {
   "cell_type": "code",
   "execution_count": 2,
   "id": "6267bde1",
   "metadata": {},
   "outputs": [],
   "source": [
    "import os\n",
    "import pandas as pd\n",
    "from choicemodels import MultinomialLogit, MultinomialLogitResults\n",
    "from choicemodels.tools import MergedChoiceTable"
   ]
  },
  {
   "cell_type": "markdown",
   "id": "2306822d",
   "metadata": {},
   "source": [
    "## Load CHTS data "
   ]
  },
  {
   "cell_type": "code",
   "execution_count": 3,
   "id": "7c725e18",
   "metadata": {},
   "outputs": [
    {
     "name": "stderr",
     "output_type": "stream",
     "text": [
      "/home/mgardner/anaconda3/envs/proba/lib/python3.9/site-packages/IPython/core/interactiveshell.py:3441: DtypeWarning: Columns (25,27,31) have mixed types.Specify dtype option on import or set low_memory=False.\n",
      "  exec(code_obj, self.user_global_ns, self.user_ns)\n"
     ]
    }
   ],
   "source": [
    "data_dir = '/home/mgardner/chts-2012/data'\n",
    "chts_persons = pd.read_csv(os.path.join(data_dir, 'Deliv_PER.csv'), low_memory=False)\n",
    "chts_persons_lookup = pd.read_csv(os.path.join(data_dir, 'LookUp_PER.csv'))\n",
    "chts_households = pd.read_csv(os.path.join(data_dir, 'Deliv_HH.csv'))\n",
    "chts_households_lookup = pd.read_csv(os.path.join(data_dir, 'LookUp_Home.csv'))"
   ]
  },
  {
   "cell_type": "markdown",
   "id": "366c2c62",
   "metadata": {},
   "source": [
    "## Get Bay Area Households"
   ]
  },
  {
   "cell_type": "code",
   "execution_count": 4,
   "id": "a9099af6",
   "metadata": {},
   "outputs": [],
   "source": [
    "sfbay_counties = [1, 13, 41, 55, 75, 81, 85, 95, 97]"
   ]
  },
  {
   "cell_type": "code",
   "execution_count": 5,
   "id": "6fbd63d9",
   "metadata": {},
   "outputs": [],
   "source": [
    "chts_persons = pd.merge(\n",
    "    chts_persons.set_index(['SAMPN','PERNO']),\n",
    "    chts_persons_lookup.set_index(['SAMPN','PERNO']),\n",
    "    left_index=True, right_index=True,\n",
    "    suffixes=('_persons', '_lookup')).reset_index()\n",
    "\n",
    "chts_persons = pd.merge(\n",
    "    chts_persons.set_index(['SAMPN']),\n",
    "    chts_households_lookup.set_index(['SAMPN']),\n",
    "    left_index=True, right_index=True).reset_index()\n",
    "\n",
    "chts_persons = chts_persons[chts_persons['HCTFIP'].isin(sfbay_counties)].reset_index()"
   ]
  },
  {
   "cell_type": "code",
   "execution_count": 6,
   "id": "77e24d07",
   "metadata": {},
   "outputs": [
    {
     "data": {
      "text/plain": [
       "(24030, 188)"
      ]
     },
     "execution_count": 6,
     "metadata": {},
     "output_type": "execute_result"
    }
   ],
   "source": [
    "chts_persons.shape"
   ]
  },
  {
   "cell_type": "markdown",
   "id": "be19031d",
   "metadata": {},
   "source": [
    "## Get Discretionary Activity Coordinates"
   ]
  },
  {
   "cell_type": "code",
   "execution_count": 7,
   "id": "6009bbb7",
   "metadata": {},
   "outputs": [],
   "source": [
    "acts = pd.read_csv(os.path.join(data_dir, 'Deliv_ACTIVITY.csv'))"
   ]
  },
  {
   "cell_type": "code",
   "execution_count": 8,
   "id": "f55665b2",
   "metadata": {},
   "outputs": [],
   "source": [
    "acts = pd.merge(chts_persons, acts, on=['SAMPN','PERNO'], suffixes=('_persons', '_acts'))"
   ]
  },
  {
   "cell_type": "markdown",
   "id": "79625bcc",
   "metadata": {},
   "source": [
    "- 1= PERSONAL ACTIVITIES (SLEEPING, PERSONAL CARE, LEISURE, CHORES)\n",
    "- 4=EXERCISE (WITH OR WITHOUT EQUIPMENT)/PLAYING SPORTS\n",
    "- 7=USING COMPUTER/TELEPHONE/CELL OR SMART PHONE OR OTHER COMMUNICATIONS DEVICE FOR PERSONAL ACTIVITIES\n",
    "- 13=NON-WORK RELATED ACTIVITIES (SOCIAL CLUBS, ETC)\n",
    "- 14=EXERCISE/SPORTS\n",
    "- 15=VOLUNTEER WORK/ACTIVITIES\n",
    "- 23=DRIVE THROUGH MEALS (SNACKS, COFFEE, ETC.)\n",
    "- 24=DRIVE THROUGH OTHER (ATM, BANK)\n",
    "- 26=SERVICE PRIVATE VEHICLE (GAS, OIL, LUBE, REPAIRS)\n",
    "- 27=ROUTINE SHOPPING (GROCERIES, CLOTHING, CONVENIENCE STORE, HH MAINTENANCE)\n",
    "- 28=SHOPPING FOR MAJOR PURCHASES OR SPECIALTY ITEMS (APPLIANCE, ELECTRONICS, NEW VEHICLE, MAJORHH REPAIRS)\n",
    "- 29=HOUSEHOLD ERRANDS (BANK, DRY CLEANING, ETC.)\n",
    "- 30=PERSONAL BUSINESS (VISIT GOVERNMENT OFFICE, ATTORNEY, ACCOUNTANT)\n",
    "- 31=EAT MEAL AT RESTAURANT/DINER\n",
    "- 32=HEALTH CARE (DOCTOR, DENTIST, EYE CARE, CHIROPRACTOR, VETERINARIAN)\n",
    "- 33=CIVIC/RELIGIOUS ACTIVITIES\n",
    "- 34=OUTDOOR EXERCISE (PLAYING SPORTS/JOGGING, BICYCLING, WALKING, WALKING THE DOG, ETC.)\n",
    "- 35=INDOOR EXERCISE (GYM, YOGA, ETC.)\n",
    "- 36=ENTERTAINMENT (MOVIES, WATCH SPORTS, ETC)\n",
    "- 37=SOCIAL/VISIT FRIENDS/RELATIVES"
   ]
  },
  {
   "cell_type": "code",
   "execution_count": 9,
   "id": "05928415",
   "metadata": {},
   "outputs": [],
   "source": [
    "acts_disc = acts[acts['APURP'].isin([1, 4, 7, 13, 14, 15, 23, 24, 26, 27, 28, 29, 30, 31, 32, 33, 34, 35, 36, 37])]"
   ]
  },
  {
   "cell_type": "code",
   "execution_count": 10,
   "id": "23dc1863",
   "metadata": {},
   "outputs": [],
   "source": [
    "places = pd.read_csv(os.path.join(data_dir, 'Deliv_PLACE.csv'), low_memory=False)\n",
    "places = places[places['STATE'] == 'CA']"
   ]
  },
  {
   "cell_type": "code",
   "execution_count": 11,
   "id": "4cd8a68f",
   "metadata": {},
   "outputs": [],
   "source": [
    "places_lookup = pd.read_csv(os.path.join(data_dir, 'LookUp_PLACE.csv'), low_memory=False)"
   ]
  },
  {
   "cell_type": "code",
   "execution_count": 12,
   "id": "6bf97821",
   "metadata": {},
   "outputs": [],
   "source": [
    "acts_places = pd.merge(\n",
    "    acts_disc, places[[col for col in places if col not in ['PNAME',\n",
    " 'CITY',\n",
    " 'ZIP',\n",
    " 'XCORD',\n",
    " 'YCORD',\n",
    " 'CTFIP',\n",
    " 'TRACT',\n",
    " 'BLOCK',\n",
    " 'PPrimaryCity']]], on=['SAMPN', 'PERNO', 'PLANO'], suffixes=('_acts_disc', '_places'))"
   ]
  },
  {
   "cell_type": "code",
   "execution_count": 13,
   "id": "8492da33",
   "metadata": {},
   "outputs": [
    {
     "data": {
      "text/plain": [
       "(88568, 249)"
      ]
     },
     "execution_count": 13,
     "metadata": {},
     "output_type": "execute_result"
    }
   ],
   "source": [
    "acts_places.shape"
   ]
  },
  {
   "cell_type": "code",
   "execution_count": 14,
   "id": "118e50d9",
   "metadata": {},
   "outputs": [],
   "source": [
    "acts_places = pd.merge(acts_places, places_lookup, on=['SAMPN','PERNO', 'PLANO'], suffixes=('_acts_disc_places', '_lookup'))"
   ]
  },
  {
   "cell_type": "code",
   "execution_count": 15,
   "id": "91deaddd",
   "metadata": {},
   "outputs": [],
   "source": [
    "acts_places = acts_places[acts_places['CTFIP'].isin(sfbay_counties)]"
   ]
  },
  {
   "cell_type": "code",
   "execution_count": 16,
   "id": "b7b3f38a",
   "metadata": {},
   "outputs": [
    {
     "data": {
      "text/plain": [
       "(86607, 258)"
      ]
     },
     "execution_count": 16,
     "metadata": {},
     "output_type": "execute_result"
    }
   ],
   "source": [
    "acts_places.shape"
   ]
  },
  {
   "cell_type": "code",
   "execution_count": 17,
   "id": "f524c92e",
   "metadata": {},
   "outputs": [],
   "source": [
    "acts_places = acts_places[acts_places['PNAME'] != 'HOME']"
   ]
  },
  {
   "cell_type": "code",
   "execution_count": 18,
   "id": "7bd643f0",
   "metadata": {},
   "outputs": [
    {
     "data": {
      "text/plain": [
       "(32810, 258)"
      ]
     },
     "execution_count": 18,
     "metadata": {},
     "output_type": "execute_result"
    }
   ],
   "source": [
    "acts_places.shape"
   ]
  },
  {
   "cell_type": "code",
   "execution_count": 19,
   "id": "56b6c338",
   "metadata": {},
   "outputs": [
    {
     "data": {
      "text/html": [
       "<div>\n",
       "<style scoped>\n",
       "    .dataframe tbody tr th:only-of-type {\n",
       "        vertical-align: middle;\n",
       "    }\n",
       "\n",
       "    .dataframe tbody tr th {\n",
       "        vertical-align: top;\n",
       "    }\n",
       "\n",
       "    .dataframe thead th {\n",
       "        text-align: right;\n",
       "    }\n",
       "</style>\n",
       "<table border=\"1\" class=\"dataframe\">\n",
       "  <thead>\n",
       "    <tr style=\"text-align: right;\">\n",
       "      <th></th>\n",
       "      <th>PERWGT_persons</th>\n",
       "      <th>TCFPERWGT_places</th>\n",
       "      <th>TCFPERWGT_acts_disc</th>\n",
       "    </tr>\n",
       "  </thead>\n",
       "  <tbody>\n",
       "    <tr>\n",
       "      <th>count</th>\n",
       "      <td>32810.000000</td>\n",
       "      <td>32432.000000</td>\n",
       "      <td>32432.000000</td>\n",
       "    </tr>\n",
       "    <tr>\n",
       "      <th>mean</th>\n",
       "      <td>0.812878</td>\n",
       "      <td>0.923496</td>\n",
       "      <td>0.923496</td>\n",
       "    </tr>\n",
       "    <tr>\n",
       "      <th>std</th>\n",
       "      <td>0.651369</td>\n",
       "      <td>0.784478</td>\n",
       "      <td>0.784478</td>\n",
       "    </tr>\n",
       "    <tr>\n",
       "      <th>min</th>\n",
       "      <td>0.005002</td>\n",
       "      <td>0.004229</td>\n",
       "      <td>0.004229</td>\n",
       "    </tr>\n",
       "    <tr>\n",
       "      <th>25%</th>\n",
       "      <td>0.411571</td>\n",
       "      <td>0.446500</td>\n",
       "      <td>0.446500</td>\n",
       "    </tr>\n",
       "    <tr>\n",
       "      <th>50%</th>\n",
       "      <td>0.645009</td>\n",
       "      <td>0.709160</td>\n",
       "      <td>0.709160</td>\n",
       "    </tr>\n",
       "    <tr>\n",
       "      <th>75%</th>\n",
       "      <td>0.988743</td>\n",
       "      <td>1.131216</td>\n",
       "      <td>1.131216</td>\n",
       "    </tr>\n",
       "    <tr>\n",
       "      <th>max</th>\n",
       "      <td>5.060090</td>\n",
       "      <td>10.490937</td>\n",
       "      <td>10.490937</td>\n",
       "    </tr>\n",
       "  </tbody>\n",
       "</table>\n",
       "</div>"
      ],
      "text/plain": [
       "       PERWGT_persons  TCFPERWGT_places  TCFPERWGT_acts_disc\n",
       "count    32810.000000      32432.000000         32432.000000\n",
       "mean         0.812878          0.923496             0.923496\n",
       "std          0.651369          0.784478             0.784478\n",
       "min          0.005002          0.004229             0.004229\n",
       "25%          0.411571          0.446500             0.446500\n",
       "50%          0.645009          0.709160             0.709160\n",
       "75%          0.988743          1.131216             1.131216\n",
       "max          5.060090         10.490937            10.490937"
      ]
     },
     "execution_count": 19,
     "metadata": {},
     "output_type": "execute_result"
    }
   ],
   "source": [
    "acts_places[['PERWGT_persons', 'TCFPERWGT_places', 'TCFPERWGT_acts_disc']].describe()"
   ]
  },
  {
   "cell_type": "code",
   "execution_count": 121,
   "id": "d0e6cbff",
   "metadata": {},
   "outputs": [],
   "source": [
    "obs_df = pd.merge(\n",
    "    acts_places[['SAMPN', 'AGE', 'EMPLY', 'HBLOCK', 'BLOCK']], chts_households[['SAMPN', 'INCOM', 'HHVEH', 'HHSIZ', 'HHLIC']], on='SAMPN')"
   ]
  },
  {
   "cell_type": "code",
   "execution_count": 122,
   "id": "bb61f649",
   "metadata": {},
   "outputs": [
    {
     "data": {
      "text/plain": [
       "(32810, 9)"
      ]
     },
     "execution_count": 122,
     "metadata": {},
     "output_type": "execute_result"
    }
   ],
   "source": [
    "obs_df.shape"
   ]
  },
  {
   "cell_type": "code",
   "execution_count": 123,
   "id": "9b460e04",
   "metadata": {},
   "outputs": [],
   "source": [
    "obs_df['HBLOCK'] = obs_df['HBLOCK'].astype(str).str.zfill(15)\n",
    "obs_df['BLOCK'] = obs_df['BLOCK'].astype(str).str.zfill(15)"
   ]
  },
  {
   "cell_type": "markdown",
   "id": "41afd308",
   "metadata": {},
   "source": [
    "## Get BEAM Block Group-level Skims"
   ]
  },
  {
   "cell_type": "code",
   "execution_count": 21,
   "id": "81f9839e",
   "metadata": {},
   "outputs": [],
   "source": [
    "all_files = glob.glob(\"/home/mgardner/PILATES/pilates/beam/beam_output/result*\")"
   ]
  },
  {
   "cell_type": "code",
   "execution_count": 54,
   "id": "7e99b5fc",
   "metadata": {},
   "outputs": [
    {
     "name": "stderr",
     "output_type": "stream",
     "text": [
      "100%|██████████████████████████████████████████████████████████████████████████████████████████████████████████████████| 26/26 [05:51<00:00, 13.53s/it]\n"
     ]
    }
   ],
   "source": [
    "chts_skims = pd.DataFrame()\n",
    "for file in tqdm(all_files):\n",
    "    skims = pd.read_csv(\n",
    "        file, usecols=['timePeriod', 'pathType', 'origin', 'destination','DIST_meters'], low_memory=False)\n",
    "    skims = skims[(skims['timePeriod'] == 'AM') & (skims['pathType'] == 'SOV')]\n",
    "    chts_skims = pd.concat((chts_skims, skims), ignore_index=True)"
   ]
  },
  {
   "cell_type": "code",
   "execution_count": 55,
   "id": "36ce9bc1",
   "metadata": {},
   "outputs": [],
   "source": [
    "chts_skims.to_csv('../data/chts_skims.csv', index=False)"
   ]
  },
  {
   "cell_type": "code",
   "execution_count": 220,
   "id": "c1784737",
   "metadata": {},
   "outputs": [],
   "source": [
    "chts_skims = pd.read_csv('../data/chts_skims.csv')"
   ]
  },
  {
   "cell_type": "markdown",
   "id": "a50ca342",
   "metadata": {},
   "source": [
    "## Create Alts from UrbanSim Block Data"
   ]
  },
  {
   "cell_type": "code",
   "execution_count": 198,
   "id": "f86294b9",
   "metadata": {},
   "outputs": [],
   "source": [
    "store = pd.HDFStore('/home/mgardner/PILATES/pilates/urbansim/data/custom_mpo_06197001_model_data.h5')\n",
    "blocks = store['blocks']"
   ]
  },
  {
   "cell_type": "code",
   "execution_count": 163,
   "id": "20be9d8e",
   "metadata": {},
   "outputs": [],
   "source": [
    "hh = store['households']"
   ]
  },
  {
   "cell_type": "code",
   "execution_count": 172,
   "id": "27c2f543",
   "metadata": {},
   "outputs": [],
   "source": [
    "pp_block = hh.groupby('block_id')['persons'].sum()"
   ]
  },
  {
   "cell_type": "code",
   "execution_count": 126,
   "id": "4771083e",
   "metadata": {},
   "outputs": [],
   "source": [
    "jobs = store['jobs']"
   ]
  },
  {
   "cell_type": "code",
   "execution_count": 125,
   "id": "29de71a5",
   "metadata": {},
   "outputs": [
    {
     "data": {
      "text/plain": [
       "(108469, 13)"
      ]
     },
     "execution_count": 125,
     "metadata": {},
     "output_type": "execute_result"
    }
   ],
   "source": [
    "blocks.shape"
   ]
  },
  {
   "cell_type": "code",
   "execution_count": 127,
   "id": "a9285e3d",
   "metadata": {},
   "outputs": [
    {
     "data": {
      "text/plain": [
       "array(['11', '21', '22', '23', '31-33', '42', '44-45', '48-49', '51',\n",
       "       '52', '53', '54', '55', '56', '61', '62', '71', '72', '81', '92'],\n",
       "      dtype=object)"
      ]
     },
     "execution_count": 127,
     "metadata": {},
     "output_type": "execute_result"
    }
   ],
   "source": [
    "jobs['sector_id'].unique()"
   ]
  },
  {
   "cell_type": "code",
   "execution_count": 128,
   "id": "00f30dd3",
   "metadata": {},
   "outputs": [],
   "source": [
    "retail_jobs = jobs[jobs['sector_id'] == '44-45'].groupby('block_id').count()"
   ]
  },
  {
   "cell_type": "code",
   "execution_count": 199,
   "id": "3045b3f4",
   "metadata": {},
   "outputs": [],
   "source": [
    "blocks = pd.merge(blocks, retail_jobs[['sector_id']], left_index=True, right_index=True, how='left').fillna(0)"
   ]
  },
  {
   "cell_type": "code",
   "execution_count": 200,
   "id": "e392a4bd",
   "metadata": {},
   "outputs": [],
   "source": [
    "blocks = pd.merge(blocks, pp_block, left_index=True, right_index=True, how='left').fillna(0)"
   ]
  },
  {
   "cell_type": "code",
   "execution_count": 201,
   "id": "143eb21f",
   "metadata": {},
   "outputs": [],
   "source": [
    "blocks['pop_density'] = blocks['persons'] / blocks['square_meters_land']"
   ]
  },
  {
   "cell_type": "code",
   "execution_count": 204,
   "id": "a9f679bd",
   "metadata": {},
   "outputs": [],
   "source": [
    "blocks = blocks[blocks['square_meters_land'] > 0]"
   ]
  },
  {
   "cell_type": "code",
   "execution_count": 205,
   "id": "90b26e4b",
   "metadata": {},
   "outputs": [],
   "source": [
    "blocks = blocks[['sector_id', 'pop_density']]"
   ]
  },
  {
   "cell_type": "code",
   "execution_count": 206,
   "id": "f58a68ee",
   "metadata": {},
   "outputs": [],
   "source": [
    "blocks.columns = ['retail_jobs', 'pop_density']"
   ]
  },
  {
   "cell_type": "code",
   "execution_count": 207,
   "id": "e69c4ee6",
   "metadata": {},
   "outputs": [
    {
     "data": {
      "text/plain": [
       "(106910, 2)"
      ]
     },
     "execution_count": 207,
     "metadata": {},
     "output_type": "execute_result"
    }
   ],
   "source": [
    "blocks.shape"
   ]
  },
  {
   "cell_type": "code",
   "execution_count": 208,
   "id": "544c0a01",
   "metadata": {},
   "outputs": [],
   "source": [
    "alts_df = blocks"
   ]
  },
  {
   "cell_type": "code",
   "execution_count": 209,
   "id": "259908d1",
   "metadata": {},
   "outputs": [],
   "source": [
    "alts_df['dest_block_grp'] = alts_df.index.str[0:12]"
   ]
  },
  {
   "cell_type": "markdown",
   "id": "54fd45fc",
   "metadata": {},
   "source": [
    "## Filter Choosers w/ Home Locations not in UrbanSim Block Data"
   ]
  },
  {
   "cell_type": "code",
   "execution_count": 133,
   "id": "5681d164",
   "metadata": {},
   "outputs": [],
   "source": [
    "obs_df = obs_df[obs_df['BLOCK'].isin(blocks.index)]"
   ]
  },
  {
   "cell_type": "code",
   "execution_count": 134,
   "id": "952a46f9",
   "metadata": {},
   "outputs": [
    {
     "data": {
      "text/plain": [
       "(32728, 9)"
      ]
     },
     "execution_count": 134,
     "metadata": {},
     "output_type": "execute_result"
    }
   ],
   "source": [
    "obs_df.shape"
   ]
  },
  {
   "cell_type": "code",
   "execution_count": 135,
   "id": "d01ba083",
   "metadata": {},
   "outputs": [],
   "source": [
    "obs_df = obs_df[obs_df['HBLOCK'].isin(blocks.index)]"
   ]
  },
  {
   "cell_type": "code",
   "execution_count": 136,
   "id": "d53d5899",
   "metadata": {},
   "outputs": [
    {
     "data": {
      "text/plain": [
       "(32696, 9)"
      ]
     },
     "execution_count": 136,
     "metadata": {},
     "output_type": "execute_result"
    }
   ],
   "source": [
    "obs_df.shape"
   ]
  },
  {
   "cell_type": "code",
   "execution_count": 137,
   "id": "e901038d",
   "metadata": {},
   "outputs": [],
   "source": [
    "obs_df['block_grp'] = obs_df['HBLOCK'].str[0:12]"
   ]
  },
  {
   "cell_type": "markdown",
   "id": "397988ba",
   "metadata": {},
   "source": [
    "## MNL Feature Extraction"
   ]
  },
  {
   "cell_type": "code",
   "execution_count": 138,
   "id": "bba9cd47",
   "metadata": {},
   "outputs": [],
   "source": [
    "obs_df['inc_lt_75k'] = obs_df['INCOM'] < 6\n",
    "obs_df['inc_gt_150k'] = obs_df['INCOM'] > 7\n",
    "obs_df['inc_gt_200k'] = obs_df['INCOM'] > 8"
   ]
  },
  {
   "cell_type": "code",
   "execution_count": 139,
   "id": "58cb8ff4",
   "metadata": {},
   "outputs": [],
   "source": [
    "obs_df['age_lt_18'] = obs_df['AGE'] < 18\n",
    "obs_df['age_gt_65'] = obs_df['AGE'] > 65"
   ]
  },
  {
   "cell_type": "code",
   "execution_count": 155,
   "id": "d66d92c1",
   "metadata": {},
   "outputs": [],
   "source": [
    "obs_df['hhveh_gt_1'] = obs_df['HHVEH'] > 1\n",
    "obs_df['hhveh_is_1'] = obs_df['HHVEH'] == 1\n",
    "obs_df['hhveh_is_0'] = obs_df['HHVEH'] == 0\n",
    "obs_df['hhveh_gt_0'] = obs_df['HHVEH'] > 0\n",
    "obs_df['veh_pp'] = obs_df['HHVEH'] / obs_df['HHSIZ']\n",
    "obs_df['veh_pp_gt_1'] = obs_df['veh_pp'] > 1\n",
    "obs_df['veh_per_driver'] = obs_df['HHVEH'] / obs_df['HHLIC']\n",
    "obs_df['veh_per_driver_gt_1'] = obs_df['veh_per_driver'] > 1"
   ]
  },
  {
   "cell_type": "markdown",
   "id": "fa108cdc",
   "metadata": {},
   "source": [
    "## Format Skims as Interaction Terms"
   ]
  },
  {
   "cell_type": "code",
   "execution_count": 230,
   "id": "4fc882c2",
   "metadata": {},
   "outputs": [],
   "source": [
    "chts_skims.rename(columns={'origin': 'block_grp', 'destination':'dest_block_grp'}, inplace=True)\n",
    "chts_skims['block_grp'] = chts_skims['block_grp'].astype(str).str.zfill(12)\n",
    "chts_skims['dest_block_grp'] = chts_skims['dest_block_grp'].astype(str).str.zfill(12)"
   ]
  },
  {
   "cell_type": "markdown",
   "id": "1b859290",
   "metadata": {},
   "source": [
    "#### Filter choosers/alts without origin/dest in skims"
   ]
  },
  {
   "cell_type": "code",
   "execution_count": 231,
   "id": "28d6c8d8",
   "metadata": {},
   "outputs": [],
   "source": [
    "obs_df = obs_df[obs_df['block_grp'].isin(chts_skims['block_grp'])]\n",
    "obs_df = obs_df[obs_df['BLOCK'].isin(alts_df.index)]\n",
    "\n",
    "alts_df = alts_df[alts_df['dest_block_grp'].isin(chts_skims['dest_block_grp'])]"
   ]
  },
  {
   "cell_type": "code",
   "execution_count": 233,
   "id": "e31af558",
   "metadata": {},
   "outputs": [],
   "source": [
    "chts_skims.set_index(['block_grp', 'dest_block_grp'], inplace=True)"
   ]
  },
  {
   "cell_type": "markdown",
   "id": "627350cc",
   "metadata": {},
   "source": [
    "## Create Merged Choice Table"
   ]
  },
  {
   "cell_type": "code",
   "execution_count": 145,
   "id": "13a7c8a7",
   "metadata": {},
   "outputs": [],
   "source": [
    "obs_df = obs_df[(obs_df['AGE'] < 98) & (obs_df['INCOM'] < 98) & (obs_df['HHSIZ'] < 98)]"
   ]
  },
  {
   "cell_type": "code",
   "execution_count": 234,
   "id": "c0a7d59e",
   "metadata": {},
   "outputs": [
    {
     "name": "stdout",
     "output_type": "stream",
     "text": [
      "CPU times: user 27.3 s, sys: 5.26 s, total: 32.6 s\n",
      "Wall time: 32.6 s\n"
     ]
    }
   ],
   "source": [
    "%%time \n",
    "mct = MergedChoiceTable(\n",
    "    obs_df, alts_df, chosen_alternatives='BLOCK', sample_size=1000, interaction_terms=chts_skims[['DIST_meters']])"
   ]
  },
  {
   "cell_type": "code",
   "execution_count": 235,
   "id": "417775e3",
   "metadata": {},
   "outputs": [],
   "source": [
    "mct_df = mct.to_frame().reset_index()"
   ]
  },
  {
   "cell_type": "markdown",
   "id": "68d5e568",
   "metadata": {},
   "source": [
    "#### Impute missing dists"
   ]
  },
  {
   "cell_type": "code",
   "execution_count": 236,
   "id": "dff15709",
   "metadata": {},
   "outputs": [],
   "source": [
    "counts = mct_df.groupby('obs_id')[['DIST_meters']].count()\n",
    "mean_dists = mct_df.groupby('obs_id')[['DIST_meters']].mean()\n",
    "\n",
    "mct_df = pd.merge(mct_df, counts, left_on='obs_id', right_index=True)\n",
    "mct_df = mct_df[mct_df['DIST_meters_y'] > 200]\n",
    "mct_df = pd.merge(mct_df, mean_dists, left_on='obs_id', right_index=True)\n",
    "mct_df['DIST_from_home'] = mct_df['DIST_meters_x'].copy()\n",
    "mct_df.loc[pd.isnull(mct_df['DIST_meters_x']), 'DIST_from_home'] = mct_df.loc[pd.isnull(mct_df['DIST_meters_x']), 'DIST_meters']\n",
    "mct_df = mct_df.sort_values(['obs_id', 'chosen'], ascending=False)\n",
    "mct_df = mct_df[[\n",
    "    'obs_id', 'block_id', 'age_lt_18', 'age_gt_65',\n",
    "    'inc_lt_75k', 'inc_gt_150k', 'veh_pp','veh_per_driver', 'veh_pp_gt_1', 'veh_per_driver_gt_1',\n",
    "    'hhveh_gt_1', 'hhveh_gt_0', 'hhveh_is_0', 'hhveh_is_1', 'retail_jobs','pop_density','DIST_from_home',\n",
    "    'chosen']].set_index(['obs_id', 'block_id'])"
   ]
  },
  {
   "cell_type": "code",
   "execution_count": 219,
   "id": "a97b517e",
   "metadata": {},
   "outputs": [
    {
     "data": {
      "text/html": [
       "<div>\n",
       "<style scoped>\n",
       "    .dataframe tbody tr th:only-of-type {\n",
       "        vertical-align: middle;\n",
       "    }\n",
       "\n",
       "    .dataframe tbody tr th {\n",
       "        vertical-align: top;\n",
       "    }\n",
       "\n",
       "    .dataframe thead th {\n",
       "        text-align: right;\n",
       "    }\n",
       "</style>\n",
       "<table border=\"1\" class=\"dataframe\">\n",
       "  <thead>\n",
       "    <tr style=\"text-align: right;\">\n",
       "      <th></th>\n",
       "      <th></th>\n",
       "      <th>age_lt_18</th>\n",
       "      <th>age_gt_65</th>\n",
       "      <th>inc_lt_75k</th>\n",
       "      <th>inc_gt_150k</th>\n",
       "      <th>veh_pp</th>\n",
       "      <th>veh_per_driver</th>\n",
       "      <th>veh_pp_gt_1</th>\n",
       "      <th>veh_per_driver_gt_1</th>\n",
       "      <th>hhveh_gt_1</th>\n",
       "      <th>hhveh_gt_0</th>\n",
       "      <th>hhveh_is_0</th>\n",
       "      <th>hhveh_is_1</th>\n",
       "      <th>retail_jobs</th>\n",
       "      <th>pop_density</th>\n",
       "      <th>DIST_from_home</th>\n",
       "      <th>chosen</th>\n",
       "    </tr>\n",
       "    <tr>\n",
       "      <th>obs_id</th>\n",
       "      <th>block_id</th>\n",
       "      <th></th>\n",
       "      <th></th>\n",
       "      <th></th>\n",
       "      <th></th>\n",
       "      <th></th>\n",
       "      <th></th>\n",
       "      <th></th>\n",
       "      <th></th>\n",
       "      <th></th>\n",
       "      <th></th>\n",
       "      <th></th>\n",
       "      <th></th>\n",
       "      <th></th>\n",
       "      <th></th>\n",
       "      <th></th>\n",
       "      <th></th>\n",
       "    </tr>\n",
       "  </thead>\n",
       "  <tbody>\n",
       "    <tr>\n",
       "      <th>28114</th>\n",
       "      <th>060855046011183</th>\n",
       "      <td>False</td>\n",
       "      <td>False</td>\n",
       "      <td>False</td>\n",
       "      <td>True</td>\n",
       "      <td>0.333333</td>\n",
       "      <td>0.500000</td>\n",
       "      <td>False</td>\n",
       "      <td>False</td>\n",
       "      <td>False</td>\n",
       "      <td>True</td>\n",
       "      <td>False</td>\n",
       "      <td>True</td>\n",
       "      <td>NaN</td>\n",
       "      <td>NaN</td>\n",
       "      <td>58503.149089</td>\n",
       "      <td>1</td>\n",
       "    </tr>\n",
       "    <tr>\n",
       "      <th>24515</th>\n",
       "      <th>060014511013308</th>\n",
       "      <td>False</td>\n",
       "      <td>False</td>\n",
       "      <td>False</td>\n",
       "      <td>False</td>\n",
       "      <td>0.666667</td>\n",
       "      <td>0.666667</td>\n",
       "      <td>False</td>\n",
       "      <td>False</td>\n",
       "      <td>True</td>\n",
       "      <td>True</td>\n",
       "      <td>False</td>\n",
       "      <td>False</td>\n",
       "      <td>NaN</td>\n",
       "      <td>NaN</td>\n",
       "      <td>70824.268802</td>\n",
       "      <td>1</td>\n",
       "    </tr>\n",
       "    <tr>\n",
       "      <th>10446</th>\n",
       "      <th>060855118003012</th>\n",
       "      <td>True</td>\n",
       "      <td>False</td>\n",
       "      <td>False</td>\n",
       "      <td>False</td>\n",
       "      <td>1.000000</td>\n",
       "      <td>1.000000</td>\n",
       "      <td>False</td>\n",
       "      <td>False</td>\n",
       "      <td>True</td>\n",
       "      <td>True</td>\n",
       "      <td>False</td>\n",
       "      <td>False</td>\n",
       "      <td>NaN</td>\n",
       "      <td>NaN</td>\n",
       "      <td>78604.878745</td>\n",
       "      <td>1</td>\n",
       "    </tr>\n",
       "    <tr>\n",
       "      <th>6657</th>\n",
       "      <th>060133500004032</th>\n",
       "      <td>False</td>\n",
       "      <td>False</td>\n",
       "      <td>False</td>\n",
       "      <td>True</td>\n",
       "      <td>1.000000</td>\n",
       "      <td>1.000000</td>\n",
       "      <td>False</td>\n",
       "      <td>False</td>\n",
       "      <td>True</td>\n",
       "      <td>True</td>\n",
       "      <td>False</td>\n",
       "      <td>False</td>\n",
       "      <td>NaN</td>\n",
       "      <td>NaN</td>\n",
       "      <td>58041.558345</td>\n",
       "      <td>1</td>\n",
       "    </tr>\n",
       "  </tbody>\n",
       "</table>\n",
       "</div>"
      ],
      "text/plain": [
       "                        age_lt_18  age_gt_65  inc_lt_75k  inc_gt_150k  \\\n",
       "obs_id block_id                                                         \n",
       "28114  060855046011183      False      False       False         True   \n",
       "24515  060014511013308      False      False       False        False   \n",
       "10446  060855118003012       True      False       False        False   \n",
       "6657   060133500004032      False      False       False         True   \n",
       "\n",
       "                          veh_pp  veh_per_driver  veh_pp_gt_1  \\\n",
       "obs_id block_id                                                 \n",
       "28114  060855046011183  0.333333        0.500000        False   \n",
       "24515  060014511013308  0.666667        0.666667        False   \n",
       "10446  060855118003012  1.000000        1.000000        False   \n",
       "6657   060133500004032  1.000000        1.000000        False   \n",
       "\n",
       "                        veh_per_driver_gt_1  hhveh_gt_1  hhveh_gt_0  \\\n",
       "obs_id block_id                                                       \n",
       "28114  060855046011183                False       False        True   \n",
       "24515  060014511013308                False        True        True   \n",
       "10446  060855118003012                False        True        True   \n",
       "6657   060133500004032                False        True        True   \n",
       "\n",
       "                        hhveh_is_0  hhveh_is_1  retail_jobs  pop_density  \\\n",
       "obs_id block_id                                                            \n",
       "28114  060855046011183       False        True          NaN          NaN   \n",
       "24515  060014511013308       False       False          NaN          NaN   \n",
       "10446  060855118003012       False       False          NaN          NaN   \n",
       "6657   060133500004032       False       False          NaN          NaN   \n",
       "\n",
       "                        DIST_from_home  chosen  \n",
       "obs_id block_id                                 \n",
       "28114  060855046011183    58503.149089       1  \n",
       "24515  060014511013308    70824.268802       1  \n",
       "10446  060855118003012    78604.878745       1  \n",
       "6657   060133500004032    58041.558345       1  "
      ]
     },
     "execution_count": 219,
     "metadata": {},
     "output_type": "execute_result"
    }
   ],
   "source": [
    "mct_df[pd.isnull(mct_df['pop_density'])]"
   ]
  },
  {
   "cell_type": "code",
   "execution_count": 237,
   "id": "9fa5eb24",
   "metadata": {},
   "outputs": [],
   "source": [
    "mct = MergedChoiceTable.from_df(mct_df)"
   ]
  },
  {
   "cell_type": "code",
   "execution_count": 238,
   "id": "5cbd6c41",
   "metadata": {
    "scrolled": false
   },
   "outputs": [
    {
     "name": "stdout",
     "output_type": "stream",
     "text": [
      "CPU times: user 3min 58s, sys: 4min 56s, total: 8min 55s\n",
      "Wall time: 57 s\n"
     ]
    },
    {
     "data": {
      "text/plain": [
       "                  CHOICEMODELS ESTIMATION RESULTS                   \n",
       "====================================================================\n",
       "Dep. Var.:                chosen   No. Observations:          28,783\n",
       "Model:         Multinomial Logit   Df Residuals:              28,775\n",
       "Method:       Maximum Likelihood   Df Model:                       8\n",
       "Date:                 2021-12-24   Pseudo R-squ.:              0.438\n",
       "Time:                      00:03   Pseudo R-bar-squ.:          0.437\n",
       "AIC:                 223,688.832   Log-Likelihood:      -111,836.416\n",
       "BIC:                 223,754.972   LL-Null:             -198,825.920\n",
       "===================================================================================================\n",
       "                                                 coef   std err            z     P>|z|   Conf. Int.\n",
       "---------------------------------------------------------------------------------------------------\n",
       "np.log1p(retail_jobs)                          0.7061     0.003      238.257     0.000             \n",
       "np.log1p(pop_density)                        -33.4516     0.871      -38.393     0.000             \n",
       "np.log(DIST_from_home)                        -1.5043     0.001   -1,069.069     0.000             \n",
       "np.log(DIST_from_home):veh_pp_gt_1[T.True]     0.1037     0.003       40.986     0.000             \n",
       "np.log(DIST_from_home):inc_lt_75k[T.True]     -0.0629     0.002      -37.261     0.000             \n",
       "np.log(DIST_from_home):inc_gt_150k[T.True]     0.0291     0.002       16.627     0.000             \n",
       "np.log(DIST_from_home):age_lt_18[T.True]      -0.1076     0.002      -52.600     0.000             \n",
       "np.log(DIST_from_home):age_gt_65[T.True]      -0.0617     0.002      -29.229     0.000             \n",
       "==================================================================================================="
      ]
     },
     "execution_count": 238,
     "metadata": {},
     "output_type": "execute_result"
    }
   ],
   "source": [
    "%%time\n",
    "results = MultinomialLogit(\n",
    "    mct,\n",
    "    model_expression='np.log1p(retail_jobs) + np.log1p(pop_density) + (np.log(DIST_from_home) / (veh_pp_gt_1 + inc_lt_75k + inc_gt_150k + age_lt_18 + age_gt_65)) - 1')\n",
    "results.fit()"
   ]
  },
  {
   "cell_type": "code",
   "execution_count": 107,
   "id": "45986092",
   "metadata": {},
   "outputs": [
    {
     "name": "stdout",
     "output_type": "stream",
     "text": [
      "CPU times: user 3min 39s, sys: 4min 29s, total: 8min 8s\n",
      "Wall time: 52 s\n"
     ]
    },
    {
     "data": {
      "text/plain": [
       "                  CHOICEMODELS ESTIMATION RESULTS                   \n",
       "====================================================================\n",
       "Dep. Var.:                chosen   No. Observations:          28,787\n",
       "Model:         Multinomial Logit   Df Residuals:              28,779\n",
       "Method:       Maximum Likelihood   Df Model:                       8\n",
       "Date:                 2021-12-23   Pseudo R-squ.:              0.438\n",
       "Time:                      23:16   Pseudo R-bar-squ.:          0.437\n",
       "AIC:                 223,710.714   Log-Likelihood:      -111,847.357\n",
       "BIC:                 223,776.855   LL-Null:             -198,853.551\n",
       "================================================================================================\n",
       "                                                coef   std err          z     P>|z|   Conf. Int.\n",
       "------------------------------------------------------------------------------------------------\n",
       "np.log1p(retail_jobs)                         0.7148     0.003    241.544     0.000             \n",
       "np.log(DIST_from_home)                       -1.5654     0.002   -728.080     0.000             \n",
       "np.log(DIST_from_home):hhveh_gt_1[T.True]    -0.0076     0.002     -4.110     0.000             \n",
       "np.log(DIST_from_home):inc_lt_75k[T.True]    -0.0421     0.002    -24.299     0.000             \n",
       "np.log(DIST_from_home):inc_gt_150k[T.True]    0.0059     0.002      3.333     0.001             \n",
       "np.log(DIST_from_home):age_lt_18[T.True]     -0.0882     0.002    -41.564     0.000             \n",
       "np.log(DIST_from_home):age_gt_65[T.True]     -0.0807     0.002    -37.835     0.000             \n",
       "np.log(DIST_from_home):veh_pp                 0.1032     0.002     54.916     0.000             \n",
       "================================================================================================"
      ]
     },
     "execution_count": 107,
     "metadata": {},
     "output_type": "execute_result"
    }
   ],
   "source": [
    "%%time\n",
    "results = MultinomialLogit(\n",
    "    mct,\n",
    "    model_expression='np.log1p(retail_jobs) + (np.log(DIST_from_home) / (hhveh_gt_1 + veh_pp + inc_lt_75k + inc_gt_150k + age_lt_18 + age_gt_65)) - 1')\n",
    "results.fit()"
   ]
  }
 ],
 "metadata": {
  "kernelspec": {
   "display_name": "Python [conda env:proba]",
   "language": "python",
   "name": "conda-env-proba-py"
  },
  "language_info": {
   "codemirror_mode": {
    "name": "ipython",
    "version": 3
   },
   "file_extension": ".py",
   "mimetype": "text/x-python",
   "name": "python",
   "nbconvert_exporter": "python",
   "pygments_lexer": "ipython3",
   "version": "3.9.6"
  }
 },
 "nbformat": 4,
 "nbformat_minor": 5
}
