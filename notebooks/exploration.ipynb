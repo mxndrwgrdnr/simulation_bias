{
 "cells": [
  {
   "cell_type": "code",
   "execution_count": 44,
   "id": "ee650852",
   "metadata": {},
   "outputs": [],
   "source": [
    "import pandas as pd\n",
    "from choicemodels import MultinomialLogit, MultinomialLogitResults\n",
    "from choicemodels.tools import MergedChoiceTable"
   ]
  },
  {
   "cell_type": "code",
   "execution_count": 24,
   "id": "7a07a302",
   "metadata": {},
   "outputs": [],
   "source": [
    "# store = pd.HDFStore('../data/custom_mpo_06197001_model_data.h5')\n",
    "# hh = store['households']\n",
    "# blocks = store['blocks']\n",
    "# persons = store['persons']"
   ]
  },
  {
   "cell_type": "code",
   "execution_count": 25,
   "id": "0823a3b0",
   "metadata": {},
   "outputs": [],
   "source": [
    "hh['own'] = hh['tenure'] == 1\n",
    "hh['tract_id'] = hh['block_id'].str[:11]"
   ]
  },
  {
   "cell_type": "code",
   "execution_count": 26,
   "id": "389ad419",
   "metadata": {},
   "outputs": [],
   "source": [
    "hh.to_csv('households.csv')"
   ]
  },
  {
   "cell_type": "code",
   "execution_count": 27,
   "id": "370dac84",
   "metadata": {},
   "outputs": [],
   "source": [
    "hh = pd.read_csv('households.csv', index_col=0, dtype={'block_id':str})"
   ]
  },
  {
   "cell_type": "code",
   "execution_count": 31,
   "id": "54a599eb",
   "metadata": {},
   "outputs": [],
   "source": [
    "hh_w_blocks = hh.merge(blocks[[col for col in blocks.columns if col != 'tract_id']], left_on='block_id', right_index=True)"
   ]
  },
  {
   "cell_type": "code",
   "execution_count": 32,
   "id": "b719f4ec",
   "metadata": {},
   "outputs": [],
   "source": [
    "hh_tracts = hh_w_blocks.groupby('tract_id').agg(\n",
    "    avg_hh_income=('income', 'mean'),\n",
    "    total_cars=('cars', 'sum'),\n",
    "    total_persons=('persons', 'sum'),\n",
    "    total_households=('persons', 'count'),\n",
    "    total_workers=('workers','sum'),\n",
    "    total_owners=('own','sum'),\n",
    "    total_land=('square_meters_land','sum')\n",
    ")"
   ]
  },
  {
   "cell_type": "code",
   "execution_count": 33,
   "id": "576a89ad",
   "metadata": {},
   "outputs": [],
   "source": [
    "persons['white'] = persons['race'] == 'white'"
   ]
  },
  {
   "cell_type": "code",
   "execution_count": 34,
   "id": "c07b411d",
   "metadata": {},
   "outputs": [],
   "source": [
    "p_w_blocks = pd.merge(persons, hh_w_blocks[blocks.columns], left_on='household_id', right_index=True)"
   ]
  },
  {
   "cell_type": "code",
   "execution_count": 35,
   "id": "515d71b5",
   "metadata": {},
   "outputs": [],
   "source": [
    "p_tracts = p_w_blocks.groupby('tract_id').agg(\n",
    "    avg_age=('age','mean'),\n",
    "    total_white=('white','sum'),\n",
    ")"
   ]
  },
  {
   "cell_type": "code",
   "execution_count": 36,
   "id": "9c07bd88",
   "metadata": {},
   "outputs": [],
   "source": [
    "p_hh_tract = pd.merge(p_tracts, hh_tracts, left_index=True, right_index=True)"
   ]
  },
  {
   "cell_type": "code",
   "execution_count": 37,
   "id": "e708d31b",
   "metadata": {},
   "outputs": [],
   "source": [
    "p_hh_tract.eval('pop_density = total_persons / total_land', inplace=True)\n",
    "p_hh_tract.eval('pct_white = total_white / total_persons', inplace=True)\n",
    "p_hh_tract.eval('pct_hh_own = total_owners / total_persons', inplace=True)"
   ]
  },
  {
   "cell_type": "code",
   "execution_count": 39,
   "id": "7e1bfa51",
   "metadata": {},
   "outputs": [],
   "source": [
    "p_hh_tract.to_csv('tracts.csv')"
   ]
  },
  {
   "cell_type": "code",
   "execution_count": 40,
   "id": "7647d555",
   "metadata": {},
   "outputs": [],
   "source": [
    "obs_sample_size = 1000"
   ]
  },
  {
   "cell_type": "code",
   "execution_count": 41,
   "id": "22fc347e",
   "metadata": {},
   "outputs": [],
   "source": [
    "mct = MergedChoiceTable(hh.sample(obs_sample_size), p_hh_tract, chosen_alternatives='tract_id')"
   ]
  },
  {
   "cell_type": "code",
   "execution_count": 52,
   "id": "cd97ec9b",
   "metadata": {},
   "outputs": [],
   "source": [
    "results = MultinomialLogit(\n",
    "    mct, model_expression='income*avg_hh_income + cars + age_of_head + own*pct_hh_own + sf_detached*pct_white')"
   ]
  },
  {
   "cell_type": "code",
   "execution_count": 53,
   "id": "566d3c49",
   "metadata": {},
   "outputs": [
    {
     "name": "stderr",
     "output_type": "stream",
     "text": [
      "WARNING:choicemodels.mnl:mnl did not converge correctly: (array([0., 0., 0., 0., 0., 0., 0., 0., 0., 0., 0., 0.]), array([[7363.91350141]]), {'grad': array([-2.35194069e-12, -1.34669728e-12, -1.31982988e-12, -1.26451951e-08,\n",
      "       -2.54636932e+06, -2.26687872e+12, -3.18253431e-12, -2.97040170e-11,\n",
      "       -3.74445228e+00, -1.94968614e+01, -1.84348747e+01, -2.70544990e+01]), 'task': 'ABNORMAL_TERMINATION_IN_LNSRCH', 'funcalls': 21, 'nit': 0, 'warnflag': 2})\n"
     ]
    }
   ],
   "source": [
    "model = results.fit()"
   ]
  },
  {
   "cell_type": "code",
   "execution_count": 54,
   "id": "b1e5f0f4",
   "metadata": {},
   "outputs": [
    {
     "data": {
      "text/plain": [
       "                  CHOICEMODELS ESTIMATION RESULTS                  \n",
       "===================================================================\n",
       "Dep. Var.:                chosen   No. Observations:          1,000\n",
       "Model:         Multinomial Logit   Df Residuals:                988\n",
       "Method:       Maximum Likelihood   Df Model:                     12\n",
       "Date:                 2021-09-19   Pseudo R-squ.:             0.000\n",
       "Time:                      02:12   Pseudo R-bar-squ.:        -0.002\n",
       "AIC:                  14,751.827   Log-Likelihood:       -7,363.914\n",
       "BIC:                  14,810.720   LL-Null:              -7,363.914\n",
       "=================================================================================\n",
       "                                  coef   std err         z     P>|z|   Conf. Int.\n",
       "---------------------------------------------------------------------------------\n",
       "Intercept                       0.0000     0.203     0.000     1.000             \n",
       "own[T.True]                     0.0000     0.199     0.000     1.000             \n",
       "sf_detached[T.yes]              0.0000     0.201     0.000     1.000             \n",
       "income                          0.0000     0.000     0.000     1.000             \n",
       "avg_hh_income                   0.0000     0.000     0.000     1.000             \n",
       "income:avg_hh_income            0.0000     0.000     0.000     1.000             \n",
       "cars                            0.0000     0.034     0.000     1.000             \n",
       "age_of_head                     0.0000     0.002     0.000     1.000             \n",
       "pct_hh_own                      0.0000     0.681     0.000     1.000             \n",
       "own[T.True]:pct_hh_own          0.0000     0.835     0.000     1.000             \n",
       "pct_white                       0.0000     0.239     0.000     1.000             \n",
       "sf_detached[T.yes]:pct_white    0.0000     0.311     0.000     1.000             \n",
       "================================================================================="
      ]
     },
     "execution_count": 54,
     "metadata": {},
     "output_type": "execute_result"
    }
   ],
   "source": [
    "model"
   ]
  },
  {
   "cell_type": "code",
   "execution_count": 45,
   "id": "38145c7d",
   "metadata": {},
   "outputs": [
    {
     "ename": "AttributeError",
     "evalue": "'MultinomialLogit' object has no attribute 'probabilities'",
     "output_type": "error",
     "traceback": [
      "\u001b[0;31m---------------------------------------------------------------------------\u001b[0m",
      "\u001b[0;31mAttributeError\u001b[0m                            Traceback (most recent call last)",
      "\u001b[0;32m/tmp/ipykernel_85296/45608700.py\u001b[0m in \u001b[0;36m<module>\u001b[0;34m\u001b[0m\n\u001b[0;32m----> 1\u001b[0;31m \u001b[0mresults\u001b[0m\u001b[0;34m.\u001b[0m\u001b[0mprobabilities\u001b[0m\u001b[0;34m(\u001b[0m\u001b[0mmct\u001b[0m\u001b[0;34m)\u001b[0m\u001b[0;34m\u001b[0m\u001b[0;34m\u001b[0m\u001b[0m\n\u001b[0m",
      "\u001b[0;31mAttributeError\u001b[0m: 'MultinomialLogit' object has no attribute 'probabilities'"
     ]
    }
   ],
   "source": [
    "MultinomialLogitResults(probabilities(mct)"
   ]
  },
  {
   "cell_type": "code",
   "execution_count": null,
   "id": "7e54bc52",
   "metadata": {},
   "outputs": [],
   "source": []
  }
 ],
 "metadata": {
  "kernelspec": {
   "display_name": "Python [conda env:proba] *",
   "language": "python",
   "name": "conda-env-proba-py"
  },
  "language_info": {
   "codemirror_mode": {
    "name": "ipython",
    "version": 3
   },
   "file_extension": ".py",
   "mimetype": "text/x-python",
   "name": "python",
   "nbconvert_exporter": "python",
   "pygments_lexer": "ipython3",
   "version": "3.9.6"
  }
 },
 "nbformat": 4,
 "nbformat_minor": 5
}
